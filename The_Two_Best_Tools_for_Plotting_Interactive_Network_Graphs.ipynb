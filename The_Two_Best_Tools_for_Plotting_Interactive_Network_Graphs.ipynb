{
  "nbformat": 4,
  "nbformat_minor": 0,
  "metadata": {
    "colab": {
      "provenance": [],
      "authorship_tag": "ABX9TyMibbhFRqjzgla0Tr3kzmIM"
    },
    "kernelspec": {
      "name": "python3",
      "display_name": "Python 3"
    },
    "language_info": {
      "name": "python"
    },
    "widgets": {
      "application/vnd.jupyter.widget-state+json": {
        "e830ca13501d47c593686961887b245b": {
          "model_module": "ipysigma",
          "model_name": "SigmaModel",
          "model_module_version": "^0.24.2",
          "state": {
            "_dom_classes": [],
            "_model_module": "ipysigma",
            "_model_module_version": "^0.24.2",
            "_model_name": "SigmaModel",
            "_view_count": null,
            "_view_module": "ipysigma",
            "_view_module_version": "^0.24.2",
            "_view_name": "SigmaView",
            "background_color": "grey",
            "camera_state": {
              "x": 1.1639603348357308,
              "y": 0.02029147343101881,
              "angle": 0,
              "ratio": 2.0531998700040233
            },
            "clickable_edges": false,
            "data": {
              "nodes": [
                {
                  "key": 0,
                  "attributes": {
                    "degree": 14,
                    "betweenness_centrality": 0.42794582118561714,
                    "feature1": 0.313514438982195,
                    "feature2": 34,
                    "feature3": 0,
                    "node_identifier": "5d021c91-4a53-423b-9ecc-50028c7bf6ad"
                  }
                },
                {
                  "key": 1,
                  "attributes": {
                    "degree": 2,
                    "betweenness_centrality": 0,
                    "feature1": 0.5876920304641214,
                    "feature2": 85,
                    "feature3": 1,
                    "node_identifier": "f12e1074-d5de-4ab6-843e-2f91ad356153"
                  }
                },
                {
                  "key": 2,
                  "attributes": {
                    "degree": 4,
                    "betweenness_centrality": 0.02956754130223518,
                    "feature1": 0.49278030884870627,
                    "feature2": 14,
                    "feature3": 0,
                    "node_identifier": "15d5104a-7cd7-4a0c-b505-04cf07967ad0"
                  }
                },
                {
                  "key": 3,
                  "attributes": {
                    "degree": 11,
                    "betweenness_centrality": 0.29690030774214465,
                    "feature1": 0.07495117603511225,
                    "feature2": 1,
                    "feature3": 1,
                    "node_identifier": "110aa4a7-d15f-4889-8bcb-31824bc259e9"
                  }
                },
                {
                  "key": 4,
                  "attributes": {
                    "degree": 3,
                    "betweenness_centrality": 0.04209183673469386,
                    "feature1": 0.2600015346837319,
                    "feature2": 55,
                    "feature3": 0,
                    "node_identifier": "198f8ab4-290f-4ccf-9d31-9233311b2b42"
                  }
                },
                {
                  "key": 5,
                  "attributes": {
                    "degree": 8,
                    "betweenness_centrality": 0.14867589893100094,
                    "feature1": 0.8693282462509209,
                    "feature2": 92,
                    "feature3": 0,
                    "node_identifier": "42f81085-b45a-442f-9237-93cc6dd4de00"
                  }
                },
                {
                  "key": 6,
                  "attributes": {
                    "degree": 5,
                    "betweenness_centrality": 0.06757167152575315,
                    "feature1": 0.47110275147736225,
                    "feature2": 21,
                    "feature3": 0,
                    "node_identifier": "a0fb31f1-372b-47d4-bf9e-4ba4880dd273"
                  }
                },
                {
                  "key": 7,
                  "attributes": {
                    "degree": 2,
                    "betweenness_centrality": 0.004575639779721411,
                    "feature1": 0.8732833487985474,
                    "feature2": 37,
                    "feature3": 1,
                    "node_identifier": "b6d8489d-9d20-4804-9e5d-f30c0d5c6914"
                  }
                },
                {
                  "key": 8,
                  "attributes": {
                    "degree": 1,
                    "betweenness_centrality": 0,
                    "feature1": 0.001076820017954283,
                    "feature2": 84,
                    "feature3": 1,
                    "node_identifier": "0ac7cc78-ca21-4d0a-917d-f1051679f754"
                  }
                },
                {
                  "key": 9,
                  "attributes": {
                    "degree": 7,
                    "betweenness_centrality": 0.15818351149983803,
                    "feature1": 0.35617515606138106,
                    "feature2": 73,
                    "feature3": 1,
                    "node_identifier": "abc2e8f4-66d1-447a-8a64-d83720dcde53"
                  }
                },
                {
                  "key": 10,
                  "attributes": {
                    "degree": 1,
                    "betweenness_centrality": 0,
                    "feature1": 0.4784461407702957,
                    "feature2": 29,
                    "feature3": 1,
                    "node_identifier": "baf9d7e2-7fae-48f1-838e-685264191279"
                  }
                },
                {
                  "key": 11,
                  "attributes": {
                    "degree": 14,
                    "betweenness_centrality": 0.41965298023971487,
                    "feature1": 0.4143426700647225,
                    "feature2": 46,
                    "feature3": 1,
                    "node_identifier": "5553d636-01bb-4ded-a47d-e3c60ed1f9b7"
                  }
                },
                {
                  "key": 12,
                  "attributes": {
                    "degree": 1,
                    "betweenness_centrality": 0,
                    "feature1": 0.022114973155550333,
                    "feature2": 22,
                    "feature3": 0,
                    "node_identifier": "79417059-ef12-4e40-83b2-086daa920520"
                  }
                },
                {
                  "key": 13,
                  "attributes": {
                    "degree": 1,
                    "betweenness_centrality": 0,
                    "feature1": 0.2581588077295933,
                    "feature2": 66,
                    "feature3": 1,
                    "node_identifier": "867342d5-242c-4d15-aa96-15c0cac4f60d"
                  }
                },
                {
                  "key": 14,
                  "attributes": {
                    "degree": 2,
                    "betweenness_centrality": 0.00619533527696793,
                    "feature1": 0.06577186441253113,
                    "feature2": 0,
                    "feature3": 1,
                    "node_identifier": "1fda1272-33e0-4459-be40-b947547dab14"
                  }
                },
                {
                  "key": 15,
                  "attributes": {
                    "degree": 1,
                    "betweenness_centrality": 0,
                    "feature1": 0.20311453339489416,
                    "feature2": 46,
                    "feature3": 1,
                    "node_identifier": "3c81b1e6-c575-42ea-8569-a2389da11976"
                  }
                },
                {
                  "key": 16,
                  "attributes": {
                    "degree": 2,
                    "betweenness_centrality": 0.014796930677032716,
                    "feature1": 0.8408932032290808,
                    "feature2": 80,
                    "feature3": 0,
                    "node_identifier": "3095bd83-1d85-4017-91bc-66ec60c5f2d2"
                  }
                },
                {
                  "key": 17,
                  "attributes": {
                    "degree": 4,
                    "betweenness_centrality": 0.0595734126984127,
                    "feature1": 0.4111507558691424,
                    "feature2": 47,
                    "feature3": 1,
                    "node_identifier": "f926aafa-5804-4a53-be85-881f8d4a90a7"
                  }
                },
                {
                  "key": 18,
                  "attributes": {
                    "degree": 1,
                    "betweenness_centrality": 0,
                    "feature1": 0.955902730361515,
                    "feature2": 87,
                    "feature3": 1,
                    "node_identifier": "c7256bf9-6ab6-4b98-9942-59f5185b61d1"
                  }
                },
                {
                  "key": 19,
                  "attributes": {
                    "degree": 1,
                    "betweenness_centrality": 0,
                    "feature1": 0.6008366106068842,
                    "feature2": 55,
                    "feature3": 1,
                    "node_identifier": "32049b3c-19d3-411b-9c61-0c8605621690"
                  }
                },
                {
                  "key": 20,
                  "attributes": {
                    "degree": 1,
                    "betweenness_centrality": 0,
                    "feature1": 0.5455280250471183,
                    "feature2": 97,
                    "feature3": 1,
                    "node_identifier": "132d94a8-3198-4ddd-a232-776ba94b0344"
                  }
                },
                {
                  "key": 21,
                  "attributes": {
                    "degree": 2,
                    "betweenness_centrality": 0.008078231292517007,
                    "feature1": 0.0798238768246804,
                    "feature2": 46,
                    "feature3": 1,
                    "node_identifier": "b9dd58a2-9f2a-4557-9584-338ea32b3ba6"
                  }
                },
                {
                  "key": 22,
                  "attributes": {
                    "degree": 2,
                    "betweenness_centrality": 0.020918367346938777,
                    "feature1": 0.5714799886423773,
                    "feature2": 75,
                    "feature3": 1,
                    "node_identifier": "fc411cbd-6aca-4d8f-a5ed-0c3a81019445"
                  }
                },
                {
                  "key": 23,
                  "attributes": {
                    "degree": 5,
                    "betweenness_centrality": 0.07059037900874639,
                    "feature1": 0.9675110482811737,
                    "feature2": 47,
                    "feature3": 1,
                    "node_identifier": "52e2bd95-cc5f-46d2-91c4-9f2dcd067f87"
                  }
                },
                {
                  "key": 24,
                  "attributes": {
                    "degree": 3,
                    "betweenness_centrality": 0.08503401360544217,
                    "feature1": 0.8030097886312608,
                    "feature2": 59,
                    "feature3": 0,
                    "node_identifier": "0069e4cb-f412-42b8-a52e-a58f9d41d6cd"
                  }
                },
                {
                  "key": 25,
                  "attributes": {
                    "degree": 3,
                    "betweenness_centrality": 0.08366739552964042,
                    "feature1": 0.3617870228030219,
                    "feature2": 47,
                    "feature3": 1,
                    "node_identifier": "05f59237-8e84-42a1-9800-f5c6309c53ef"
                  }
                },
                {
                  "key": 26,
                  "attributes": {
                    "degree": 2,
                    "betweenness_centrality": 0,
                    "feature1": 0.9961416119026265,
                    "feature2": 46,
                    "feature3": 1,
                    "node_identifier": "b4f75a44-78ce-4f66-91e7-1f39a98cc344"
                  }
                },
                {
                  "key": 27,
                  "attributes": {
                    "degree": 1,
                    "betweenness_centrality": 0,
                    "feature1": 0.8443411119500763,
                    "feature2": 62,
                    "feature3": 1,
                    "node_identifier": "dd73014b-79c0-4699-ba88-6937e91edca9"
                  }
                },
                {
                  "key": 28,
                  "attributes": {
                    "degree": 1,
                    "betweenness_centrality": 0,
                    "feature1": 0.5077014956107231,
                    "feature2": 71,
                    "feature3": 1,
                    "node_identifier": "89afe45c-dd3b-422f-8e99-39d2ee7c4a77"
                  }
                },
                {
                  "key": 29,
                  "attributes": {
                    "degree": 3,
                    "betweenness_centrality": 0.017436022027858763,
                    "feature1": 0.8693884206073523,
                    "feature2": 21,
                    "feature3": 1,
                    "node_identifier": "c011da85-43dd-4e8b-bed5-4cf652574571"
                  }
                },
                {
                  "key": 30,
                  "attributes": {
                    "degree": 1,
                    "betweenness_centrality": 0,
                    "feature1": 0.014757436596985807,
                    "feature2": 95,
                    "feature3": 1,
                    "node_identifier": "c964e577-737b-47ed-adbd-6e73a3d7f447"
                  }
                },
                {
                  "key": 31,
                  "attributes": {
                    "degree": 1,
                    "betweenness_centrality": 0,
                    "feature1": 0.4317978463530284,
                    "feature2": 73,
                    "feature3": 0,
                    "node_identifier": "b0d2ca79-26f8-489a-ba32-e6fc83b91562"
                  }
                },
                {
                  "key": 32,
                  "attributes": {
                    "degree": 3,
                    "betweenness_centrality": 0.04209183673469387,
                    "feature1": 0.33915089392498254,
                    "feature2": 33,
                    "feature3": 1,
                    "node_identifier": "7313697b-a312-4812-aee5-c38161b0ba39"
                  }
                },
                {
                  "key": 33,
                  "attributes": {
                    "degree": 2,
                    "betweenness_centrality": 0.0056689342403628135,
                    "feature1": 0.4588060839525214,
                    "feature2": 75,
                    "feature3": 0,
                    "node_identifier": "aa06c92d-747f-44b0-aebf-8155c8b263af"
                  }
                },
                {
                  "key": 34,
                  "attributes": {
                    "degree": 1,
                    "betweenness_centrality": 0,
                    "feature1": 0.6813567763727526,
                    "feature2": 97,
                    "feature3": 0,
                    "node_identifier": "cbf3b3ed-f1e3-4f53-8426-3a784b97caf5"
                  }
                },
                {
                  "key": 35,
                  "attributes": {
                    "degree": 1,
                    "betweenness_centrality": 0,
                    "feature1": 0.8455469189389717,
                    "feature2": 80,
                    "feature3": 0,
                    "node_identifier": "236e1707-177c-4170-8f34-a0669e5a17e0"
                  }
                },
                {
                  "key": 36,
                  "attributes": {
                    "degree": 1,
                    "betweenness_centrality": 0,
                    "feature1": 0.7551039768482263,
                    "feature2": 65,
                    "feature3": 1,
                    "node_identifier": "69491d3d-1d57-4f4a-9a50-91f26761d439"
                  }
                },
                {
                  "key": 37,
                  "attributes": {
                    "degree": 2,
                    "betweenness_centrality": 0.04081632653061224,
                    "feature1": 0.47122325967803314,
                    "feature2": 94,
                    "feature3": 0,
                    "node_identifier": "f5de56b3-3ff2-40a5-bffc-f05270354849"
                  }
                },
                {
                  "key": 38,
                  "attributes": {
                    "degree": 1,
                    "betweenness_centrality": 0,
                    "feature1": 0.7177037398319236,
                    "feature2": 4,
                    "feature3": 0,
                    "node_identifier": "0f1ab607-c5a7-4900-8fc4-73bcffa27f42"
                  }
                },
                {
                  "key": 39,
                  "attributes": {
                    "degree": 2,
                    "betweenness_centrality": 0.010734531908001298,
                    "feature1": 0.733624032542741,
                    "feature2": 19,
                    "feature3": 0,
                    "node_identifier": "19bfff00-9ad2-4078-ac9c-4f209500e753"
                  }
                },
                {
                  "key": 40,
                  "attributes": {
                    "degree": 2,
                    "betweenness_centrality": 0.04081632653061224,
                    "feature1": 0.3003773515961422,
                    "feature2": 74,
                    "feature3": 0,
                    "node_identifier": "c82652e8-9df2-41f7-bf9f-e6e7eed28a41"
                  }
                },
                {
                  "key": 41,
                  "attributes": {
                    "degree": 2,
                    "betweenness_centrality": 0.003755668934240363,
                    "feature1": 0.4458809025192416,
                    "feature2": 56,
                    "feature3": 0,
                    "node_identifier": "3e96c9e2-03df-4897-94dd-77af3e88a88f"
                  }
                },
                {
                  "key": 42,
                  "attributes": {
                    "degree": 1,
                    "betweenness_centrality": 0,
                    "feature1": 0.5224039097664281,
                    "feature2": 17,
                    "feature3": 1,
                    "node_identifier": "1f6db61d-936d-4be2-9f88-f1044d73ef1d"
                  }
                },
                {
                  "key": 43,
                  "attributes": {
                    "degree": 3,
                    "betweenness_centrality": 0.012514172335600905,
                    "feature1": 0.6396302038430165,
                    "feature2": 46,
                    "feature3": 1,
                    "node_identifier": "24b6e217-5b52-48be-b63d-e5fc2d26fb34"
                  }
                },
                {
                  "key": 44,
                  "attributes": {
                    "degree": 1,
                    "betweenness_centrality": 0,
                    "feature1": 0.23972790471100536,
                    "feature2": 59,
                    "feature3": 1,
                    "node_identifier": "59a5813c-690f-4c2b-b66e-14fd6a615e96"
                  }
                },
                {
                  "key": 45,
                  "attributes": {
                    "degree": 1,
                    "betweenness_centrality": 0,
                    "feature1": 0.7122637939011088,
                    "feature2": 90,
                    "feature3": 0,
                    "node_identifier": "b5c30477-1fc7-4736-af40-51681945df0c"
                  }
                },
                {
                  "key": 46,
                  "attributes": {
                    "degree": 1,
                    "betweenness_centrality": 0,
                    "feature1": 0.12720529440131323,
                    "feature2": 36,
                    "feature3": 0,
                    "node_identifier": "f721fd5f-a13e-4bcd-af0a-3077293de8d9"
                  }
                },
                {
                  "key": 47,
                  "attributes": {
                    "degree": 2,
                    "betweenness_centrality": 0.0037455458373825724,
                    "feature1": 0.5731943387251144,
                    "feature2": 82,
                    "feature3": 0,
                    "node_identifier": "20206ac3-293b-4bd8-bb57-cc2d5e09fadf"
                  }
                },
                {
                  "key": 48,
                  "attributes": {
                    "degree": 1,
                    "betweenness_centrality": 0,
                    "feature1": 0.9407862918410909,
                    "feature2": 75,
                    "feature3": 0,
                    "node_identifier": "e3874231-c5be-4943-b2a7-06f4fb789598"
                  }
                },
                {
                  "key": 49,
                  "attributes": {
                    "degree": 1,
                    "betweenness_centrality": 0,
                    "feature1": 0.8980663396956639,
                    "feature2": 79,
                    "feature3": 0,
                    "node_identifier": "9f3c5e81-78b9-4e6d-a593-91d69a4c8ad4"
                  }
                }
              ],
              "edges": [
                {
                  "source": 0,
                  "target": 1,
                  "attributes": {
                    "feature1": 0.4336462541527004,
                    "feature2": 15
                  }
                },
                {
                  "source": 0,
                  "target": 2,
                  "attributes": {
                    "feature1": 0.8599534783774889,
                    "feature2": 25
                  }
                },
                {
                  "source": 0,
                  "target": 3,
                  "attributes": {
                    "feature1": 0.16180528072980094,
                    "feature2": 3
                  }
                },
                {
                  "source": 0,
                  "target": 5,
                  "attributes": {
                    "feature1": 0.5661036802319501,
                    "feature2": 5
                  }
                },
                {
                  "source": 0,
                  "target": 6,
                  "attributes": {
                    "feature1": 0.42527717186372205,
                    "feature2": 75
                  }
                },
                {
                  "source": 0,
                  "target": 9,
                  "attributes": {
                    "feature1": 0.8003990346360282,
                    "feature2": 29
                  }
                },
                {
                  "source": 0,
                  "target": 11,
                  "attributes": {
                    "feature1": 0.3820435897749228,
                    "feature2": 8
                  }
                },
                {
                  "source": 0,
                  "target": 15,
                  "attributes": {
                    "feature1": 0.18756454963885305,
                    "feature2": 24
                  }
                },
                {
                  "source": 0,
                  "target": 20,
                  "attributes": {
                    "feature1": 0.0050648257222872806,
                    "feature2": 80
                  }
                },
                {
                  "source": 0,
                  "target": 22,
                  "attributes": {
                    "feature1": 0.15215038254043423,
                    "feature2": 82
                  }
                },
                {
                  "source": 0,
                  "target": 25,
                  "attributes": {
                    "feature1": 0.614859960741477,
                    "feature2": 29
                  }
                },
                {
                  "source": 0,
                  "target": 36,
                  "attributes": {
                    "feature1": 0.8302999744958528,
                    "feature2": 32
                  }
                },
                {
                  "source": 0,
                  "target": 38,
                  "attributes": {
                    "feature1": 0.4574481677767941,
                    "feature2": 76
                  }
                },
                {
                  "source": 0,
                  "target": 39,
                  "attributes": {
                    "feature1": 0.5719614248939101,
                    "feature2": 63
                  }
                },
                {
                  "source": 1,
                  "target": 3,
                  "attributes": {
                    "feature1": 0.814465551612186,
                    "feature2": 91
                  }
                },
                {
                  "source": 2,
                  "target": 4,
                  "attributes": {
                    "feature1": 0.9635799206420074,
                    "feature2": 15
                  }
                },
                {
                  "source": 2,
                  "target": 32,
                  "attributes": {
                    "feature1": 0.5757120165222195,
                    "feature2": 13
                  }
                },
                {
                  "source": 2,
                  "target": 33,
                  "attributes": {
                    "feature1": 0.4210140946495684,
                    "feature2": 43
                  }
                },
                {
                  "source": 3,
                  "target": 4,
                  "attributes": {
                    "feature1": 0.2764131843305655,
                    "feature2": 48
                  }
                },
                {
                  "source": 3,
                  "target": 5,
                  "attributes": {
                    "feature1": 0.7002957627614907,
                    "feature2": 35
                  }
                },
                {
                  "source": 3,
                  "target": 7,
                  "attributes": {
                    "feature1": 0.8560594293987434,
                    "feature2": 35
                  }
                },
                {
                  "source": 3,
                  "target": 9,
                  "attributes": {
                    "feature1": 0.8059296718527035,
                    "feature2": 6
                  }
                },
                {
                  "source": 3,
                  "target": 11,
                  "attributes": {
                    "feature1": 0.5172886571071754,
                    "feature2": 87
                  }
                },
                {
                  "source": 3,
                  "target": 18,
                  "attributes": {
                    "feature1": 0.9730217313517951,
                    "feature2": 96
                  }
                },
                {
                  "source": 3,
                  "target": 21,
                  "attributes": {
                    "feature1": 0.08530888779495127,
                    "feature2": 83
                  }
                },
                {
                  "source": 3,
                  "target": 29,
                  "attributes": {
                    "feature1": 0.10257394763613781,
                    "feature2": 84
                  }
                },
                {
                  "source": 3,
                  "target": 32,
                  "attributes": {
                    "feature1": 0.9094884610682736,
                    "feature2": 69
                  }
                },
                {
                  "source": 4,
                  "target": 8,
                  "attributes": {
                    "feature1": 0.34530730246016705,
                    "feature2": 7
                  }
                },
                {
                  "source": 5,
                  "target": 6,
                  "attributes": {
                    "feature1": 0.2197807397117687,
                    "feature2": 0
                  }
                },
                {
                  "source": 5,
                  "target": 14,
                  "attributes": {
                    "feature1": 0.20503825801657727,
                    "feature2": 69
                  }
                },
                {
                  "source": 5,
                  "target": 16,
                  "attributes": {
                    "feature1": 0.7494478463600095,
                    "feature2": 4
                  }
                },
                {
                  "source": 5,
                  "target": 28,
                  "attributes": {
                    "feature1": 0.9848672441989784,
                    "feature2": 45
                  }
                },
                {
                  "source": 5,
                  "target": 31,
                  "attributes": {
                    "feature1": 0.2856560918433644,
                    "feature2": 39
                  }
                },
                {
                  "source": 5,
                  "target": 47,
                  "attributes": {
                    "feature1": 0.5559105715890663,
                    "feature2": 38
                  }
                },
                {
                  "source": 6,
                  "target": 7,
                  "attributes": {
                    "feature1": 0.5913639759841389,
                    "feature2": 26
                  }
                },
                {
                  "source": 6,
                  "target": 35,
                  "attributes": {
                    "feature1": 0.0866882557238926,
                    "feature2": 64
                  }
                },
                {
                  "source": 6,
                  "target": 43,
                  "attributes": {
                    "feature1": 0.4970943703992947,
                    "feature2": 3
                  }
                },
                {
                  "source": 9,
                  "target": 10,
                  "attributes": {
                    "feature1": 0.2481630733282555,
                    "feature2": 74
                  }
                },
                {
                  "source": 9,
                  "target": 12,
                  "attributes": {
                    "feature1": 0.010801377809238066,
                    "feature2": 25
                  }
                },
                {
                  "source": 9,
                  "target": 14,
                  "attributes": {
                    "feature1": 0.8934315551844982,
                    "feature2": 77
                  }
                },
                {
                  "source": 9,
                  "target": 17,
                  "attributes": {
                    "feature1": 0.7075994215109331,
                    "feature2": 99
                  }
                },
                {
                  "source": 9,
                  "target": 34,
                  "attributes": {
                    "feature1": 0.7469727167662541,
                    "feature2": 68
                  }
                },
                {
                  "source": 11,
                  "target": 13,
                  "attributes": {
                    "feature1": 0.5971255272880635,
                    "feature2": 90
                  }
                },
                {
                  "source": 11,
                  "target": 16,
                  "attributes": {
                    "feature1": 0.18493783594001578,
                    "feature2": 59
                  }
                },
                {
                  "source": 11,
                  "target": 17,
                  "attributes": {
                    "feature1": 0.49564085698045734,
                    "feature2": 73
                  }
                },
                {
                  "source": 11,
                  "target": 19,
                  "attributes": {
                    "feature1": 0.15532125047517265,
                    "feature2": 63
                  }
                },
                {
                  "source": 11,
                  "target": 23,
                  "attributes": {
                    "feature1": 0.6133342255294428,
                    "feature2": 69
                  }
                },
                {
                  "source": 11,
                  "target": 24,
                  "attributes": {
                    "feature1": 0.033163309640662386,
                    "feature2": 61
                  }
                },
                {
                  "source": 11,
                  "target": 26,
                  "attributes": {
                    "feature1": 0.5927911720725912,
                    "feature2": 13
                  }
                },
                {
                  "source": 11,
                  "target": 27,
                  "attributes": {
                    "feature1": 0.3123036573905894,
                    "feature2": 78
                  }
                },
                {
                  "source": 11,
                  "target": 30,
                  "attributes": {
                    "feature1": 0.9834339726996476,
                    "feature2": 15
                  }
                },
                {
                  "source": 11,
                  "target": 33,
                  "attributes": {
                    "feature1": 0.5300510643633833,
                    "feature2": 27
                  }
                },
                {
                  "source": 11,
                  "target": 41,
                  "attributes": {
                    "feature1": 0.3403377557721441,
                    "feature2": 12
                  }
                },
                {
                  "source": 11,
                  "target": 48,
                  "attributes": {
                    "feature1": 0.5576217234437657,
                    "feature2": 24
                  }
                },
                {
                  "source": 17,
                  "target": 26,
                  "attributes": {
                    "feature1": 0.8019442491231543,
                    "feature2": 18
                  }
                },
                {
                  "source": 17,
                  "target": 46,
                  "attributes": {
                    "feature1": 0.3378170624494269,
                    "feature2": 29
                  }
                },
                {
                  "source": 21,
                  "target": 25,
                  "attributes": {
                    "feature1": 0.9316061576550649,
                    "feature2": 0
                  }
                },
                {
                  "source": 22,
                  "target": 24,
                  "attributes": {
                    "feature1": 0.07052243889297294,
                    "feature2": 52
                  }
                },
                {
                  "source": 23,
                  "target": 29,
                  "attributes": {
                    "feature1": 0.3496881165964749,
                    "feature2": 80
                  }
                },
                {
                  "source": 23,
                  "target": 39,
                  "attributes": {
                    "feature1": 0.022190846606518155,
                    "feature2": 61
                  }
                },
                {
                  "source": 23,
                  "target": 43,
                  "attributes": {
                    "feature1": 0.39143959360712566,
                    "feature2": 82
                  }
                },
                {
                  "source": 23,
                  "target": 45,
                  "attributes": {
                    "feature1": 0.7493819484320194,
                    "feature2": 77
                  }
                },
                {
                  "source": 24,
                  "target": 37,
                  "attributes": {
                    "feature1": 0.6715208247635338,
                    "feature2": 81
                  }
                },
                {
                  "source": 25,
                  "target": 40,
                  "attributes": {
                    "feature1": 0.7360500038607122,
                    "feature2": 73
                  }
                },
                {
                  "source": 29,
                  "target": 41,
                  "attributes": {
                    "feature1": 0.7344198031305872,
                    "feature2": 85
                  }
                },
                {
                  "source": 32,
                  "target": 42,
                  "attributes": {
                    "feature1": 0.7015755526844071,
                    "feature2": 49
                  }
                },
                {
                  "source": 37,
                  "target": 49,
                  "attributes": {
                    "feature1": 0.2791064716971944,
                    "feature2": 38
                  }
                },
                {
                  "source": 40,
                  "target": 44,
                  "attributes": {
                    "feature1": 0.22139642454569974,
                    "feature2": 24
                  }
                },
                {
                  "source": 43,
                  "target": 47,
                  "attributes": {
                    "feature1": 0.18957696434159,
                    "feature2": 18
                  }
                }
              ],
              "options": {
                "type": "undirected",
                "multi": false
              }
            },
            "edge_weight": "weight",
            "height": "500px",
            "layout": {
              "0": {
                "x": 0.15428948876230283,
                "y": 0.25273986629959766
              },
              "1": {
                "x": 0.5762050567157171,
                "y": 0.8675055755423209
              },
              "2": {
                "x": 0.4923045147706771,
                "y": 0.7549328770522359
              },
              "3": {
                "x": 0.536310160588477,
                "y": 0.6607164922702594
              },
              "4": {
                "x": 0.17898877761019927,
                "y": 0.7423470400617883
              },
              "5": {
                "x": 0.7654569574501733,
                "y": 0.2409002179776765
              },
              "6": {
                "x": 0.8666364121438902,
                "y": 0.3612731622048909
              },
              "7": {
                "x": 0.3750092524652347,
                "y": 0.43898357292952234
              },
              "8": {
                "x": 0.686974614630136,
                "y": 0.44860358368004677
              },
              "9": {
                "x": 0.40559004582969205,
                "y": 0.8051142792853555
              },
              "10": {
                "x": 0.2755987667745767,
                "y": 0.4476774839346224
              },
              "11": {
                "x": 0.692315680725632,
                "y": 0.22264914856719326
              },
              "12": {
                "x": 0.6517501069627378,
                "y": 0.3711104926111498
              },
              "13": {
                "x": 0.2111467647774474,
                "y": 0.09947058602301147
              },
              "14": {
                "x": 0.599929496786351,
                "y": 0.0787483076490472
              },
              "15": {
                "x": 0.5204078971266999,
                "y": 0.5260697341972731
              },
              "16": {
                "x": 0.25573721555965384,
                "y": 0.4088724813190393
              },
              "17": {
                "x": 0.5090945503764583,
                "y": 0.9307895945490127
              },
              "18": {
                "x": 0.8692163042898542,
                "y": 0.057695617745493095
              },
              "19": {
                "x": 0.6648696591608955,
                "y": 0.2771631331049608
              },
              "20": {
                "x": 0.9388512412625218,
                "y": 0.4202011229550135
              },
              "21": {
                "x": 0.9903121819953321,
                "y": 0.8396316085367288
              },
              "22": {
                "x": 0.19290933687632567,
                "y": 0.5507513853687954
              },
              "23": {
                "x": 0.899447997714133,
                "y": 0.9174842837776478
              },
              "24": {
                "x": 0.6178053192816517,
                "y": 0.6820744741878634
              },
              "25": {
                "x": 0.9153738228544446,
                "y": 0.8146601187658415
              },
              "26": {
                "x": 0.9986165908231301,
                "y": 0.7337777626358047
              },
              "27": {
                "x": 0.10060633047656747,
                "y": 0.2743234705841764
              },
              "28": {
                "x": 0.9420932357578089,
                "y": 0.9492478535538105
              },
              "29": {
                "x": 0.09606122757327866,
                "y": 0.9439512536142676
              },
              "30": {
                "x": 0.769957924239728,
                "y": 0.46211034020112557
              },
              "31": {
                "x": 0.1641172083842761,
                "y": 0.4269046433584336
              },
              "32": {
                "x": 0.4216060655202712,
                "y": 0.21237739429193359
              },
              "33": {
                "x": 0.6212257515279458,
                "y": 0.5517787240613129
              },
              "34": {
                "x": 0.5115069821068448,
                "y": 0.5906848204878906
              },
              "35": {
                "x": 0.0006169357586468933,
                "y": 0.6493680609846784
              },
              "36": {
                "x": 0.7578625898470147,
                "y": 0.5424202312778309
              },
              "37": {
                "x": 0.18058146654834936,
                "y": 0.770062816692311
              },
              "38": {
                "x": 0.6094470559659438,
                "y": 0.5631239195755232
              },
              "39": {
                "x": 0.26073010035072935,
                "y": 0.5772736573669458
              },
              "40": {
                "x": 0.7038043402655391,
                "y": 0.09967838113330135
              },
              "41": {
                "x": 0.47590275347985256,
                "y": 0.29950511065293983
              },
              "42": {
                "x": 0.11947044191900856,
                "y": 0.8150828388091269
              },
              "43": {
                "x": 0.20171206606954153,
                "y": 0.8150722807688516
              },
              "44": {
                "x": 0.4261402739571129,
                "y": 0.5660478502537173
              },
              "45": {
                "x": 0.48101948371231,
                "y": 0.5822336811257578
              },
              "46": {
                "x": 0.0801704442776575,
                "y": 0.8889623985522224
              },
              "47": {
                "x": 0.5109301427074232,
                "y": 0.13142735228135569
              },
              "48": {
                "x": 0.13303922571723575,
                "y": 0.10672651908263761
              },
              "49": {
                "x": 0.0940819123238585,
                "y": 0.9798003234134626
              }
            },
            "layout_settings": null,
            "max_categorical_colors": 10,
            "name": null,
            "node_metrics": {},
            "program_settings": {},
            "renderer_settings": {
              "zIndex": true,
              "enableEdgeClickEvents": false,
              "enableEdgeHoverEvents": false,
              "labelDensity": 1,
              "labelGridCellSize": 250,
              "renderEdgeLabels": true,
              "labelFont": "sans-serif",
              "hideEdgesOnMove": false,
              "defaultNodeType": "point",
              "defaultEdgeType": "rectangle"
            },
            "selected_edge": null,
            "selected_edge_category_values": null,
            "selected_node": null,
            "selected_node_category_values": null,
            "snapshot": null,
            "start_layout": false,
            "start_layout_for_seconds": null,
            "sync_key": null,
            "sync_targets": [
              "camera",
              "layout",
              "selection",
              "hover"
            ],
            "ui_settings": {
              "hideInfoPanel": false,
              "hideSearch": false
            },
            "visual_variables": {
              "nodeLabel": {
                "type": "raw",
                "attribute": "node_identifier",
                "default": null
              },
              "nodeLabelSize": {
                "type": "constant",
                "default": 12
              },
              "nodeLabelColor": {
                "type": "constant",
                "default": "#000"
              },
              "nodeColor": {
                "type": "continuous",
                "attribute": "betweenness_centrality",
                "range": "Reds",
                "default": "#999"
              },
              "nodeColorSaturation": {
                "type": "disabled",
                "default": null
              },
              "nodeBorderColor": {
                "type": "disabled",
                "default": null
              },
              "nodeBorderRatio": {
                "type": "disabled",
                "default": null
              },
              "nodeBorderSize": {
                "type": "constant",
                "default": 1
              },
              "nodeSize": {
                "type": "continuous",
                "range": [
                  3,
                  15
                ],
                "attribute": "betweenness_centrality",
                "default": 3
              },
              "nodePictogram": {
                "type": "disabled",
                "default": null
              },
              "nodePictogramColor": {
                "type": "constant",
                "default": "#000"
              },
              "nodeHaloSize": {
                "type": "disabled",
                "default": null
              },
              "nodeHaloColor": {
                "type": "constant",
                "default": "red"
              },
              "nodeShape": {
                "type": "disabled",
                "default": null
              },
              "edgeLabel": {
                "type": "raw",
                "attribute": "label",
                "default": null
              },
              "edgeColor": {
                "type": "continuous",
                "attribute": "feature1",
                "range": "Reds",
                "default": "#ccc"
              },
              "edgeSize": {
                "type": "continuous",
                "range": [
                  0.5,
                  10
                ],
                "attribute": "feature1",
                "default": 0.5
              },
              "edgeCurveness": {
                "type": "constant",
                "default": 0.25
              }
            }
          }
        }
      }
    }
  },
  "cells": [
    {
      "cell_type": "markdown",
      "source": [
        "[Reference](https://medium.com/@bl3e967/the-two-best-tools-for-plotting-interactive-network-graphs-8d352aa894d4)"
      ],
      "metadata": {
        "id": "k1-eX1Wa_NGZ"
      }
    },
    {
      "cell_type": "code",
      "execution_count": 1,
      "metadata": {
        "colab": {
          "base_uri": "https://localhost:8080/"
        },
        "id": "0nizTYk_-kVR",
        "outputId": "58cc159d-bca0-44f8-ba2a-20df92ac659f"
      },
      "outputs": [
        {
          "output_type": "stream",
          "name": "stdout",
          "text": [
            "Collecting pyvis\n",
            "  Downloading pyvis-0.3.2-py3-none-any.whl (756 kB)\n",
            "\u001b[2K     \u001b[90m━━━━━━━━━━━━━━━━━━━━━━━━━━━━━━━━━━━━━━━━\u001b[0m \u001b[32m756.0/756.0 kB\u001b[0m \u001b[31m9.3 MB/s\u001b[0m eta \u001b[36m0:00:00\u001b[0m\n",
            "\u001b[?25hRequirement already satisfied: ipython>=5.3.0 in /usr/local/lib/python3.10/dist-packages (from pyvis) (7.34.0)\n",
            "Requirement already satisfied: jinja2>=2.9.6 in /usr/local/lib/python3.10/dist-packages (from pyvis) (3.1.2)\n",
            "Requirement already satisfied: jsonpickle>=1.4.1 in /usr/local/lib/python3.10/dist-packages (from pyvis) (3.0.2)\n",
            "Requirement already satisfied: networkx>=1.11 in /usr/local/lib/python3.10/dist-packages (from pyvis) (3.2.1)\n",
            "Requirement already satisfied: setuptools>=18.5 in /usr/local/lib/python3.10/dist-packages (from ipython>=5.3.0->pyvis) (67.7.2)\n",
            "Collecting jedi>=0.16 (from ipython>=5.3.0->pyvis)\n",
            "  Downloading jedi-0.19.1-py2.py3-none-any.whl (1.6 MB)\n",
            "\u001b[2K     \u001b[90m━━━━━━━━━━━━━━━━━━━━━━━━━━━━━━━━━━━━━━━━\u001b[0m \u001b[32m1.6/1.6 MB\u001b[0m \u001b[31m54.3 MB/s\u001b[0m eta \u001b[36m0:00:00\u001b[0m\n",
            "\u001b[?25hRequirement already satisfied: decorator in /usr/local/lib/python3.10/dist-packages (from ipython>=5.3.0->pyvis) (4.4.2)\n",
            "Requirement already satisfied: pickleshare in /usr/local/lib/python3.10/dist-packages (from ipython>=5.3.0->pyvis) (0.7.5)\n",
            "Requirement already satisfied: traitlets>=4.2 in /usr/local/lib/python3.10/dist-packages (from ipython>=5.3.0->pyvis) (5.7.1)\n",
            "Requirement already satisfied: prompt-toolkit!=3.0.0,!=3.0.1,<3.1.0,>=2.0.0 in /usr/local/lib/python3.10/dist-packages (from ipython>=5.3.0->pyvis) (3.0.41)\n",
            "Requirement already satisfied: pygments in /usr/local/lib/python3.10/dist-packages (from ipython>=5.3.0->pyvis) (2.16.1)\n",
            "Requirement already satisfied: backcall in /usr/local/lib/python3.10/dist-packages (from ipython>=5.3.0->pyvis) (0.2.0)\n",
            "Requirement already satisfied: matplotlib-inline in /usr/local/lib/python3.10/dist-packages (from ipython>=5.3.0->pyvis) (0.1.6)\n",
            "Requirement already satisfied: pexpect>4.3 in /usr/local/lib/python3.10/dist-packages (from ipython>=5.3.0->pyvis) (4.8.0)\n",
            "Requirement already satisfied: MarkupSafe>=2.0 in /usr/local/lib/python3.10/dist-packages (from jinja2>=2.9.6->pyvis) (2.1.3)\n",
            "Requirement already satisfied: parso<0.9.0,>=0.8.3 in /usr/local/lib/python3.10/dist-packages (from jedi>=0.16->ipython>=5.3.0->pyvis) (0.8.3)\n",
            "Requirement already satisfied: ptyprocess>=0.5 in /usr/local/lib/python3.10/dist-packages (from pexpect>4.3->ipython>=5.3.0->pyvis) (0.7.0)\n",
            "Requirement already satisfied: wcwidth in /usr/local/lib/python3.10/dist-packages (from prompt-toolkit!=3.0.0,!=3.0.1,<3.1.0,>=2.0.0->ipython>=5.3.0->pyvis) (0.2.10)\n",
            "Installing collected packages: jedi, pyvis\n",
            "Successfully installed jedi-0.19.1 pyvis-0.3.2\n"
          ]
        }
      ],
      "source": [
        "pip install pyvis"
      ]
    },
    {
      "cell_type": "code",
      "source": [
        "pip install ipysigma"
      ],
      "metadata": {
        "colab": {
          "base_uri": "https://localhost:8080/"
        },
        "id": "L6BY67dl_TaT",
        "outputId": "33ff1a15-432e-4a3d-c493-a013d9c1af2c"
      },
      "execution_count": 2,
      "outputs": [
        {
          "output_type": "stream",
          "name": "stdout",
          "text": [
            "Collecting ipysigma\n",
            "  Downloading ipysigma-0.24.2-py2.py3-none-any.whl (2.6 MB)\n",
            "\u001b[2K     \u001b[90m━━━━━━━━━━━━━━━━━━━━━━━━━━━━━━━━━━━━━━━━\u001b[0m \u001b[32m2.6/2.6 MB\u001b[0m \u001b[31m11.0 MB/s\u001b[0m eta \u001b[36m0:00:00\u001b[0m\n",
            "\u001b[?25hRequirement already satisfied: ipywidgets>=7.0.0 in /usr/local/lib/python3.10/dist-packages (from ipysigma) (7.7.1)\n",
            "Requirement already satisfied: ipykernel>=4.5.1 in /usr/local/lib/python3.10/dist-packages (from ipywidgets>=7.0.0->ipysigma) (5.5.6)\n",
            "Requirement already satisfied: ipython-genutils~=0.2.0 in /usr/local/lib/python3.10/dist-packages (from ipywidgets>=7.0.0->ipysigma) (0.2.0)\n",
            "Requirement already satisfied: traitlets>=4.3.1 in /usr/local/lib/python3.10/dist-packages (from ipywidgets>=7.0.0->ipysigma) (5.7.1)\n",
            "Requirement already satisfied: widgetsnbextension~=3.6.0 in /usr/local/lib/python3.10/dist-packages (from ipywidgets>=7.0.0->ipysigma) (3.6.6)\n",
            "Requirement already satisfied: ipython>=4.0.0 in /usr/local/lib/python3.10/dist-packages (from ipywidgets>=7.0.0->ipysigma) (7.34.0)\n",
            "Requirement already satisfied: jupyterlab-widgets>=1.0.0 in /usr/local/lib/python3.10/dist-packages (from ipywidgets>=7.0.0->ipysigma) (3.0.9)\n",
            "Requirement already satisfied: jupyter-client in /usr/local/lib/python3.10/dist-packages (from ipykernel>=4.5.1->ipywidgets>=7.0.0->ipysigma) (6.1.12)\n",
            "Requirement already satisfied: tornado>=4.2 in /usr/local/lib/python3.10/dist-packages (from ipykernel>=4.5.1->ipywidgets>=7.0.0->ipysigma) (6.3.2)\n",
            "Requirement already satisfied: setuptools>=18.5 in /usr/local/lib/python3.10/dist-packages (from ipython>=4.0.0->ipywidgets>=7.0.0->ipysigma) (67.7.2)\n",
            "Requirement already satisfied: jedi>=0.16 in /usr/local/lib/python3.10/dist-packages (from ipython>=4.0.0->ipywidgets>=7.0.0->ipysigma) (0.19.1)\n",
            "Requirement already satisfied: decorator in /usr/local/lib/python3.10/dist-packages (from ipython>=4.0.0->ipywidgets>=7.0.0->ipysigma) (4.4.2)\n",
            "Requirement already satisfied: pickleshare in /usr/local/lib/python3.10/dist-packages (from ipython>=4.0.0->ipywidgets>=7.0.0->ipysigma) (0.7.5)\n",
            "Requirement already satisfied: prompt-toolkit!=3.0.0,!=3.0.1,<3.1.0,>=2.0.0 in /usr/local/lib/python3.10/dist-packages (from ipython>=4.0.0->ipywidgets>=7.0.0->ipysigma) (3.0.41)\n",
            "Requirement already satisfied: pygments in /usr/local/lib/python3.10/dist-packages (from ipython>=4.0.0->ipywidgets>=7.0.0->ipysigma) (2.16.1)\n",
            "Requirement already satisfied: backcall in /usr/local/lib/python3.10/dist-packages (from ipython>=4.0.0->ipywidgets>=7.0.0->ipysigma) (0.2.0)\n",
            "Requirement already satisfied: matplotlib-inline in /usr/local/lib/python3.10/dist-packages (from ipython>=4.0.0->ipywidgets>=7.0.0->ipysigma) (0.1.6)\n",
            "Requirement already satisfied: pexpect>4.3 in /usr/local/lib/python3.10/dist-packages (from ipython>=4.0.0->ipywidgets>=7.0.0->ipysigma) (4.8.0)\n",
            "Requirement already satisfied: notebook>=4.4.1 in /usr/local/lib/python3.10/dist-packages (from widgetsnbextension~=3.6.0->ipywidgets>=7.0.0->ipysigma) (6.5.5)\n",
            "Requirement already satisfied: parso<0.9.0,>=0.8.3 in /usr/local/lib/python3.10/dist-packages (from jedi>=0.16->ipython>=4.0.0->ipywidgets>=7.0.0->ipysigma) (0.8.3)\n",
            "Requirement already satisfied: jinja2 in /usr/local/lib/python3.10/dist-packages (from notebook>=4.4.1->widgetsnbextension~=3.6.0->ipywidgets>=7.0.0->ipysigma) (3.1.2)\n",
            "Requirement already satisfied: pyzmq<25,>=17 in /usr/local/lib/python3.10/dist-packages (from notebook>=4.4.1->widgetsnbextension~=3.6.0->ipywidgets>=7.0.0->ipysigma) (23.2.1)\n",
            "Requirement already satisfied: argon2-cffi in /usr/local/lib/python3.10/dist-packages (from notebook>=4.4.1->widgetsnbextension~=3.6.0->ipywidgets>=7.0.0->ipysigma) (23.1.0)\n",
            "Requirement already satisfied: jupyter-core>=4.6.1 in /usr/local/lib/python3.10/dist-packages (from notebook>=4.4.1->widgetsnbextension~=3.6.0->ipywidgets>=7.0.0->ipysigma) (5.5.0)\n",
            "Requirement already satisfied: nbformat in /usr/local/lib/python3.10/dist-packages (from notebook>=4.4.1->widgetsnbextension~=3.6.0->ipywidgets>=7.0.0->ipysigma) (5.9.2)\n",
            "Requirement already satisfied: nbconvert>=5 in /usr/local/lib/python3.10/dist-packages (from notebook>=4.4.1->widgetsnbextension~=3.6.0->ipywidgets>=7.0.0->ipysigma) (6.5.4)\n",
            "Requirement already satisfied: nest-asyncio>=1.5 in /usr/local/lib/python3.10/dist-packages (from notebook>=4.4.1->widgetsnbextension~=3.6.0->ipywidgets>=7.0.0->ipysigma) (1.5.8)\n",
            "Requirement already satisfied: Send2Trash>=1.8.0 in /usr/local/lib/python3.10/dist-packages (from notebook>=4.4.1->widgetsnbextension~=3.6.0->ipywidgets>=7.0.0->ipysigma) (1.8.2)\n",
            "Requirement already satisfied: terminado>=0.8.3 in /usr/local/lib/python3.10/dist-packages (from notebook>=4.4.1->widgetsnbextension~=3.6.0->ipywidgets>=7.0.0->ipysigma) (0.18.0)\n",
            "Requirement already satisfied: prometheus-client in /usr/local/lib/python3.10/dist-packages (from notebook>=4.4.1->widgetsnbextension~=3.6.0->ipywidgets>=7.0.0->ipysigma) (0.18.0)\n",
            "Requirement already satisfied: nbclassic>=0.4.7 in /usr/local/lib/python3.10/dist-packages (from notebook>=4.4.1->widgetsnbextension~=3.6.0->ipywidgets>=7.0.0->ipysigma) (1.0.0)\n",
            "Requirement already satisfied: python-dateutil>=2.1 in /usr/local/lib/python3.10/dist-packages (from jupyter-client->ipykernel>=4.5.1->ipywidgets>=7.0.0->ipysigma) (2.8.2)\n",
            "Requirement already satisfied: ptyprocess>=0.5 in /usr/local/lib/python3.10/dist-packages (from pexpect>4.3->ipython>=4.0.0->ipywidgets>=7.0.0->ipysigma) (0.7.0)\n",
            "Requirement already satisfied: wcwidth in /usr/local/lib/python3.10/dist-packages (from prompt-toolkit!=3.0.0,!=3.0.1,<3.1.0,>=2.0.0->ipython>=4.0.0->ipywidgets>=7.0.0->ipysigma) (0.2.10)\n",
            "Requirement already satisfied: platformdirs>=2.5 in /usr/local/lib/python3.10/dist-packages (from jupyter-core>=4.6.1->notebook>=4.4.1->widgetsnbextension~=3.6.0->ipywidgets>=7.0.0->ipysigma) (4.0.0)\n",
            "Requirement already satisfied: jupyter-server>=1.8 in /usr/local/lib/python3.10/dist-packages (from nbclassic>=0.4.7->notebook>=4.4.1->widgetsnbextension~=3.6.0->ipywidgets>=7.0.0->ipysigma) (1.24.0)\n",
            "Requirement already satisfied: notebook-shim>=0.2.3 in /usr/local/lib/python3.10/dist-packages (from nbclassic>=0.4.7->notebook>=4.4.1->widgetsnbextension~=3.6.0->ipywidgets>=7.0.0->ipysigma) (0.2.3)\n",
            "Requirement already satisfied: lxml in /usr/local/lib/python3.10/dist-packages (from nbconvert>=5->notebook>=4.4.1->widgetsnbextension~=3.6.0->ipywidgets>=7.0.0->ipysigma) (4.9.3)\n",
            "Requirement already satisfied: beautifulsoup4 in /usr/local/lib/python3.10/dist-packages (from nbconvert>=5->notebook>=4.4.1->widgetsnbextension~=3.6.0->ipywidgets>=7.0.0->ipysigma) (4.11.2)\n",
            "Requirement already satisfied: bleach in /usr/local/lib/python3.10/dist-packages (from nbconvert>=5->notebook>=4.4.1->widgetsnbextension~=3.6.0->ipywidgets>=7.0.0->ipysigma) (6.1.0)\n",
            "Requirement already satisfied: defusedxml in /usr/local/lib/python3.10/dist-packages (from nbconvert>=5->notebook>=4.4.1->widgetsnbextension~=3.6.0->ipywidgets>=7.0.0->ipysigma) (0.7.1)\n",
            "Requirement already satisfied: entrypoints>=0.2.2 in /usr/local/lib/python3.10/dist-packages (from nbconvert>=5->notebook>=4.4.1->widgetsnbextension~=3.6.0->ipywidgets>=7.0.0->ipysigma) (0.4)\n",
            "Requirement already satisfied: jupyterlab-pygments in /usr/local/lib/python3.10/dist-packages (from nbconvert>=5->notebook>=4.4.1->widgetsnbextension~=3.6.0->ipywidgets>=7.0.0->ipysigma) (0.2.2)\n",
            "Requirement already satisfied: MarkupSafe>=2.0 in /usr/local/lib/python3.10/dist-packages (from nbconvert>=5->notebook>=4.4.1->widgetsnbextension~=3.6.0->ipywidgets>=7.0.0->ipysigma) (2.1.3)\n",
            "Requirement already satisfied: mistune<2,>=0.8.1 in /usr/local/lib/python3.10/dist-packages (from nbconvert>=5->notebook>=4.4.1->widgetsnbextension~=3.6.0->ipywidgets>=7.0.0->ipysigma) (0.8.4)\n",
            "Requirement already satisfied: nbclient>=0.5.0 in /usr/local/lib/python3.10/dist-packages (from nbconvert>=5->notebook>=4.4.1->widgetsnbextension~=3.6.0->ipywidgets>=7.0.0->ipysigma) (0.9.0)\n",
            "Requirement already satisfied: packaging in /usr/local/lib/python3.10/dist-packages (from nbconvert>=5->notebook>=4.4.1->widgetsnbextension~=3.6.0->ipywidgets>=7.0.0->ipysigma) (23.2)\n",
            "Requirement already satisfied: pandocfilters>=1.4.1 in /usr/local/lib/python3.10/dist-packages (from nbconvert>=5->notebook>=4.4.1->widgetsnbextension~=3.6.0->ipywidgets>=7.0.0->ipysigma) (1.5.0)\n",
            "Requirement already satisfied: tinycss2 in /usr/local/lib/python3.10/dist-packages (from nbconvert>=5->notebook>=4.4.1->widgetsnbextension~=3.6.0->ipywidgets>=7.0.0->ipysigma) (1.2.1)\n",
            "Requirement already satisfied: fastjsonschema in /usr/local/lib/python3.10/dist-packages (from nbformat->notebook>=4.4.1->widgetsnbextension~=3.6.0->ipywidgets>=7.0.0->ipysigma) (2.19.0)\n",
            "Requirement already satisfied: jsonschema>=2.6 in /usr/local/lib/python3.10/dist-packages (from nbformat->notebook>=4.4.1->widgetsnbextension~=3.6.0->ipywidgets>=7.0.0->ipysigma) (4.19.2)\n",
            "Requirement already satisfied: six>=1.5 in /usr/local/lib/python3.10/dist-packages (from python-dateutil>=2.1->jupyter-client->ipykernel>=4.5.1->ipywidgets>=7.0.0->ipysigma) (1.16.0)\n",
            "Requirement already satisfied: argon2-cffi-bindings in /usr/local/lib/python3.10/dist-packages (from argon2-cffi->notebook>=4.4.1->widgetsnbextension~=3.6.0->ipywidgets>=7.0.0->ipysigma) (21.2.0)\n",
            "Requirement already satisfied: attrs>=22.2.0 in /usr/local/lib/python3.10/dist-packages (from jsonschema>=2.6->nbformat->notebook>=4.4.1->widgetsnbextension~=3.6.0->ipywidgets>=7.0.0->ipysigma) (23.1.0)\n",
            "Requirement already satisfied: jsonschema-specifications>=2023.03.6 in /usr/local/lib/python3.10/dist-packages (from jsonschema>=2.6->nbformat->notebook>=4.4.1->widgetsnbextension~=3.6.0->ipywidgets>=7.0.0->ipysigma) (2023.11.1)\n",
            "Requirement already satisfied: referencing>=0.28.4 in /usr/local/lib/python3.10/dist-packages (from jsonschema>=2.6->nbformat->notebook>=4.4.1->widgetsnbextension~=3.6.0->ipywidgets>=7.0.0->ipysigma) (0.31.0)\n",
            "Requirement already satisfied: rpds-py>=0.7.1 in /usr/local/lib/python3.10/dist-packages (from jsonschema>=2.6->nbformat->notebook>=4.4.1->widgetsnbextension~=3.6.0->ipywidgets>=7.0.0->ipysigma) (0.13.0)\n",
            "Requirement already satisfied: anyio<4,>=3.1.0 in /usr/local/lib/python3.10/dist-packages (from jupyter-server>=1.8->nbclassic>=0.4.7->notebook>=4.4.1->widgetsnbextension~=3.6.0->ipywidgets>=7.0.0->ipysigma) (3.7.1)\n",
            "Requirement already satisfied: websocket-client in /usr/local/lib/python3.10/dist-packages (from jupyter-server>=1.8->nbclassic>=0.4.7->notebook>=4.4.1->widgetsnbextension~=3.6.0->ipywidgets>=7.0.0->ipysigma) (1.6.4)\n",
            "Requirement already satisfied: cffi>=1.0.1 in /usr/local/lib/python3.10/dist-packages (from argon2-cffi-bindings->argon2-cffi->notebook>=4.4.1->widgetsnbextension~=3.6.0->ipywidgets>=7.0.0->ipysigma) (1.16.0)\n",
            "Requirement already satisfied: soupsieve>1.2 in /usr/local/lib/python3.10/dist-packages (from beautifulsoup4->nbconvert>=5->notebook>=4.4.1->widgetsnbextension~=3.6.0->ipywidgets>=7.0.0->ipysigma) (2.5)\n",
            "Requirement already satisfied: webencodings in /usr/local/lib/python3.10/dist-packages (from bleach->nbconvert>=5->notebook>=4.4.1->widgetsnbextension~=3.6.0->ipywidgets>=7.0.0->ipysigma) (0.5.1)\n",
            "Requirement already satisfied: idna>=2.8 in /usr/local/lib/python3.10/dist-packages (from anyio<4,>=3.1.0->jupyter-server>=1.8->nbclassic>=0.4.7->notebook>=4.4.1->widgetsnbextension~=3.6.0->ipywidgets>=7.0.0->ipysigma) (3.4)\n",
            "Requirement already satisfied: sniffio>=1.1 in /usr/local/lib/python3.10/dist-packages (from anyio<4,>=3.1.0->jupyter-server>=1.8->nbclassic>=0.4.7->notebook>=4.4.1->widgetsnbextension~=3.6.0->ipywidgets>=7.0.0->ipysigma) (1.3.0)\n",
            "Requirement already satisfied: exceptiongroup in /usr/local/lib/python3.10/dist-packages (from anyio<4,>=3.1.0->jupyter-server>=1.8->nbclassic>=0.4.7->notebook>=4.4.1->widgetsnbextension~=3.6.0->ipywidgets>=7.0.0->ipysigma) (1.1.3)\n",
            "Requirement already satisfied: pycparser in /usr/local/lib/python3.10/dist-packages (from cffi>=1.0.1->argon2-cffi-bindings->argon2-cffi->notebook>=4.4.1->widgetsnbextension~=3.6.0->ipywidgets>=7.0.0->ipysigma) (2.21)\n",
            "Installing collected packages: ipysigma\n",
            "Successfully installed ipysigma-0.24.2\n"
          ]
        }
      ]
    },
    {
      "cell_type": "code",
      "source": [
        "jupyter nbextension enable --py --sys-prefix ipysigma\n",
        "\n",
        "# You might need one of those other commands\n",
        "jupyter nbextension enable --py --user ipysigma\n",
        "jupyter nbextension enable --py --system ipysigma"
      ],
      "metadata": {
        "id": "RXr2vsMA_U8q"
      },
      "execution_count": 3,
      "outputs": []
    },
    {
      "cell_type": "code",
      "source": [
        "pip install networkx"
      ],
      "metadata": {
        "colab": {
          "base_uri": "https://localhost:8080/"
        },
        "id": "MUjFexxh_XOp",
        "outputId": "8d4e583b-2082-4887-d94c-5308c2db0b8a"
      },
      "execution_count": 4,
      "outputs": [
        {
          "output_type": "stream",
          "name": "stdout",
          "text": [
            "Requirement already satisfied: networkx in /usr/local/lib/python3.10/dist-packages (3.2.1)\n"
          ]
        }
      ]
    },
    {
      "cell_type": "code",
      "source": [
        "import networkx as nx\n",
        "import numpy as np\n",
        "import uuid\n",
        "\n",
        "def get_new_test_graph():\n",
        "    # hard code parameters and use seed to replicate same network each time\n",
        "    NUM_NODES = 50\n",
        "    p = 0.5\n",
        "    seed = 1\n",
        "    test_graph = nx.dual_barabasi_albert_graph(n=NUM_NODES, p=p, seed=1, m1=2, m2=1)\n",
        "\n",
        "    ### append node properties\n",
        "\n",
        "    # 1. Compute Node Degree\n",
        "    nx.set_node_attributes(test_graph, dict(test_graph.degree()), name='degree')\n",
        "    # 2. Compute betweenness centrality\n",
        "    nx.set_node_attributes(test_graph, nx.betweenness_centrality(test_graph), name='betweenness_centrality')\n",
        "\n",
        "    for node, data in test_graph.nodes(data=True):\n",
        "        # 3. Simulate node level features\n",
        "        data['feature1'] = np.random.random()\n",
        "        data['feature2'] = np.random.randint(0, high=100)\n",
        "        data['feature3'] = 1 if np.random.random() > 0.5 else 0\n",
        "\n",
        "        # 4. Simulate UIDs as node identifiers\n",
        "        data['node_identifier'] = str(uuid.uuid4())\n",
        "\n",
        "    ### append edge properties\n",
        "    for u, v, data in test_graph.edges(data=True):\n",
        "\n",
        "        # Simulate edge level features\n",
        "        data['feature1'] = np.random.random()\n",
        "        data['feature2'] = np.random.randint(0, high=100)\n",
        "\n",
        "    return test_graph"
      ],
      "metadata": {
        "id": "7duIYAk2_Y_F"
      },
      "execution_count": 5,
      "outputs": []
    },
    {
      "cell_type": "code",
      "source": [
        "test_graph = get_new_test_graph()"
      ],
      "metadata": {
        "id": "3y1PcX3f_h3f"
      },
      "execution_count": 7,
      "outputs": []
    },
    {
      "cell_type": "code",
      "source": [
        "import networkx as nx\n",
        "\n",
        "nx.draw(test_graph)"
      ],
      "metadata": {
        "colab": {
          "base_uri": "https://localhost:8080/",
          "height": 516
        },
        "id": "5PF0XkOX_bew",
        "outputId": "e45e357c-759b-4ba6-ca83-e29f0ed5ab71"
      },
      "execution_count": 8,
      "outputs": [
        {
          "output_type": "display_data",
          "data": {
            "text/plain": [
              "<Figure size 640x480 with 1 Axes>"
            ],
            "image/png": "[encoded data removed]"
          },
          "metadata": {}
        }
      ]
    },
    {
      "cell_type": "code",
      "source": [
        "from google.colab import output\n",
        "\n",
        "output.enable_custom_widget_manager()"
      ],
      "metadata": {
        "id": "tcjcNbu7_xTL"
      },
      "execution_count": 11,
      "outputs": []
    },
    {
      "cell_type": "code",
      "source": [
        "from ipysigma import Sigma"
      ],
      "metadata": {
        "id": "nkEstVcN_oyf"
      },
      "execution_count": 12,
      "outputs": []
    },
    {
      "cell_type": "code",
      "source": [
        "test_graph = get_new_test_graph()\n",
        "\n",
        "Sigma(\n",
        "    graph=test_graph,\n",
        "\n",
        "    # node config\n",
        "    node_color='betweenness_centrality',\n",
        "    node_color_gradient=\"Reds\",\n",
        "    node_size='betweenness_centrality',\n",
        "    node_label='node_identifier',\n",
        "\n",
        "    #edge config\n",
        "    edge_color=\"feature1\",\n",
        "    edge_color_gradient=\"Reds\",\n",
        "    edge_size=\"feature1\",\n",
        "\n",
        "    # general config\n",
        "    background_color=\"grey\"\n",
        "\n",
        ")"
      ],
      "metadata": {
        "colab": {
          "base_uri": "https://localhost:8080/",
          "height": 539,
          "referenced_widgets": [
            "e830ca13501d47c593686961887b245b"
          ]
        },
        "id": "CNEFryWy_dTD",
        "outputId": "ca1ecc58-307b-4af1-c8e0-33069d680b7b"
      },
      "execution_count": 13,
      "outputs": [
        {
          "output_type": "display_data",
          "data": {
            "text/plain": [
              "Sigma(nx.Graph with 50 nodes and 69 edges)"
            ],
            "application/vnd.jupyter.widget-view+json": {
              "version_major": 2,
              "version_minor": 0,
              "model_id": "e830ca13501d47c593686961887b245b"
            }
          },
          "metadata": {
            "application/vnd.jupyter.widget-view+json": {
              "colab": {
                "custom_widget_manager": {
                  "url": "https://ssl.gstatic.com/colaboratory-static/widgets/colab-cdn-widget-manager/b3e629b1971e1542/manager.min.js"
                }
              }
            }
          }
        }
      ]
    },
    {
      "cell_type": "code",
      "source": [
        "# set node size to be scaled according to betweenness centrality\n",
        "for node, data in test_graph.nodes(data=True):\n",
        "    data['value'] = data['betweenness_centrality']\n",
        "\n",
        "# set edge size to be scaled according to feature1.\n",
        "for u, v, data in test_graph.edges(data=True):\n",
        "    data['value'] = data['feature1']"
      ],
      "metadata": {
        "id": "7j_V1GHf_lmy"
      },
      "execution_count": 15,
      "outputs": []
    },
    {
      "cell_type": "code",
      "source": [
        "class MplColorHelper:\n",
        "\n",
        "    def __init__(self, cmap_name, start_val, stop_val):\n",
        "        self.cmap_name = cmap_name\n",
        "        self.cmap = plt.get_cmap(cmap_name)\n",
        "        self.norm = mpl.colors.Normalize(vmin=start_val, vmax=stop_val)\n",
        "        self.scalarMap = cm.ScalarMappable(norm=self.norm, cmap=self.cmap)\n",
        "\n",
        "    def get_rgba(self, val):\n",
        "        return self.scalarMap.to_rgba(val, bytes=True)\n",
        "\n",
        "    def get_rgb_str(self, val):\n",
        "        r, g, b, a = self.get_rgba(val)\n",
        "        return f\"rgb({r},{g},{b})\""
      ],
      "metadata": {
        "id": "cOZtwUO2ABM3"
      },
      "execution_count": 16,
      "outputs": []
    },
    {
      "cell_type": "code",
      "source": [
        "import matplotlib.pyplot as plt\n",
        "import matplotlib as mpl\n",
        "from matplotlib import cm"
      ],
      "metadata": {
        "id": "sN_3RJsmAE_5"
      },
      "execution_count": 24,
      "outputs": []
    },
    {
      "cell_type": "code",
      "source": [
        "# prep node color generator\n",
        "vals = nx.get_node_attributes(test_graph, 'betweenness_centrality').values()\n",
        "betweenness_min, betweenness_max = min(vals), max(vals)\n",
        "node_colors = MplColorHelper(\"Reds\", betweenness_min, betweenness_max)\n",
        "\n",
        "# prep edge color generator\n",
        "vals = nx.get_edge_attributes(test_graph, 'feature1').values()\n",
        "val_min, val_max = min(vals), max(vals)\n",
        "edge_colors = MplColorHelper(\"Reds\", val_min, val_max)"
      ],
      "metadata": {
        "id": "wjD6SM0HACPX"
      },
      "execution_count": 25,
      "outputs": []
    },
    {
      "cell_type": "code",
      "source": [
        "for node, data in test_graph.nodes(data=True):\n",
        "    data['color'] = node_colors.get_rgb_str(data['betweenness_centrality'])\n",
        "\n",
        "for u, v, data in test_graph.edges(data=True):\n",
        "    data['color'] = edge_colors.get_rgb_str(data['feature1'])"
      ],
      "metadata": {
        "id": "Zw0qlixZADuc"
      },
      "execution_count": 26,
      "outputs": []
    },
    {
      "cell_type": "code",
      "source": [
        "for node, data in test_graph.nodes(data=True):\n",
        "\n",
        "    data['title'] = (\n",
        "        f\"Node: {data['node_identifier']}\"\n",
        "        \"\\nNode Features:\" +\n",
        "        f\"\\nfeature 1: {data['feature1']}\" +\n",
        "        f\"\\nfeature 2: {data['feature2']}\" +\n",
        "        f\"\\nfeature 3: {data['feature3']}\" +\n",
        "        f\"\\nBetweenness Centrality: {data['betweenness_centrality']}\" +\n",
        "        f\"\\nDegree: {data['degree']}\"\n",
        "    )\n",
        "\n",
        "\n",
        "for u, v, data in test_graph.edges(data=True):\n",
        "\n",
        "    data['title'] = (\n",
        "        f\"Edge: {test_graph.nodes[u]['node_identifier']} -> {test_graph.nodes[v]['node_identifier']}\" +\n",
        "        f\"\\nEdge Features:\" +\n",
        "        f\"\\nfeature 1: {data['feature1']}\" +\n",
        "        f\"\\nfeature 2: {data['feature2']}\"\n",
        "    )"
      ],
      "metadata": {
        "id": "CSjlYMPnAHn9"
      },
      "execution_count": 27,
      "outputs": []
    },
    {
      "cell_type": "code",
      "source": [
        "# net = Network(height=900, width=\"100%\", bgcolor=\"grey\", filter_menu=True)\n",
        "# net.show_buttons()\n",
        "# net.from_nx(test_graph)\n",
        "# net.save_graph('pyvis_example.html')"
      ],
      "metadata": {
        "id": "1Z1OMJjvAT6i"
      },
      "execution_count": 29,
      "outputs": []
    }
  ]
}