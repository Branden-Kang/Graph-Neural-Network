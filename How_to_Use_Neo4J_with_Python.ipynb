{
  "nbformat": 4,
  "nbformat_minor": 0,
  "metadata": {
    "colab": {
      "provenance": [],
      "authorship_tag": "ABX9TyNEhtnyPNHxBuTCc/yqvpg4"
    },
    "kernelspec": {
      "name": "python3",
      "display_name": "Python 3"
    },
    "language_info": {
      "name": "python"
    }
  },
  "cells": [
    {
      "cell_type": "markdown",
      "source": [
        "[Reference](https://medium.com/@kasperjuunge/how-to-use-neo4j-with-python-1818159634cd)"
      ],
      "metadata": {
        "id": "laXOT4fiUluC"
      }
    },
    {
      "cell_type": "markdown",
      "source": [
        "# Installing Neo4j Python Driver"
      ],
      "metadata": {
        "id": "cCkz1S83UtAf"
      }
    },
    {
      "cell_type": "code",
      "execution_count": 1,
      "metadata": {
        "colab": {
          "base_uri": "https://localhost:8080/"
        },
        "id": "MOAbqLeCUitA",
        "outputId": "019989e8-3e95-4125-d5a3-ba67fe6d6af5"
      },
      "outputs": [
        {
          "output_type": "stream",
          "name": "stdout",
          "text": [
            "Collecting neo4j\n",
            "  Downloading neo4j-5.15.0.tar.gz (196 kB)\n",
            "\u001b[2K     \u001b[90m━━━━━━━━━━━━━━━━━━━━━━━━━━━━━━━━━━━━━━━━\u001b[0m \u001b[32m196.5/196.5 kB\u001b[0m \u001b[31m2.5 MB/s\u001b[0m eta \u001b[36m0:00:00\u001b[0m\n",
            "\u001b[?25h  Installing build dependencies ... \u001b[?25l\u001b[?25hdone\n",
            "  Getting requirements to build wheel ... \u001b[?25l\u001b[?25hdone\n",
            "  Installing backend dependencies ... \u001b[?25l\u001b[?25hdone\n",
            "  Preparing metadata (pyproject.toml) ... \u001b[?25l\u001b[?25hdone\n",
            "Requirement already satisfied: pytz in /usr/local/lib/python3.10/dist-packages (from neo4j) (2023.3.post1)\n",
            "Building wheels for collected packages: neo4j\n",
            "  Building wheel for neo4j (pyproject.toml) ... \u001b[?25l\u001b[?25hdone\n",
            "  Created wheel for neo4j: filename=neo4j-5.15.0-py3-none-any.whl size=272484 sha256=14ae30a2976703abd8657e595f8ca93f7863ee991bd6ff508eef6df77b0a8a76\n",
            "  Stored in directory: /root/.cache/pip/wheels/d5/08/10/6371dbdeec2efd7782f559b21c32bb6b4192ae0216ec5e39c5\n",
            "Successfully built neo4j\n",
            "Installing collected packages: neo4j\n",
            "Successfully installed neo4j-5.15.0\n"
          ]
        }
      ],
      "source": [
        "pip install neo4j"
      ]
    },
    {
      "cell_type": "markdown",
      "source": [
        "# Establishing a Connection"
      ],
      "metadata": {
        "id": "UB9aGhRTUupI"
      }
    },
    {
      "cell_type": "code",
      "source": [
        "from neo4j import GraphDatabase\n",
        "\n",
        "uri = \"neo4j://localhost:7687\"\n",
        "username = \"neo4j\"\n",
        "password = \"your_password\"\n",
        "driver = GraphDatabase.driver(uri, auth=(username, password))"
      ],
      "metadata": {
        "id": "H9wqTLajUrX_"
      },
      "execution_count": 2,
      "outputs": []
    },
    {
      "cell_type": "markdown",
      "source": [
        "# Executing a Query"
      ],
      "metadata": {
        "id": "5g2rSI5LUyzr"
      }
    },
    {
      "cell_type": "code",
      "source": [
        "def add_node(tx, name):\n",
        "    tx.run(\"CREATE (n:Person {name: $name})\", name=name)\n",
        "\n",
        "with driver.session() as session:\n",
        "    session.write_transaction(add_node, \"Alice\")"
      ],
      "metadata": {
        "id": "oCYngjzZUxEb"
      },
      "execution_count": 3,
      "outputs": []
    },
    {
      "cell_type": "markdown",
      "source": [
        "# Querying Data"
      ],
      "metadata": {
        "id": "7e-Xt5PdU2lZ"
      }
    },
    {
      "cell_type": "markdown",
      "source": [],
      "metadata": {
        "id": "I3qYVSkAU2e2"
      }
    },
    {
      "cell_type": "code",
      "source": [
        "def get_person(tx, name):\n",
        "    result = tx.run(\"MATCH (n:Person {name: $name}) RETURN n.name AS name\", name=name)\n",
        "    return [record[\"name\"] for record in result]\n",
        "\n",
        "with driver.session() as session:\n",
        "    names = session.read_transaction(get_person, \"Alice\")\n",
        "    print(names)"
      ],
      "metadata": {
        "id": "832W2beUU0sT"
      },
      "execution_count": 4,
      "outputs": []
    },
    {
      "cell_type": "markdown",
      "source": [
        "# Handling Complex Queries"
      ],
      "metadata": {
        "id": "A_KtJOnvU60L"
      }
    },
    {
      "cell_type": "code",
      "source": [
        "def find_connections(tx, person_name):\n",
        "    query = \"\"\"\n",
        "    MATCH (p:Person {name: $person_name})-[:KNOWS]->(friends)\n",
        "    RETURN friends.name AS name\n",
        "    \"\"\"\n",
        "    result = tx.run(query, person_name=person_name)\n",
        "    return [record[\"name\"] for record in result]\n",
        "\n",
        "with driver.session() as session:\n",
        "    connections = session.read_transaction(find_connections, \"Alice\")\n",
        "    print(connections)"
      ],
      "metadata": {
        "id": "LdxBGAqeU48d"
      },
      "execution_count": 5,
      "outputs": []
    },
    {
      "cell_type": "code",
      "source": [
        "driver.close()"
      ],
      "metadata": {
        "id": "6xyxw_dxU9Ml"
      },
      "execution_count": 6,
      "outputs": []
    }
  ]
}