{
  "nbformat": 4,
  "nbformat_minor": 0,
  "metadata": {
    "colab": {
      "provenance": [],
      "authorship_tag": "ABX9TyMD73JerQ/C9ANZIEAmhGAN"
    },
    "kernelspec": {
      "name": "python3",
      "display_name": "Python 3"
    },
    "language_info": {
      "name": "python"
    }
  },
  "cells": [
    {
      "cell_type": "markdown",
      "source": [
        "[Reference](https://medium.com/@jrosseruk/demystifying-gcns-a-step-by-step-guide-to-building-a-graph-convolutional-network-layer-in-pytorch-09bf2e788a51)"
      ],
      "metadata": {
        "id": "N6k_K0ttf6HL"
      }
    },
    {
      "cell_type": "code",
      "execution_count": 1,
      "metadata": {
        "colab": {
          "base_uri": "https://localhost:8080/"
        },
        "id": "EfKm8Z6Zf3hd",
        "outputId": "d5a1f9d0-e112-404e-cf95-cc981788e83a"
      },
      "outputs": [
        {
          "output_type": "stream",
          "name": "stdout",
          "text": [
            "tensor([[ 6.0857,  1.4089],\n",
            "        [12.2275,  2.7766],\n",
            "        [14.1432,  3.2066]], grad_fn=<ReluBackward0>)\n"
          ]
        }
      ],
      "source": [
        "import torch\n",
        "import torch.nn as nn\n",
        "import torch.nn.functional as F\n",
        "\n",
        "class GCNLayer(nn.Module):\n",
        "    \"\"\"\n",
        "        GCN layer\n",
        "\n",
        "        Args:\n",
        "            input_dim (int): Dimension of the input\n",
        "            output_dim (int): Dimension of the output (a softmax distribution)\n",
        "            A (torch.Tensor): 2D adjacency matrix\n",
        "    \"\"\"\n",
        "\n",
        "    def __init__(self, input_dim: int, output_dim: int, A: torch.Tensor):\n",
        "        super(GCNLayer, self).__init__()\n",
        "        self.input_dim = input_dim\n",
        "        self.output_dim = output_dim\n",
        "        self.A = A\n",
        "\n",
        "        # A_hat = A + I\n",
        "        self.A_hat = self.A + torch.eye(self.A.size(0))\n",
        "\n",
        "        # Create diagonal degree matrix D\n",
        "        self.ones = torch.ones(input_dim, input_dim)\n",
        "        self.D = torch.matmul(self.A.float(), self.ones.float())\n",
        "\n",
        "        # Extract the diagonal elements\n",
        "        self.D = torch.diag(self.D)\n",
        "\n",
        "        # Create a new tensor with the diagonal elements and zeros elsewhere\n",
        "        self.D = torch.diag_embed(self.D)\n",
        "\n",
        "        # Create D^{-1/2}\n",
        "        self.D_neg_sqrt = torch.diag_embed(torch.diag(torch.pow(self.D, -0.5)))\n",
        "\n",
        "        # Initialise the weight matrix as a parameter\n",
        "        self.W = nn.Parameter(torch.rand(input_dim, output_dim))\n",
        "\n",
        "    def forward(self, X: torch.Tensor):\n",
        "\n",
        "        # D^-1/2 * (A_hat * D^-1/2)\n",
        "        support_1 = torch.matmul(self.D_neg_sqrt, torch.matmul(self.A_hat, self.D_neg_sqrt))\n",
        "\n",
        "        # (D^-1/2 * A_hat * D^-1/2) * (X * W)\n",
        "        support_2 = torch.matmul(support_1, torch.matmul(X, self.W))\n",
        "\n",
        "        # ReLU(D^-1/2 * A_hat * D^-1/2 * X * W)\n",
        "        H = F.relu(support_2)\n",
        "\n",
        "        return H\n",
        "\n",
        "if __name__ == \"__main__\":\n",
        "\n",
        "    # Example Usage\n",
        "    input_dim = 3  # Assuming the input dimension is 3\n",
        "    output_dim = 2  # Assuming the output dimension is 2\n",
        "\n",
        "    # Example adjacency matrix\n",
        "    A = torch.tensor([[1., 0., 0.],\n",
        "                      [0., 1., 1.],\n",
        "                      [0., 1., 1.]])\n",
        "\n",
        "    # Create the GCN Layer\n",
        "    gcn_layer = GCNLayer(input_dim, output_dim, A)\n",
        "\n",
        "    # Example input feature matrix\n",
        "    X = torch.tensor([[1., 2., 3.],\n",
        "                      [4., 5., 6.],\n",
        "                      [7., 8., 9.]])\n",
        "\n",
        "    # Forward pass\n",
        "    output = gcn_layer(X)\n",
        "\n",
        "    print(output)"
      ]
    }
  ]
}