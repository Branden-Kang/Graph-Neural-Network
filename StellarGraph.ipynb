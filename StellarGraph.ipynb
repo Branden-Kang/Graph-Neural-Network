{
  "nbformat": 4,
  "nbformat_minor": 0,
  "metadata": {
    "colab": {
      "name": "StellarGraph.ipynb",
      "provenance": [],
      "collapsed_sections": [],
      "authorship_tag": "ABX9TyNqQ7IfMoYrtjivpccrnuEM"
    },
    "kernelspec": {
      "name": "python3",
      "display_name": "Python 3"
    },
    "language_info": {
      "name": "python"
    }
  },
  "cells": [
    {
      "cell_type": "code",
      "source": [
        "# !pip install stellargraph"
      ],
      "metadata": {
        "id": "ELgOnTODLbeZ"
      },
      "execution_count": 1,
      "outputs": []
    },
    {
      "cell_type": "code",
      "execution_count": 2,
      "metadata": {
        "colab": {
          "base_uri": "https://localhost:8080/"
        },
        "id": "3EQFF6-9KyT0",
        "outputId": "d7d81fb8-fe79-42cb-a7d8-bc533a6424c0"
      },
      "outputs": [
        {
          "output_type": "stream",
          "name": "stdout",
          "text": [
            "Looking in indexes: https://pypi.org/simple, https://us-python.pkg.dev/colab-wheels/public/simple/\n",
            "Collecting stellargraph[demos]\n",
            "  Downloading stellargraph-1.2.1-py3-none-any.whl (435 kB)\n",
            "\u001b[K     |████████████████████████████████| 435 kB 7.9 MB/s \n",
            "\u001b[?25hRequirement already satisfied: tensorflow>=2.1.0 in /usr/local/lib/python3.7/dist-packages (from stellargraph[demos]) (2.8.2+zzzcolab20220719082949)\n",
            "Requirement already satisfied: gensim>=3.4.0 in /usr/local/lib/python3.7/dist-packages (from stellargraph[demos]) (3.6.0)\n",
            "Requirement already satisfied: matplotlib>=2.2 in /usr/local/lib/python3.7/dist-packages (from stellargraph[demos]) (3.2.2)\n",
            "Requirement already satisfied: numpy>=1.14 in /usr/local/lib/python3.7/dist-packages (from stellargraph[demos]) (1.21.6)\n",
            "Requirement already satisfied: networkx>=2.2 in /usr/local/lib/python3.7/dist-packages (from stellargraph[demos]) (2.6.3)\n",
            "Requirement already satisfied: pandas>=0.24 in /usr/local/lib/python3.7/dist-packages (from stellargraph[demos]) (1.3.5)\n",
            "Requirement already satisfied: scikit-learn>=0.20 in /usr/local/lib/python3.7/dist-packages (from stellargraph[demos]) (1.0.2)\n",
            "Requirement already satisfied: scipy>=1.1.0 in /usr/local/lib/python3.7/dist-packages (from stellargraph[demos]) (1.7.3)\n",
            "Collecting mplleaflet==0.0.5\n",
            "  Downloading mplleaflet-0.0.5.tar.gz (37 kB)\n",
            "Requirement already satisfied: numba in /usr/local/lib/python3.7/dist-packages (from stellargraph[demos]) (0.56.0)\n",
            "Collecting rdflib\n",
            "  Downloading rdflib-6.2.0-py3-none-any.whl (500 kB)\n",
            "\u001b[K     |████████████████████████████████| 500 kB 42.9 MB/s \n",
            "\u001b[?25hCollecting jupyter\n",
            "  Downloading jupyter-1.0.0-py2.py3-none-any.whl (2.7 kB)\n",
            "Requirement already satisfied: seaborn in /usr/local/lib/python3.7/dist-packages (from stellargraph[demos]) (0.11.2)\n",
            "Requirement already satisfied: jinja2 in /usr/local/lib/python3.7/dist-packages (from mplleaflet==0.0.5->stellargraph[demos]) (2.11.3)\n",
            "Requirement already satisfied: six in /usr/local/lib/python3.7/dist-packages (from mplleaflet==0.0.5->stellargraph[demos]) (1.15.0)\n",
            "Requirement already satisfied: smart-open>=1.2.1 in /usr/local/lib/python3.7/dist-packages (from gensim>=3.4.0->stellargraph[demos]) (5.2.1)\n",
            "Requirement already satisfied: pyparsing!=2.0.4,!=2.1.2,!=2.1.6,>=2.0.1 in /usr/local/lib/python3.7/dist-packages (from matplotlib>=2.2->stellargraph[demos]) (3.0.9)\n",
            "Requirement already satisfied: python-dateutil>=2.1 in /usr/local/lib/python3.7/dist-packages (from matplotlib>=2.2->stellargraph[demos]) (2.8.2)\n",
            "Requirement already satisfied: kiwisolver>=1.0.1 in /usr/local/lib/python3.7/dist-packages (from matplotlib>=2.2->stellargraph[demos]) (1.4.4)\n",
            "Requirement already satisfied: cycler>=0.10 in /usr/local/lib/python3.7/dist-packages (from matplotlib>=2.2->stellargraph[demos]) (0.11.0)\n",
            "Requirement already satisfied: typing-extensions in /usr/local/lib/python3.7/dist-packages (from kiwisolver>=1.0.1->matplotlib>=2.2->stellargraph[demos]) (4.1.1)\n",
            "Requirement already satisfied: pytz>=2017.3 in /usr/local/lib/python3.7/dist-packages (from pandas>=0.24->stellargraph[demos]) (2022.2.1)\n",
            "Requirement already satisfied: threadpoolctl>=2.0.0 in /usr/local/lib/python3.7/dist-packages (from scikit-learn>=0.20->stellargraph[demos]) (3.1.0)\n",
            "Requirement already satisfied: joblib>=0.11 in /usr/local/lib/python3.7/dist-packages (from scikit-learn>=0.20->stellargraph[demos]) (1.1.0)\n",
            "Requirement already satisfied: google-pasta>=0.1.1 in /usr/local/lib/python3.7/dist-packages (from tensorflow>=2.1.0->stellargraph[demos]) (0.2.0)\n",
            "Requirement already satisfied: protobuf<3.20,>=3.9.2 in /usr/local/lib/python3.7/dist-packages (from tensorflow>=2.1.0->stellargraph[demos]) (3.17.3)\n",
            "Requirement already satisfied: flatbuffers>=1.12 in /usr/local/lib/python3.7/dist-packages (from tensorflow>=2.1.0->stellargraph[demos]) (2.0)\n",
            "Requirement already satisfied: tensorflow-estimator<2.9,>=2.8 in /usr/local/lib/python3.7/dist-packages (from tensorflow>=2.1.0->stellargraph[demos]) (2.8.0)\n",
            "Requirement already satisfied: grpcio<2.0,>=1.24.3 in /usr/local/lib/python3.7/dist-packages (from tensorflow>=2.1.0->stellargraph[demos]) (1.47.0)\n",
            "Requirement already satisfied: termcolor>=1.1.0 in /usr/local/lib/python3.7/dist-packages (from tensorflow>=2.1.0->stellargraph[demos]) (1.1.0)\n",
            "Requirement already satisfied: setuptools in /usr/local/lib/python3.7/dist-packages (from tensorflow>=2.1.0->stellargraph[demos]) (57.4.0)\n",
            "Requirement already satisfied: absl-py>=0.4.0 in /usr/local/lib/python3.7/dist-packages (from tensorflow>=2.1.0->stellargraph[demos]) (1.2.0)\n",
            "Requirement already satisfied: h5py>=2.9.0 in /usr/local/lib/python3.7/dist-packages (from tensorflow>=2.1.0->stellargraph[demos]) (3.1.0)\n",
            "Requirement already satisfied: libclang>=9.0.1 in /usr/local/lib/python3.7/dist-packages (from tensorflow>=2.1.0->stellargraph[demos]) (14.0.6)\n",
            "Requirement already satisfied: astunparse>=1.6.0 in /usr/local/lib/python3.7/dist-packages (from tensorflow>=2.1.0->stellargraph[demos]) (1.6.3)\n",
            "Requirement already satisfied: keras<2.9,>=2.8.0rc0 in /usr/local/lib/python3.7/dist-packages (from tensorflow>=2.1.0->stellargraph[demos]) (2.8.0)\n",
            "Requirement already satisfied: wrapt>=1.11.0 in /usr/local/lib/python3.7/dist-packages (from tensorflow>=2.1.0->stellargraph[demos]) (1.14.1)\n",
            "Requirement already satisfied: tensorflow-io-gcs-filesystem>=0.23.1 in /usr/local/lib/python3.7/dist-packages (from tensorflow>=2.1.0->stellargraph[demos]) (0.26.0)\n",
            "Requirement already satisfied: tensorboard<2.9,>=2.8 in /usr/local/lib/python3.7/dist-packages (from tensorflow>=2.1.0->stellargraph[demos]) (2.8.0)\n",
            "Requirement already satisfied: opt-einsum>=2.3.2 in /usr/local/lib/python3.7/dist-packages (from tensorflow>=2.1.0->stellargraph[demos]) (3.3.0)\n",
            "Requirement already satisfied: keras-preprocessing>=1.1.1 in /usr/local/lib/python3.7/dist-packages (from tensorflow>=2.1.0->stellargraph[demos]) (1.1.2)\n",
            "Requirement already satisfied: gast>=0.2.1 in /usr/local/lib/python3.7/dist-packages (from tensorflow>=2.1.0->stellargraph[demos]) (0.5.3)\n",
            "Requirement already satisfied: wheel<1.0,>=0.23.0 in /usr/local/lib/python3.7/dist-packages (from astunparse>=1.6.0->tensorflow>=2.1.0->stellargraph[demos]) (0.37.1)\n",
            "Requirement already satisfied: cached-property in /usr/local/lib/python3.7/dist-packages (from h5py>=2.9.0->tensorflow>=2.1.0->stellargraph[demos]) (1.5.2)\n",
            "Requirement already satisfied: tensorboard-data-server<0.7.0,>=0.6.0 in /usr/local/lib/python3.7/dist-packages (from tensorboard<2.9,>=2.8->tensorflow>=2.1.0->stellargraph[demos]) (0.6.1)\n",
            "Requirement already satisfied: google-auth<3,>=1.6.3 in /usr/local/lib/python3.7/dist-packages (from tensorboard<2.9,>=2.8->tensorflow>=2.1.0->stellargraph[demos]) (1.35.0)\n",
            "Requirement already satisfied: google-auth-oauthlib<0.5,>=0.4.1 in /usr/local/lib/python3.7/dist-packages (from tensorboard<2.9,>=2.8->tensorflow>=2.1.0->stellargraph[demos]) (0.4.6)\n",
            "Requirement already satisfied: tensorboard-plugin-wit>=1.6.0 in /usr/local/lib/python3.7/dist-packages (from tensorboard<2.9,>=2.8->tensorflow>=2.1.0->stellargraph[demos]) (1.8.1)\n",
            "Requirement already satisfied: requests<3,>=2.21.0 in /usr/local/lib/python3.7/dist-packages (from tensorboard<2.9,>=2.8->tensorflow>=2.1.0->stellargraph[demos]) (2.23.0)\n",
            "Requirement already satisfied: markdown>=2.6.8 in /usr/local/lib/python3.7/dist-packages (from tensorboard<2.9,>=2.8->tensorflow>=2.1.0->stellargraph[demos]) (3.4.1)\n",
            "Requirement already satisfied: werkzeug>=0.11.15 in /usr/local/lib/python3.7/dist-packages (from tensorboard<2.9,>=2.8->tensorflow>=2.1.0->stellargraph[demos]) (1.0.1)\n",
            "Requirement already satisfied: rsa<5,>=3.1.4 in /usr/local/lib/python3.7/dist-packages (from google-auth<3,>=1.6.3->tensorboard<2.9,>=2.8->tensorflow>=2.1.0->stellargraph[demos]) (4.9)\n",
            "Requirement already satisfied: pyasn1-modules>=0.2.1 in /usr/local/lib/python3.7/dist-packages (from google-auth<3,>=1.6.3->tensorboard<2.9,>=2.8->tensorflow>=2.1.0->stellargraph[demos]) (0.2.8)\n",
            "Requirement already satisfied: cachetools<5.0,>=2.0.0 in /usr/local/lib/python3.7/dist-packages (from google-auth<3,>=1.6.3->tensorboard<2.9,>=2.8->tensorflow>=2.1.0->stellargraph[demos]) (4.2.4)\n",
            "Requirement already satisfied: requests-oauthlib>=0.7.0 in /usr/local/lib/python3.7/dist-packages (from google-auth-oauthlib<0.5,>=0.4.1->tensorboard<2.9,>=2.8->tensorflow>=2.1.0->stellargraph[demos]) (1.3.1)\n",
            "Requirement already satisfied: importlib-metadata>=4.4 in /usr/local/lib/python3.7/dist-packages (from markdown>=2.6.8->tensorboard<2.9,>=2.8->tensorflow>=2.1.0->stellargraph[demos]) (4.12.0)\n",
            "Requirement already satisfied: zipp>=0.5 in /usr/local/lib/python3.7/dist-packages (from importlib-metadata>=4.4->markdown>=2.6.8->tensorboard<2.9,>=2.8->tensorflow>=2.1.0->stellargraph[demos]) (3.8.1)\n",
            "Requirement already satisfied: pyasn1<0.5.0,>=0.4.6 in /usr/local/lib/python3.7/dist-packages (from pyasn1-modules>=0.2.1->google-auth<3,>=1.6.3->tensorboard<2.9,>=2.8->tensorflow>=2.1.0->stellargraph[demos]) (0.4.8)\n",
            "Requirement already satisfied: idna<3,>=2.5 in /usr/local/lib/python3.7/dist-packages (from requests<3,>=2.21.0->tensorboard<2.9,>=2.8->tensorflow>=2.1.0->stellargraph[demos]) (2.10)\n",
            "Requirement already satisfied: chardet<4,>=3.0.2 in /usr/local/lib/python3.7/dist-packages (from requests<3,>=2.21.0->tensorboard<2.9,>=2.8->tensorflow>=2.1.0->stellargraph[demos]) (3.0.4)\n",
            "Requirement already satisfied: certifi>=2017.4.17 in /usr/local/lib/python3.7/dist-packages (from requests<3,>=2.21.0->tensorboard<2.9,>=2.8->tensorflow>=2.1.0->stellargraph[demos]) (2022.6.15)\n",
            "Requirement already satisfied: urllib3!=1.25.0,!=1.25.1,<1.26,>=1.21.1 in /usr/local/lib/python3.7/dist-packages (from requests<3,>=2.21.0->tensorboard<2.9,>=2.8->tensorflow>=2.1.0->stellargraph[demos]) (1.24.3)\n",
            "Requirement already satisfied: oauthlib>=3.0.0 in /usr/local/lib/python3.7/dist-packages (from requests-oauthlib>=0.7.0->google-auth-oauthlib<0.5,>=0.4.1->tensorboard<2.9,>=2.8->tensorflow>=2.1.0->stellargraph[demos]) (3.2.0)\n",
            "Requirement already satisfied: MarkupSafe>=0.23 in /usr/local/lib/python3.7/dist-packages (from jinja2->mplleaflet==0.0.5->stellargraph[demos]) (2.0.1)\n",
            "Requirement already satisfied: jupyter-console in /usr/local/lib/python3.7/dist-packages (from jupyter->stellargraph[demos]) (6.1.0)\n",
            "Requirement already satisfied: nbconvert in /usr/local/lib/python3.7/dist-packages (from jupyter->stellargraph[demos]) (5.6.1)\n",
            "Requirement already satisfied: ipykernel in /usr/local/lib/python3.7/dist-packages (from jupyter->stellargraph[demos]) (5.3.4)\n",
            "Collecting qtconsole\n",
            "  Downloading qtconsole-5.3.2-py3-none-any.whl (120 kB)\n",
            "\u001b[K     |████████████████████████████████| 120 kB 53.7 MB/s \n",
            "\u001b[?25hRequirement already satisfied: notebook in /usr/local/lib/python3.7/dist-packages (from jupyter->stellargraph[demos]) (5.3.1)\n",
            "Requirement already satisfied: ipywidgets in /usr/local/lib/python3.7/dist-packages (from jupyter->stellargraph[demos]) (7.7.1)\n",
            "Requirement already satisfied: traitlets>=4.1.0 in /usr/local/lib/python3.7/dist-packages (from ipykernel->jupyter->stellargraph[demos]) (5.1.1)\n",
            "Requirement already satisfied: tornado>=4.2 in /usr/local/lib/python3.7/dist-packages (from ipykernel->jupyter->stellargraph[demos]) (5.1.1)\n",
            "Requirement already satisfied: jupyter-client in /usr/local/lib/python3.7/dist-packages (from ipykernel->jupyter->stellargraph[demos]) (6.1.12)\n",
            "Requirement already satisfied: ipython>=5.0.0 in /usr/local/lib/python3.7/dist-packages (from ipykernel->jupyter->stellargraph[demos]) (7.9.0)\n",
            "Requirement already satisfied: decorator in /usr/local/lib/python3.7/dist-packages (from ipython>=5.0.0->ipykernel->jupyter->stellargraph[demos]) (4.4.2)\n",
            "Requirement already satisfied: pickleshare in /usr/local/lib/python3.7/dist-packages (from ipython>=5.0.0->ipykernel->jupyter->stellargraph[demos]) (0.7.5)\n",
            "Collecting jedi>=0.10\n",
            "  Downloading jedi-0.18.1-py2.py3-none-any.whl (1.6 MB)\n",
            "\u001b[K     |████████████████████████████████| 1.6 MB 45.3 MB/s \n",
            "\u001b[?25hRequirement already satisfied: pygments in /usr/local/lib/python3.7/dist-packages (from ipython>=5.0.0->ipykernel->jupyter->stellargraph[demos]) (2.6.1)\n",
            "Requirement already satisfied: backcall in /usr/local/lib/python3.7/dist-packages (from ipython>=5.0.0->ipykernel->jupyter->stellargraph[demos]) (0.2.0)\n",
            "Requirement already satisfied: prompt-toolkit<2.1.0,>=2.0.0 in /usr/local/lib/python3.7/dist-packages (from ipython>=5.0.0->ipykernel->jupyter->stellargraph[demos]) (2.0.10)\n",
            "Requirement already satisfied: pexpect in /usr/local/lib/python3.7/dist-packages (from ipython>=5.0.0->ipykernel->jupyter->stellargraph[demos]) (4.8.0)\n",
            "Requirement already satisfied: parso<0.9.0,>=0.8.0 in /usr/local/lib/python3.7/dist-packages (from jedi>=0.10->ipython>=5.0.0->ipykernel->jupyter->stellargraph[demos]) (0.8.3)\n",
            "Requirement already satisfied: wcwidth in /usr/local/lib/python3.7/dist-packages (from prompt-toolkit<2.1.0,>=2.0.0->ipython>=5.0.0->ipykernel->jupyter->stellargraph[demos]) (0.2.5)\n",
            "Requirement already satisfied: ipython-genutils~=0.2.0 in /usr/local/lib/python3.7/dist-packages (from ipywidgets->jupyter->stellargraph[demos]) (0.2.0)\n",
            "Requirement already satisfied: jupyterlab-widgets>=1.0.0 in /usr/local/lib/python3.7/dist-packages (from ipywidgets->jupyter->stellargraph[demos]) (3.0.2)\n",
            "Requirement already satisfied: widgetsnbextension~=3.6.0 in /usr/local/lib/python3.7/dist-packages (from ipywidgets->jupyter->stellargraph[demos]) (3.6.1)\n",
            "Requirement already satisfied: jupyter-core>=4.4.0 in /usr/local/lib/python3.7/dist-packages (from notebook->jupyter->stellargraph[demos]) (4.11.1)\n",
            "Requirement already satisfied: nbformat in /usr/local/lib/python3.7/dist-packages (from notebook->jupyter->stellargraph[demos]) (5.4.0)\n",
            "Requirement already satisfied: Send2Trash in /usr/local/lib/python3.7/dist-packages (from notebook->jupyter->stellargraph[demos]) (1.8.0)\n",
            "Requirement already satisfied: terminado>=0.8.1 in /usr/local/lib/python3.7/dist-packages (from notebook->jupyter->stellargraph[demos]) (0.13.3)\n",
            "Requirement already satisfied: pyzmq>=13 in /usr/local/lib/python3.7/dist-packages (from jupyter-client->ipykernel->jupyter->stellargraph[demos]) (23.2.1)\n",
            "Requirement already satisfied: ptyprocess in /usr/local/lib/python3.7/dist-packages (from terminado>=0.8.1->notebook->jupyter->stellargraph[demos]) (0.7.0)\n",
            "Requirement already satisfied: entrypoints>=0.2.2 in /usr/local/lib/python3.7/dist-packages (from nbconvert->jupyter->stellargraph[demos]) (0.4)\n",
            "Requirement already satisfied: defusedxml in /usr/local/lib/python3.7/dist-packages (from nbconvert->jupyter->stellargraph[demos]) (0.7.1)\n",
            "Requirement already satisfied: bleach in /usr/local/lib/python3.7/dist-packages (from nbconvert->jupyter->stellargraph[demos]) (5.0.1)\n",
            "Requirement already satisfied: testpath in /usr/local/lib/python3.7/dist-packages (from nbconvert->jupyter->stellargraph[demos]) (0.6.0)\n",
            "Requirement already satisfied: mistune<2,>=0.8.1 in /usr/local/lib/python3.7/dist-packages (from nbconvert->jupyter->stellargraph[demos]) (0.8.4)\n",
            "Requirement already satisfied: pandocfilters>=1.4.1 in /usr/local/lib/python3.7/dist-packages (from nbconvert->jupyter->stellargraph[demos]) (1.5.0)\n",
            "Requirement already satisfied: jsonschema>=2.6 in /usr/local/lib/python3.7/dist-packages (from nbformat->notebook->jupyter->stellargraph[demos]) (4.3.3)\n",
            "Requirement already satisfied: fastjsonschema in /usr/local/lib/python3.7/dist-packages (from nbformat->notebook->jupyter->stellargraph[demos]) (2.16.1)\n",
            "Requirement already satisfied: importlib-resources>=1.4.0 in /usr/local/lib/python3.7/dist-packages (from jsonschema>=2.6->nbformat->notebook->jupyter->stellargraph[demos]) (5.9.0)\n",
            "Requirement already satisfied: attrs>=17.4.0 in /usr/local/lib/python3.7/dist-packages (from jsonschema>=2.6->nbformat->notebook->jupyter->stellargraph[demos]) (22.1.0)\n",
            "Requirement already satisfied: pyrsistent!=0.17.0,!=0.17.1,!=0.17.2,>=0.14.0 in /usr/local/lib/python3.7/dist-packages (from jsonschema>=2.6->nbformat->notebook->jupyter->stellargraph[demos]) (0.18.1)\n",
            "Requirement already satisfied: webencodings in /usr/local/lib/python3.7/dist-packages (from bleach->nbconvert->jupyter->stellargraph[demos]) (0.5.1)\n",
            "Requirement already satisfied: llvmlite<0.40,>=0.39.0dev0 in /usr/local/lib/python3.7/dist-packages (from numba->stellargraph[demos]) (0.39.0)\n",
            "Collecting qtpy>=2.0.1\n",
            "  Downloading QtPy-2.2.0-py3-none-any.whl (82 kB)\n",
            "\u001b[K     |████████████████████████████████| 82 kB 430 kB/s \n",
            "\u001b[?25hRequirement already satisfied: packaging in /usr/local/lib/python3.7/dist-packages (from qtpy>=2.0.1->qtconsole->jupyter->stellargraph[demos]) (21.3)\n",
            "Collecting isodate\n",
            "  Downloading isodate-0.6.1-py2.py3-none-any.whl (41 kB)\n",
            "\u001b[K     |████████████████████████████████| 41 kB 404 kB/s \n",
            "\u001b[?25hBuilding wheels for collected packages: mplleaflet\n",
            "  Building wheel for mplleaflet (setup.py) ... \u001b[?25l\u001b[?25hdone\n",
            "  Created wheel for mplleaflet: filename=mplleaflet-0.0.5-py3-none-any.whl size=28582 sha256=4638e18ecd07ea1140e52b320aa0b5abb0f0b06623c6e8aea24f684b9e6d91ab\n",
            "  Stored in directory: /root/.cache/pip/wheels/6b/f5/21/cdd12e476182b4b0b98326cdb9efa02ddbd5d87ca5de051c84\n",
            "Successfully built mplleaflet\n",
            "Installing collected packages: jedi, qtpy, qtconsole, isodate, stellargraph, rdflib, mplleaflet, jupyter\n",
            "Successfully installed isodate-0.6.1 jedi-0.18.1 jupyter-1.0.0 mplleaflet-0.0.5 qtconsole-5.3.2 qtpy-2.2.0 rdflib-6.2.0 stellargraph-1.2.1\n"
          ]
        }
      ],
      "source": [
        "!pip install stellargraph[demos]"
      ]
    },
    {
      "cell_type": "markdown",
      "source": [
        "# Data preparation"
      ],
      "metadata": {
        "id": "l7uQ4rjNK9Vj"
      }
    },
    {
      "cell_type": "code",
      "source": [
        "import pandas as pd\n",
        "from sklearn import model_selection\n",
        "\n",
        "def load_my_data():\n",
        "    # your own code to load data into Pandas DataFrames, e.g. from CSV files or a database\n",
        "    ...\n",
        "\n",
        "nodes, edges, targets = load_my_data()\n",
        "\n",
        "# Use scikit-learn to compute training and test sets\n",
        "train_targets, test_targets = model_selection.train_test_split(targets, train_size=0.5)"
      ],
      "metadata": {
        "id": "-LjCKL_IK3gY"
      },
      "execution_count": 3,
      "outputs": []
    },
    {
      "cell_type": "markdown",
      "source": [
        "# Graph Machine Learning Model"
      ],
      "metadata": {
        "id": "hURxl0mULE8A"
      }
    },
    {
      "cell_type": "code",
      "source": [
        "import stellargraph as sg\n",
        "import tensorflow as tf\n",
        "\n",
        "# convert the raw data into StellarGraph's graph format for faster operations\n",
        "graph = sg.StellarGraph(nodes, edges)\n",
        "\n",
        "generator = sg.mapper.FullBatchNodeGenerator(graph, method=\"gcn\")\n",
        "\n",
        "# two layers of GCN, each with hidden dimension 16\n",
        "gcn = sg.layer.GCN(layer_sizes=[16, 16], generator=generator)\n",
        "x_inp, x_out = gcn.in_out_tensors() # create the input and output TensorFlow tensors\n",
        "\n",
        "# use TensorFlow Keras to add a layer to compute the (one-hot) predictions\n",
        "predictions = tf.keras.layers.Dense(units=len(ground_truth_targets.columns), activation=\"softmax\")(x_out)\n",
        "\n",
        "# use the input and output tensors to create a TensorFlow Keras model\n",
        "model = tf.keras.Model(inputs=x_inp, outputs=predictions)"
      ],
      "metadata": {
        "id": "I6FtqYJRLG5l"
      },
      "execution_count": 4,
      "outputs": []
    },
    {
      "cell_type": "markdown",
      "source": [
        "# Training and evaluation"
      ],
      "metadata": {
        "id": "uRTWHuntLOLL"
      }
    },
    {
      "cell_type": "code",
      "source": [
        "# # prepare the model for training with the Adam optimiser and an appropriate loss function\n",
        "# model.compile(\"adam\", loss=\"categorical_crossentropy\", metrics=[\"accuracy\"])\n",
        "\n",
        "# # train the model on the train set\n",
        "# model.fit(generator.flow(train_targets.index, train_targets), epochs=5)\n",
        "\n",
        "# # check model generalisation on the test set\n",
        "# (loss, accuracy) = model.evaluate(generator.flow(test_targets.index, test_targets))\n",
        "# print(f\"Test set: loss = {loss}, accuracy = {accuracy}\")"
      ],
      "metadata": {
        "id": "X5tThrYOLOc9"
      },
      "execution_count": 5,
      "outputs": []
    },
    {
      "cell_type": "markdown",
      "source": [
        "# Node classification with Graph Convolutional Network (GCN)"
      ],
      "metadata": {
        "id": "fGBDQK1ZLpW4"
      }
    },
    {
      "cell_type": "code",
      "source": [
        "import pandas as pd\n",
        "import os\n",
        "\n",
        "import stellargraph as sg\n",
        "from stellargraph.mapper import FullBatchNodeGenerator\n",
        "from stellargraph.layer import GCN\n",
        "\n",
        "from tensorflow.keras import layers, optimizers, losses, metrics, Model\n",
        "from sklearn import preprocessing, model_selection\n",
        "from IPython.display import display, HTML\n",
        "import matplotlib.pyplot as plt\n",
        "%matplotlib inline"
      ],
      "metadata": {
        "id": "U3XkyWwKMspV"
      },
      "execution_count": 6,
      "outputs": []
    },
    {
      "cell_type": "markdown",
      "source": [
        "## 1. Data preparation"
      ],
      "metadata": {
        "id": "FiFH70ApL0h9"
      }
    },
    {
      "cell_type": "markdown",
      "source": [
        "### Loading the CORA network"
      ],
      "metadata": {
        "id": "u4_tjiLeMyE0"
      }
    },
    {
      "cell_type": "code",
      "source": [
        "dataset = sg.datasets.Cora()\n",
        "display(HTML(dataset.description))\n",
        "G, node_subjects = dataset.load()"
      ],
      "metadata": {
        "colab": {
          "base_uri": "https://localhost:8080/",
          "height": 51
        },
        "id": "r_oaqfXTL6EF",
        "outputId": "00584691-8e6a-4a31-bf9a-0c22a4c0506e"
      },
      "execution_count": 7,
      "outputs": [
        {
          "output_type": "display_data",
          "data": {
            "text/plain": [
              "<IPython.core.display.HTML object>"
            ],
            "text/html": [
              "The Cora dataset consists of 2708 scientific publications classified into one of seven classes. The citation network consists of 5429 links. Each publication in the dataset is described by a 0/1-valued word vector indicating the absence/presence of the corresponding word from the dictionary. The dictionary consists of 1433 unique words."
            ]
          },
          "metadata": {}
        }
      ]
    },
    {
      "cell_type": "code",
      "source": [
        "dataset"
      ],
      "metadata": {
        "colab": {
          "base_uri": "https://localhost:8080/"
        },
        "id": "hIKBZlZqM9n-",
        "outputId": "e1a434ab-6ddd-4999-926e-23350e3fe776"
      },
      "execution_count": 8,
      "outputs": [
        {
          "output_type": "execute_result",
          "data": {
            "text/plain": [
              "<stellargraph.datasets.datasets.Cora at 0x7f3d9dc22390>"
            ]
          },
          "metadata": {},
          "execution_count": 8
        }
      ]
    },
    {
      "cell_type": "code",
      "source": [
        "print(G)\n",
        "# print(node_subjects)"
      ],
      "metadata": {
        "colab": {
          "base_uri": "https://localhost:8080/"
        },
        "id": "1hhQ6InIM2la",
        "outputId": "f2cdcda0-076c-42d9-b528-7c6b797186db"
      },
      "execution_count": 9,
      "outputs": [
        {
          "output_type": "stream",
          "name": "stdout",
          "text": [
            "<stellargraph.core.graph.StellarGraph object at 0x7f3e13d2e110>\n"
          ]
        }
      ]
    },
    {
      "cell_type": "code",
      "source": [
        "print(G.info())"
      ],
      "metadata": {
        "colab": {
          "base_uri": "https://localhost:8080/"
        },
        "id": "BnbyxvYONAxs",
        "outputId": "1f2abc32-4e2e-4fd7-c59e-95cac2a9d892"
      },
      "execution_count": 10,
      "outputs": [
        {
          "output_type": "stream",
          "name": "stdout",
          "text": [
            "StellarGraph: Undirected multigraph\n",
            " Nodes: 2708, Edges: 5429\n",
            "\n",
            " Node types:\n",
            "  paper: [2708]\n",
            "    Features: float32 vector, length 1433\n",
            "    Edge types: paper-cites->paper\n",
            "\n",
            " Edge types:\n",
            "    paper-cites->paper: [5429]\n",
            "        Weights: all 1 (default)\n",
            "        Features: none\n"
          ]
        }
      ]
    },
    {
      "cell_type": "code",
      "source": [
        "node_subjects.value_counts().to_frame()"
      ],
      "metadata": {
        "colab": {
          "base_uri": "https://localhost:8080/",
          "height": 266
        },
        "id": "oOUixOltNCU_",
        "outputId": "6e97b2e0-0c7c-40f3-af7d-b193216168b8"
      },
      "execution_count": 11,
      "outputs": [
        {
          "output_type": "execute_result",
          "data": {
            "text/plain": [
              "                        subject\n",
              "Neural_Networks             818\n",
              "Probabilistic_Methods       426\n",
              "Genetic_Algorithms          418\n",
              "Theory                      351\n",
              "Case_Based                  298\n",
              "Reinforcement_Learning      217\n",
              "Rule_Learning               180"
            ],
            "text/html": [
              "\n",
              "  <div id=\"df-fb97880e-3daf-427c-8822-4d47e51580f1\">\n",
              "    <div class=\"colab-df-container\">\n",
              "      <div>\n",
              "<style scoped>\n",
              "    .dataframe tbody tr th:only-of-type {\n",
              "        vertical-align: middle;\n",
              "    }\n",
              "\n",
              "    .dataframe tbody tr th {\n",
              "        vertical-align: top;\n",
              "    }\n",
              "\n",
              "    .dataframe thead th {\n",
              "        text-align: right;\n",
              "    }\n",
              "</style>\n",
              "<table border=\"1\" class=\"dataframe\">\n",
              "  <thead>\n",
              "    <tr style=\"text-align: right;\">\n",
              "      <th></th>\n",
              "      <th>subject</th>\n",
              "    </tr>\n",
              "  </thead>\n",
              "  <tbody>\n",
              "    <tr>\n",
              "      <th>Neural_Networks</th>\n",
              "      <td>818</td>\n",
              "    </tr>\n",
              "    <tr>\n",
              "      <th>Probabilistic_Methods</th>\n",
              "      <td>426</td>\n",
              "    </tr>\n",
              "    <tr>\n",
              "      <th>Genetic_Algorithms</th>\n",
              "      <td>418</td>\n",
              "    </tr>\n",
              "    <tr>\n",
              "      <th>Theory</th>\n",
              "      <td>351</td>\n",
              "    </tr>\n",
              "    <tr>\n",
              "      <th>Case_Based</th>\n",
              "      <td>298</td>\n",
              "    </tr>\n",
              "    <tr>\n",
              "      <th>Reinforcement_Learning</th>\n",
              "      <td>217</td>\n",
              "    </tr>\n",
              "    <tr>\n",
              "      <th>Rule_Learning</th>\n",
              "      <td>180</td>\n",
              "    </tr>\n",
              "  </tbody>\n",
              "</table>\n",
              "</div>\n",
              "      <button class=\"colab-df-convert\" onclick=\"convertToInteractive('df-fb97880e-3daf-427c-8822-4d47e51580f1')\"\n",
              "              title=\"Convert this dataframe to an interactive table.\"\n",
              "              style=\"display:none;\">\n",
              "        \n",
              "  <svg xmlns=\"http://www.w3.org/2000/svg\" height=\"24px\"viewBox=\"0 0 24 24\"\n",
              "       width=\"24px\">\n",
              "    <path d=\"M0 0h24v24H0V0z\" fill=\"none\"/>\n",
              "    <path d=\"M18.56 5.44l.94 2.06.94-2.06 2.06-.94-2.06-.94-.94-2.06-.94 2.06-2.06.94zm-11 1L8.5 8.5l.94-2.06 2.06-.94-2.06-.94L8.5 2.5l-.94 2.06-2.06.94zm10 10l.94 2.06.94-2.06 2.06-.94-2.06-.94-.94-2.06-.94 2.06-2.06.94z\"/><path d=\"M17.41 7.96l-1.37-1.37c-.4-.4-.92-.59-1.43-.59-.52 0-1.04.2-1.43.59L10.3 9.45l-7.72 7.72c-.78.78-.78 2.05 0 2.83L4 21.41c.39.39.9.59 1.41.59.51 0 1.02-.2 1.41-.59l7.78-7.78 2.81-2.81c.8-.78.8-2.07 0-2.86zM5.41 20L4 18.59l7.72-7.72 1.47 1.35L5.41 20z\"/>\n",
              "  </svg>\n",
              "      </button>\n",
              "      \n",
              "  <style>\n",
              "    .colab-df-container {\n",
              "      display:flex;\n",
              "      flex-wrap:wrap;\n",
              "      gap: 12px;\n",
              "    }\n",
              "\n",
              "    .colab-df-convert {\n",
              "      background-color: #E8F0FE;\n",
              "      border: none;\n",
              "      border-radius: 50%;\n",
              "      cursor: pointer;\n",
              "      display: none;\n",
              "      fill: #1967D2;\n",
              "      height: 32px;\n",
              "      padding: 0 0 0 0;\n",
              "      width: 32px;\n",
              "    }\n",
              "\n",
              "    .colab-df-convert:hover {\n",
              "      background-color: #E2EBFA;\n",
              "      box-shadow: 0px 1px 2px rgba(60, 64, 67, 0.3), 0px 1px 3px 1px rgba(60, 64, 67, 0.15);\n",
              "      fill: #174EA6;\n",
              "    }\n",
              "\n",
              "    [theme=dark] .colab-df-convert {\n",
              "      background-color: #3B4455;\n",
              "      fill: #D2E3FC;\n",
              "    }\n",
              "\n",
              "    [theme=dark] .colab-df-convert:hover {\n",
              "      background-color: #434B5C;\n",
              "      box-shadow: 0px 1px 3px 1px rgba(0, 0, 0, 0.15);\n",
              "      filter: drop-shadow(0px 1px 2px rgba(0, 0, 0, 0.3));\n",
              "      fill: #FFFFFF;\n",
              "    }\n",
              "  </style>\n",
              "\n",
              "      <script>\n",
              "        const buttonEl =\n",
              "          document.querySelector('#df-fb97880e-3daf-427c-8822-4d47e51580f1 button.colab-df-convert');\n",
              "        buttonEl.style.display =\n",
              "          google.colab.kernel.accessAllowed ? 'block' : 'none';\n",
              "\n",
              "        async function convertToInteractive(key) {\n",
              "          const element = document.querySelector('#df-fb97880e-3daf-427c-8822-4d47e51580f1');\n",
              "          const dataTable =\n",
              "            await google.colab.kernel.invokeFunction('convertToInteractive',\n",
              "                                                     [key], {});\n",
              "          if (!dataTable) return;\n",
              "\n",
              "          const docLinkHtml = 'Like what you see? Visit the ' +\n",
              "            '<a target=\"_blank\" href=https://colab.research.google.com/notebooks/data_table.ipynb>data table notebook</a>'\n",
              "            + ' to learn more about interactive tables.';\n",
              "          element.innerHTML = '';\n",
              "          dataTable['output_type'] = 'display_data';\n",
              "          await google.colab.output.renderOutput(dataTable, element);\n",
              "          const docLink = document.createElement('div');\n",
              "          docLink.innerHTML = docLinkHtml;\n",
              "          element.appendChild(docLink);\n",
              "        }\n",
              "      </script>\n",
              "    </div>\n",
              "  </div>\n",
              "  "
            ]
          },
          "metadata": {},
          "execution_count": 11
        }
      ]
    },
    {
      "cell_type": "markdown",
      "source": [
        "### Splitting the data"
      ],
      "metadata": {
        "id": "hVpoJFxxNK-Q"
      }
    },
    {
      "cell_type": "code",
      "source": [
        "train_subjects, test_subjects = model_selection.train_test_split(\n",
        "    node_subjects, train_size=140, test_size=None, stratify=node_subjects\n",
        ")\n",
        "val_subjects, test_subjects = model_selection.train_test_split(\n",
        "    test_subjects, train_size=500, test_size=None, stratify=test_subjects\n",
        ")"
      ],
      "metadata": {
        "id": "krfa4FcLNJIi"
      },
      "execution_count": 12,
      "outputs": []
    },
    {
      "cell_type": "code",
      "source": [
        "train_subjects.value_counts().to_frame()"
      ],
      "metadata": {
        "colab": {
          "base_uri": "https://localhost:8080/",
          "height": 266
        },
        "id": "q3C_PQssNPdx",
        "outputId": "f468fed4-57e7-461b-cf2b-b018e2721b2f"
      },
      "execution_count": 13,
      "outputs": [
        {
          "output_type": "execute_result",
          "data": {
            "text/plain": [
              "                        subject\n",
              "Neural_Networks              42\n",
              "Genetic_Algorithms           22\n",
              "Probabilistic_Methods        22\n",
              "Theory                       18\n",
              "Case_Based                   16\n",
              "Reinforcement_Learning       11\n",
              "Rule_Learning                 9"
            ],
            "text/html": [
              "\n",
              "  <div id=\"df-023df2c3-1297-47ca-ba8c-30e794f2d271\">\n",
              "    <div class=\"colab-df-container\">\n",
              "      <div>\n",
              "<style scoped>\n",
              "    .dataframe tbody tr th:only-of-type {\n",
              "        vertical-align: middle;\n",
              "    }\n",
              "\n",
              "    .dataframe tbody tr th {\n",
              "        vertical-align: top;\n",
              "    }\n",
              "\n",
              "    .dataframe thead th {\n",
              "        text-align: right;\n",
              "    }\n",
              "</style>\n",
              "<table border=\"1\" class=\"dataframe\">\n",
              "  <thead>\n",
              "    <tr style=\"text-align: right;\">\n",
              "      <th></th>\n",
              "      <th>subject</th>\n",
              "    </tr>\n",
              "  </thead>\n",
              "  <tbody>\n",
              "    <tr>\n",
              "      <th>Neural_Networks</th>\n",
              "      <td>42</td>\n",
              "    </tr>\n",
              "    <tr>\n",
              "      <th>Genetic_Algorithms</th>\n",
              "      <td>22</td>\n",
              "    </tr>\n",
              "    <tr>\n",
              "      <th>Probabilistic_Methods</th>\n",
              "      <td>22</td>\n",
              "    </tr>\n",
              "    <tr>\n",
              "      <th>Theory</th>\n",
              "      <td>18</td>\n",
              "    </tr>\n",
              "    <tr>\n",
              "      <th>Case_Based</th>\n",
              "      <td>16</td>\n",
              "    </tr>\n",
              "    <tr>\n",
              "      <th>Reinforcement_Learning</th>\n",
              "      <td>11</td>\n",
              "    </tr>\n",
              "    <tr>\n",
              "      <th>Rule_Learning</th>\n",
              "      <td>9</td>\n",
              "    </tr>\n",
              "  </tbody>\n",
              "</table>\n",
              "</div>\n",
              "      <button class=\"colab-df-convert\" onclick=\"convertToInteractive('df-023df2c3-1297-47ca-ba8c-30e794f2d271')\"\n",
              "              title=\"Convert this dataframe to an interactive table.\"\n",
              "              style=\"display:none;\">\n",
              "        \n",
              "  <svg xmlns=\"http://www.w3.org/2000/svg\" height=\"24px\"viewBox=\"0 0 24 24\"\n",
              "       width=\"24px\">\n",
              "    <path d=\"M0 0h24v24H0V0z\" fill=\"none\"/>\n",
              "    <path d=\"M18.56 5.44l.94 2.06.94-2.06 2.06-.94-2.06-.94-.94-2.06-.94 2.06-2.06.94zm-11 1L8.5 8.5l.94-2.06 2.06-.94-2.06-.94L8.5 2.5l-.94 2.06-2.06.94zm10 10l.94 2.06.94-2.06 2.06-.94-2.06-.94-.94-2.06-.94 2.06-2.06.94z\"/><path d=\"M17.41 7.96l-1.37-1.37c-.4-.4-.92-.59-1.43-.59-.52 0-1.04.2-1.43.59L10.3 9.45l-7.72 7.72c-.78.78-.78 2.05 0 2.83L4 21.41c.39.39.9.59 1.41.59.51 0 1.02-.2 1.41-.59l7.78-7.78 2.81-2.81c.8-.78.8-2.07 0-2.86zM5.41 20L4 18.59l7.72-7.72 1.47 1.35L5.41 20z\"/>\n",
              "  </svg>\n",
              "      </button>\n",
              "      \n",
              "  <style>\n",
              "    .colab-df-container {\n",
              "      display:flex;\n",
              "      flex-wrap:wrap;\n",
              "      gap: 12px;\n",
              "    }\n",
              "\n",
              "    .colab-df-convert {\n",
              "      background-color: #E8F0FE;\n",
              "      border: none;\n",
              "      border-radius: 50%;\n",
              "      cursor: pointer;\n",
              "      display: none;\n",
              "      fill: #1967D2;\n",
              "      height: 32px;\n",
              "      padding: 0 0 0 0;\n",
              "      width: 32px;\n",
              "    }\n",
              "\n",
              "    .colab-df-convert:hover {\n",
              "      background-color: #E2EBFA;\n",
              "      box-shadow: 0px 1px 2px rgba(60, 64, 67, 0.3), 0px 1px 3px 1px rgba(60, 64, 67, 0.15);\n",
              "      fill: #174EA6;\n",
              "    }\n",
              "\n",
              "    [theme=dark] .colab-df-convert {\n",
              "      background-color: #3B4455;\n",
              "      fill: #D2E3FC;\n",
              "    }\n",
              "\n",
              "    [theme=dark] .colab-df-convert:hover {\n",
              "      background-color: #434B5C;\n",
              "      box-shadow: 0px 1px 3px 1px rgba(0, 0, 0, 0.15);\n",
              "      filter: drop-shadow(0px 1px 2px rgba(0, 0, 0, 0.3));\n",
              "      fill: #FFFFFF;\n",
              "    }\n",
              "  </style>\n",
              "\n",
              "      <script>\n",
              "        const buttonEl =\n",
              "          document.querySelector('#df-023df2c3-1297-47ca-ba8c-30e794f2d271 button.colab-df-convert');\n",
              "        buttonEl.style.display =\n",
              "          google.colab.kernel.accessAllowed ? 'block' : 'none';\n",
              "\n",
              "        async function convertToInteractive(key) {\n",
              "          const element = document.querySelector('#df-023df2c3-1297-47ca-ba8c-30e794f2d271');\n",
              "          const dataTable =\n",
              "            await google.colab.kernel.invokeFunction('convertToInteractive',\n",
              "                                                     [key], {});\n",
              "          if (!dataTable) return;\n",
              "\n",
              "          const docLinkHtml = 'Like what you see? Visit the ' +\n",
              "            '<a target=\"_blank\" href=https://colab.research.google.com/notebooks/data_table.ipynb>data table notebook</a>'\n",
              "            + ' to learn more about interactive tables.';\n",
              "          element.innerHTML = '';\n",
              "          dataTable['output_type'] = 'display_data';\n",
              "          await google.colab.output.renderOutput(dataTable, element);\n",
              "          const docLink = document.createElement('div');\n",
              "          docLink.innerHTML = docLinkHtml;\n",
              "          element.appendChild(docLink);\n",
              "        }\n",
              "      </script>\n",
              "    </div>\n",
              "  </div>\n",
              "  "
            ]
          },
          "metadata": {},
          "execution_count": 13
        }
      ]
    },
    {
      "cell_type": "markdown",
      "source": [
        "### Converting to numeric arrays"
      ],
      "metadata": {
        "id": "rXgFGi_BNV0x"
      }
    },
    {
      "cell_type": "code",
      "source": [
        "target_encoding = preprocessing.LabelBinarizer()\n",
        "\n",
        "train_targets = target_encoding.fit_transform(train_subjects)\n",
        "val_targets = target_encoding.transform(val_subjects)\n",
        "test_targets = target_encoding.transform(test_subjects)"
      ],
      "metadata": {
        "id": "CjFke0T6NWlv"
      },
      "execution_count": 14,
      "outputs": []
    },
    {
      "cell_type": "markdown",
      "source": [
        "## 2. Creating the GCN layers"
      ],
      "metadata": {
        "id": "rK0_esm5L22g"
      }
    },
    {
      "cell_type": "code",
      "source": [
        "generator = FullBatchNodeGenerator(G, method=\"gcn\")\n",
        "generator"
      ],
      "metadata": {
        "colab": {
          "base_uri": "https://localhost:8080/"
        },
        "id": "lX_EUPBDL6YX",
        "outputId": "d705c8d7-b9d8-4fef-cf4b-a7eef7ebe86e"
      },
      "execution_count": 15,
      "outputs": [
        {
          "output_type": "stream",
          "name": "stdout",
          "text": [
            "Using GCN (local pooling) filters...\n"
          ]
        },
        {
          "output_type": "execute_result",
          "data": {
            "text/plain": [
              "<stellargraph.mapper.full_batch_generators.FullBatchNodeGenerator at 0x7f3d9d79fad0>"
            ]
          },
          "metadata": {},
          "execution_count": 15
        }
      ]
    },
    {
      "cell_type": "code",
      "source": [
        "train_gen = generator.flow(train_subjects.index, train_targets)\n",
        "train_gen "
      ],
      "metadata": {
        "colab": {
          "base_uri": "https://localhost:8080/"
        },
        "id": "8zBO5XGhNrP7",
        "outputId": "7cf86182-5fcc-4679-e21d-b6f61d9a6666"
      },
      "execution_count": 16,
      "outputs": [
        {
          "output_type": "execute_result",
          "data": {
            "text/plain": [
              "<stellargraph.mapper.sequences.SparseFullBatchSequence at 0x7f3e13d2e490>"
            ]
          },
          "metadata": {},
          "execution_count": 16
        }
      ]
    },
    {
      "cell_type": "code",
      "source": [
        "gcn = GCN(\n",
        "    layer_sizes=[16, 16], activations=[\"relu\", \"relu\"], generator=generator, dropout=0.5\n",
        ")"
      ],
      "metadata": {
        "id": "du_qDmpsNxBY"
      },
      "execution_count": 17,
      "outputs": []
    },
    {
      "cell_type": "code",
      "source": [
        "x_inp, x_out = gcn.in_out_tensors()\n",
        "x_out"
      ],
      "metadata": {
        "colab": {
          "base_uri": "https://localhost:8080/"
        },
        "id": "6yAagezLN9MN",
        "outputId": "59fd8f8d-aabc-4ddc-c2bd-512bb193bf4d"
      },
      "execution_count": 18,
      "outputs": [
        {
          "output_type": "execute_result",
          "data": {
            "text/plain": [
              "<KerasTensor: shape=(1, None, 16) dtype=float32 (created by layer 'gather_indices')>"
            ]
          },
          "metadata": {},
          "execution_count": 18
        }
      ]
    },
    {
      "cell_type": "code",
      "source": [
        "predictions = layers.Dense(units=train_targets.shape[1], activation=\"softmax\")(x_out)\n",
        "predictions"
      ],
      "metadata": {
        "colab": {
          "base_uri": "https://localhost:8080/"
        },
        "id": "d0QEPv5oOAwa",
        "outputId": "a6ee4060-a249-4b6f-b69e-901ee00a37d3"
      },
      "execution_count": 19,
      "outputs": [
        {
          "output_type": "execute_result",
          "data": {
            "text/plain": [
              "<KerasTensor: shape=(1, None, 7) dtype=float32 (created by layer 'dense')>"
            ]
          },
          "metadata": {},
          "execution_count": 19
        }
      ]
    },
    {
      "cell_type": "markdown",
      "source": [
        "## 3. Training and evaluating"
      ],
      "metadata": {
        "id": "emkTyTkyL5Mn"
      }
    },
    {
      "cell_type": "markdown",
      "source": [
        "### Training the model"
      ],
      "metadata": {
        "id": "JQDI4zFLOEOJ"
      }
    },
    {
      "cell_type": "code",
      "source": [
        "model = Model(inputs=x_inp, outputs=predictions)\n",
        "model.compile(\n",
        "    optimizer=optimizers.Adam(lr=0.01),\n",
        "    loss=losses.categorical_crossentropy,\n",
        "    metrics=[\"acc\"],\n",
        ")"
      ],
      "metadata": {
        "colab": {
          "base_uri": "https://localhost:8080/"
        },
        "id": "fcPTP8aGLpm0",
        "outputId": "1643b501-9ecf-4c25-e4d6-85b3b7130de8"
      },
      "execution_count": 20,
      "outputs": [
        {
          "output_type": "stream",
          "name": "stderr",
          "text": [
            "/usr/local/lib/python3.7/dist-packages/keras/optimizer_v2/adam.py:105: UserWarning: The `lr` argument is deprecated, use `learning_rate` instead.\n",
            "  super(Adam, self).__init__(name, **kwargs)\n"
          ]
        }
      ]
    },
    {
      "cell_type": "code",
      "source": [
        "val_gen = generator.flow(val_subjects.index, val_targets)"
      ],
      "metadata": {
        "id": "G__BiaKkOLcd"
      },
      "execution_count": 21,
      "outputs": []
    },
    {
      "cell_type": "code",
      "source": [
        "from tensorflow.keras.callbacks import EarlyStopping\n",
        "\n",
        "es_callback = EarlyStopping(monitor=\"val_acc\", patience=50, restore_best_weights=True)"
      ],
      "metadata": {
        "id": "R0J1-AzBONDU"
      },
      "execution_count": 22,
      "outputs": []
    },
    {
      "cell_type": "code",
      "source": [
        "history = model.fit(\n",
        "    train_gen,\n",
        "    epochs=200,\n",
        "    validation_data=val_gen,\n",
        "    verbose=2,\n",
        "    shuffle=False,  # this should be False, since shuffling data means shuffling the whole graph\n",
        "    callbacks=[es_callback],\n",
        ")"
      ],
      "metadata": {
        "colab": {
          "base_uri": "https://localhost:8080/"
        },
        "id": "js2tCQkkOOdl",
        "outputId": "6e22e3d4-9eef-4f16-c25f-b0bc7d7fde52"
      },
      "execution_count": 23,
      "outputs": [
        {
          "output_type": "stream",
          "name": "stdout",
          "text": [
            "Epoch 1/200\n",
            "1/1 - 2s - loss: 1.9356 - acc: 0.2000 - val_loss: 1.8809 - val_acc: 0.3000 - 2s/epoch - 2s/step\n",
            "Epoch 2/200\n",
            "1/1 - 0s - loss: 1.8689 - acc: 0.3214 - val_loss: 1.8246 - val_acc: 0.3060 - 173ms/epoch - 173ms/step\n",
            "Epoch 3/200\n",
            "1/1 - 0s - loss: 1.8019 - acc: 0.3357 - val_loss: 1.7621 - val_acc: 0.3240 - 172ms/epoch - 172ms/step\n",
            "Epoch 4/200\n",
            "1/1 - 0s - loss: 1.7174 - acc: 0.3286 - val_loss: 1.6949 - val_acc: 0.3440 - 169ms/epoch - 169ms/step\n",
            "Epoch 5/200\n",
            "1/1 - 0s - loss: 1.6254 - acc: 0.4000 - val_loss: 1.6251 - val_acc: 0.3660 - 252ms/epoch - 252ms/step\n",
            "Epoch 6/200\n",
            "1/1 - 0s - loss: 1.5341 - acc: 0.4214 - val_loss: 1.5558 - val_acc: 0.3840 - 233ms/epoch - 233ms/step\n",
            "Epoch 7/200\n",
            "1/1 - 0s - loss: 1.4619 - acc: 0.4429 - val_loss: 1.4843 - val_acc: 0.4100 - 166ms/epoch - 166ms/step\n",
            "Epoch 8/200\n",
            "1/1 - 0s - loss: 1.3383 - acc: 0.4857 - val_loss: 1.4123 - val_acc: 0.4580 - 169ms/epoch - 169ms/step\n",
            "Epoch 9/200\n",
            "1/1 - 0s - loss: 1.2651 - acc: 0.5000 - val_loss: 1.3422 - val_acc: 0.4940 - 168ms/epoch - 168ms/step\n",
            "Epoch 10/200\n",
            "1/1 - 0s - loss: 1.2030 - acc: 0.5357 - val_loss: 1.2762 - val_acc: 0.5380 - 189ms/epoch - 189ms/step\n",
            "Epoch 11/200\n",
            "1/1 - 0s - loss: 1.0755 - acc: 0.5500 - val_loss: 1.2161 - val_acc: 0.5880 - 173ms/epoch - 173ms/step\n",
            "Epoch 12/200\n",
            "1/1 - 0s - loss: 1.0042 - acc: 0.6429 - val_loss: 1.1590 - val_acc: 0.6260 - 168ms/epoch - 168ms/step\n",
            "Epoch 13/200\n",
            "1/1 - 0s - loss: 0.9361 - acc: 0.7214 - val_loss: 1.1019 - val_acc: 0.6520 - 187ms/epoch - 187ms/step\n",
            "Epoch 14/200\n",
            "1/1 - 0s - loss: 0.9000 - acc: 0.7357 - val_loss: 1.0510 - val_acc: 0.6740 - 162ms/epoch - 162ms/step\n",
            "Epoch 15/200\n",
            "1/1 - 0s - loss: 0.8203 - acc: 0.7571 - val_loss: 1.0067 - val_acc: 0.6860 - 178ms/epoch - 178ms/step\n",
            "Epoch 16/200\n",
            "1/1 - 0s - loss: 0.7230 - acc: 0.7786 - val_loss: 0.9680 - val_acc: 0.7020 - 167ms/epoch - 167ms/step\n",
            "Epoch 17/200\n",
            "1/1 - 0s - loss: 0.7381 - acc: 0.7714 - val_loss: 0.9328 - val_acc: 0.6980 - 173ms/epoch - 173ms/step\n",
            "Epoch 18/200\n",
            "1/1 - 0s - loss: 0.6595 - acc: 0.8214 - val_loss: 0.8928 - val_acc: 0.7040 - 186ms/epoch - 186ms/step\n",
            "Epoch 19/200\n",
            "1/1 - 0s - loss: 0.5785 - acc: 0.8214 - val_loss: 0.8565 - val_acc: 0.7060 - 159ms/epoch - 159ms/step\n",
            "Epoch 20/200\n",
            "1/1 - 0s - loss: 0.5394 - acc: 0.8000 - val_loss: 0.8207 - val_acc: 0.7240 - 167ms/epoch - 167ms/step\n",
            "Epoch 21/200\n",
            "1/1 - 0s - loss: 0.5078 - acc: 0.8071 - val_loss: 0.7904 - val_acc: 0.7360 - 183ms/epoch - 183ms/step\n",
            "Epoch 22/200\n",
            "1/1 - 0s - loss: 0.4111 - acc: 0.8929 - val_loss: 0.7645 - val_acc: 0.7560 - 181ms/epoch - 181ms/step\n",
            "Epoch 23/200\n",
            "1/1 - 0s - loss: 0.3993 - acc: 0.8857 - val_loss: 0.7428 - val_acc: 0.7860 - 198ms/epoch - 198ms/step\n",
            "Epoch 24/200\n",
            "1/1 - 0s - loss: 0.3663 - acc: 0.9143 - val_loss: 0.7298 - val_acc: 0.8000 - 177ms/epoch - 177ms/step\n",
            "Epoch 25/200\n",
            "1/1 - 0s - loss: 0.3208 - acc: 0.8929 - val_loss: 0.7223 - val_acc: 0.8060 - 182ms/epoch - 182ms/step\n",
            "Epoch 26/200\n",
            "1/1 - 0s - loss: 0.2826 - acc: 0.9214 - val_loss: 0.7191 - val_acc: 0.8120 - 205ms/epoch - 205ms/step\n",
            "Epoch 27/200\n",
            "1/1 - 0s - loss: 0.2592 - acc: 0.9643 - val_loss: 0.7192 - val_acc: 0.8180 - 166ms/epoch - 166ms/step\n",
            "Epoch 28/200\n",
            "1/1 - 0s - loss: 0.2722 - acc: 0.9571 - val_loss: 0.7139 - val_acc: 0.8200 - 177ms/epoch - 177ms/step\n",
            "Epoch 29/200\n",
            "1/1 - 0s - loss: 0.2143 - acc: 0.9643 - val_loss: 0.7082 - val_acc: 0.8100 - 168ms/epoch - 168ms/step\n",
            "Epoch 30/200\n",
            "1/1 - 0s - loss: 0.2342 - acc: 0.9357 - val_loss: 0.7079 - val_acc: 0.8080 - 171ms/epoch - 171ms/step\n",
            "Epoch 31/200\n",
            "1/1 - 0s - loss: 0.2215 - acc: 0.9357 - val_loss: 0.7091 - val_acc: 0.8100 - 167ms/epoch - 167ms/step\n",
            "Epoch 32/200\n",
            "1/1 - 0s - loss: 0.2427 - acc: 0.9286 - val_loss: 0.7083 - val_acc: 0.8160 - 315ms/epoch - 315ms/step\n",
            "Epoch 33/200\n",
            "1/1 - 0s - loss: 0.1815 - acc: 0.9500 - val_loss: 0.7117 - val_acc: 0.8180 - 243ms/epoch - 243ms/step\n",
            "Epoch 34/200\n",
            "1/1 - 0s - loss: 0.1449 - acc: 0.9714 - val_loss: 0.7256 - val_acc: 0.8060 - 337ms/epoch - 337ms/step\n",
            "Epoch 35/200\n",
            "1/1 - 0s - loss: 0.1695 - acc: 0.9571 - val_loss: 0.7518 - val_acc: 0.8020 - 301ms/epoch - 301ms/step\n",
            "Epoch 36/200\n",
            "1/1 - 0s - loss: 0.1428 - acc: 0.9643 - val_loss: 0.7742 - val_acc: 0.7980 - 361ms/epoch - 361ms/step\n",
            "Epoch 37/200\n",
            "1/1 - 0s - loss: 0.1307 - acc: 0.9714 - val_loss: 0.7797 - val_acc: 0.8020 - 321ms/epoch - 321ms/step\n",
            "Epoch 38/200\n",
            "1/1 - 0s - loss: 0.1519 - acc: 0.9429 - val_loss: 0.7757 - val_acc: 0.8060 - 294ms/epoch - 294ms/step\n",
            "Epoch 39/200\n",
            "1/1 - 0s - loss: 0.1178 - acc: 0.9714 - val_loss: 0.7633 - val_acc: 0.8120 - 284ms/epoch - 284ms/step\n",
            "Epoch 40/200\n",
            "1/1 - 0s - loss: 0.0944 - acc: 0.9714 - val_loss: 0.7616 - val_acc: 0.8100 - 295ms/epoch - 295ms/step\n",
            "Epoch 41/200\n",
            "1/1 - 0s - loss: 0.0919 - acc: 0.9929 - val_loss: 0.7629 - val_acc: 0.8060 - 288ms/epoch - 288ms/step\n",
            "Epoch 42/200\n",
            "1/1 - 0s - loss: 0.1462 - acc: 0.9643 - val_loss: 0.7679 - val_acc: 0.8060 - 253ms/epoch - 253ms/step\n",
            "Epoch 43/200\n",
            "1/1 - 0s - loss: 0.0869 - acc: 0.9786 - val_loss: 0.7723 - val_acc: 0.8000 - 238ms/epoch - 238ms/step\n",
            "Epoch 44/200\n",
            "1/1 - 0s - loss: 0.1399 - acc: 0.9286 - val_loss: 0.7769 - val_acc: 0.8060 - 282ms/epoch - 282ms/step\n",
            "Epoch 45/200\n",
            "1/1 - 0s - loss: 0.0661 - acc: 0.9929 - val_loss: 0.7798 - val_acc: 0.8180 - 289ms/epoch - 289ms/step\n",
            "Epoch 46/200\n",
            "1/1 - 0s - loss: 0.0760 - acc: 0.9714 - val_loss: 0.7845 - val_acc: 0.8140 - 310ms/epoch - 310ms/step\n",
            "Epoch 47/200\n",
            "1/1 - 0s - loss: 0.0869 - acc: 0.9643 - val_loss: 0.7859 - val_acc: 0.8140 - 361ms/epoch - 361ms/step\n",
            "Epoch 48/200\n",
            "1/1 - 0s - loss: 0.0684 - acc: 0.9857 - val_loss: 0.7933 - val_acc: 0.8140 - 320ms/epoch - 320ms/step\n",
            "Epoch 49/200\n",
            "1/1 - 0s - loss: 0.0938 - acc: 0.9643 - val_loss: 0.7994 - val_acc: 0.8160 - 434ms/epoch - 434ms/step\n",
            "Epoch 50/200\n",
            "1/1 - 0s - loss: 0.1415 - acc: 0.9357 - val_loss: 0.7933 - val_acc: 0.8160 - 234ms/epoch - 234ms/step\n",
            "Epoch 51/200\n",
            "1/1 - 0s - loss: 0.0860 - acc: 0.9786 - val_loss: 0.7861 - val_acc: 0.8180 - 317ms/epoch - 317ms/step\n",
            "Epoch 52/200\n",
            "1/1 - 0s - loss: 0.0666 - acc: 0.9857 - val_loss: 0.7819 - val_acc: 0.8140 - 259ms/epoch - 259ms/step\n",
            "Epoch 53/200\n",
            "1/1 - 0s - loss: 0.0765 - acc: 0.9857 - val_loss: 0.7814 - val_acc: 0.8180 - 351ms/epoch - 351ms/step\n",
            "Epoch 54/200\n",
            "1/1 - 0s - loss: 0.0670 - acc: 0.9714 - val_loss: 0.7830 - val_acc: 0.8160 - 284ms/epoch - 284ms/step\n",
            "Epoch 55/200\n",
            "1/1 - 0s - loss: 0.0557 - acc: 0.9857 - val_loss: 0.7868 - val_acc: 0.8160 - 230ms/epoch - 230ms/step\n",
            "Epoch 56/200\n",
            "1/1 - 0s - loss: 0.0572 - acc: 0.9786 - val_loss: 0.7923 - val_acc: 0.8160 - 282ms/epoch - 282ms/step\n",
            "Epoch 57/200\n",
            "1/1 - 0s - loss: 0.0637 - acc: 0.9786 - val_loss: 0.7991 - val_acc: 0.8120 - 300ms/epoch - 300ms/step\n",
            "Epoch 58/200\n",
            "1/1 - 0s - loss: 0.0609 - acc: 0.9857 - val_loss: 0.8071 - val_acc: 0.8080 - 320ms/epoch - 320ms/step\n",
            "Epoch 59/200\n",
            "1/1 - 0s - loss: 0.0458 - acc: 0.9929 - val_loss: 0.8156 - val_acc: 0.8080 - 341ms/epoch - 341ms/step\n",
            "Epoch 60/200\n",
            "1/1 - 0s - loss: 0.0704 - acc: 0.9857 - val_loss: 0.8237 - val_acc: 0.8060 - 377ms/epoch - 377ms/step\n",
            "Epoch 61/200\n",
            "1/1 - 0s - loss: 0.0360 - acc: 1.0000 - val_loss: 0.8305 - val_acc: 0.8060 - 305ms/epoch - 305ms/step\n",
            "Epoch 62/200\n",
            "1/1 - 0s - loss: 0.0692 - acc: 0.9857 - val_loss: 0.8361 - val_acc: 0.8040 - 270ms/epoch - 270ms/step\n",
            "Epoch 63/200\n",
            "1/1 - 0s - loss: 0.0489 - acc: 0.9857 - val_loss: 0.8363 - val_acc: 0.8020 - 258ms/epoch - 258ms/step\n",
            "Epoch 64/200\n",
            "1/1 - 0s - loss: 0.0659 - acc: 0.9857 - val_loss: 0.8343 - val_acc: 0.8060 - 256ms/epoch - 256ms/step\n",
            "Epoch 65/200\n",
            "1/1 - 0s - loss: 0.0756 - acc: 0.9786 - val_loss: 0.8408 - val_acc: 0.8020 - 300ms/epoch - 300ms/step\n",
            "Epoch 66/200\n",
            "1/1 - 0s - loss: 0.0527 - acc: 0.9857 - val_loss: 0.8480 - val_acc: 0.8060 - 262ms/epoch - 262ms/step\n",
            "Epoch 67/200\n",
            "1/1 - 0s - loss: 0.0460 - acc: 0.9857 - val_loss: 0.8559 - val_acc: 0.8020 - 239ms/epoch - 239ms/step\n",
            "Epoch 68/200\n",
            "1/1 - 0s - loss: 0.0405 - acc: 0.9929 - val_loss: 0.8663 - val_acc: 0.8000 - 309ms/epoch - 309ms/step\n",
            "Epoch 69/200\n",
            "1/1 - 0s - loss: 0.0442 - acc: 0.9857 - val_loss: 0.8815 - val_acc: 0.7960 - 247ms/epoch - 247ms/step\n",
            "Epoch 70/200\n",
            "1/1 - 0s - loss: 0.0908 - acc: 0.9714 - val_loss: 0.8922 - val_acc: 0.7980 - 260ms/epoch - 260ms/step\n",
            "Epoch 71/200\n",
            "1/1 - 0s - loss: 0.0305 - acc: 0.9929 - val_loss: 0.9038 - val_acc: 0.7960 - 278ms/epoch - 278ms/step\n",
            "Epoch 72/200\n",
            "1/1 - 0s - loss: 0.0440 - acc: 0.9857 - val_loss: 0.9143 - val_acc: 0.7960 - 292ms/epoch - 292ms/step\n",
            "Epoch 73/200\n",
            "1/1 - 0s - loss: 0.0295 - acc: 0.9857 - val_loss: 0.9203 - val_acc: 0.7980 - 255ms/epoch - 255ms/step\n",
            "Epoch 74/200\n",
            "1/1 - 0s - loss: 0.0644 - acc: 0.9786 - val_loss: 0.9233 - val_acc: 0.8020 - 261ms/epoch - 261ms/step\n",
            "Epoch 75/200\n",
            "1/1 - 0s - loss: 0.0414 - acc: 0.9929 - val_loss: 0.9229 - val_acc: 0.8040 - 263ms/epoch - 263ms/step\n",
            "Epoch 76/200\n",
            "1/1 - 0s - loss: 0.0414 - acc: 0.9929 - val_loss: 0.9163 - val_acc: 0.8020 - 280ms/epoch - 280ms/step\n",
            "Epoch 77/200\n",
            "1/1 - 0s - loss: 0.0335 - acc: 0.9929 - val_loss: 0.9107 - val_acc: 0.8060 - 404ms/epoch - 404ms/step\n",
            "Epoch 78/200\n",
            "1/1 - 0s - loss: 0.0355 - acc: 0.9929 - val_loss: 0.9104 - val_acc: 0.8100 - 312ms/epoch - 312ms/step\n"
          ]
        }
      ]
    },
    {
      "cell_type": "code",
      "source": [
        "sg.utils.plot_history(history)"
      ],
      "metadata": {
        "colab": {
          "base_uri": "https://localhost:8080/",
          "height": 585
        },
        "id": "ZJQRmOOLOPsj",
        "outputId": "8e015c15-0685-4680-e289-90c1fc5fa608"
      },
      "execution_count": 24,
      "outputs": [
        {
          "output_type": "display_data",
          "data": {
            "text/plain": [
              "<Figure size 504x576 with 2 Axes>"
            ],
            "image/png": "[encoded data removed]"
          },
          "metadata": {
            "needs_background": "light"
          }
        }
      ]
    },
    {
      "cell_type": "code",
      "source": [
        "test_gen = generator.flow(test_subjects.index, test_targets)"
      ],
      "metadata": {
        "id": "sZi6pYHWOSHt"
      },
      "execution_count": 25,
      "outputs": []
    },
    {
      "cell_type": "code",
      "source": [
        "test_metrics = model.evaluate(test_gen)\n",
        "print(\"\\nTest Set Metrics:\")\n",
        "for name, val in zip(model.metrics_names, test_metrics):\n",
        "    print(\"\\t{}: {:0.4f}\".format(name, val))"
      ],
      "metadata": {
        "colab": {
          "base_uri": "https://localhost:8080/"
        },
        "id": "OsAmkibyOYeF",
        "outputId": "deb297be-0180-46dd-97be-6510928e79cb"
      },
      "execution_count": 26,
      "outputs": [
        {
          "output_type": "stream",
          "name": "stdout",
          "text": [
            "1/1 [==============================] - 0s 185ms/step - loss: 0.8324 - acc: 0.7761\n",
            "\n",
            "Test Set Metrics:\n",
            "\tloss: 0.8324\n",
            "\tacc: 0.7761\n"
          ]
        }
      ]
    },
    {
      "cell_type": "markdown",
      "source": [
        "### Making predictions with the model"
      ],
      "metadata": {
        "id": "cz-IdJn2ObWT"
      }
    },
    {
      "cell_type": "code",
      "source": [
        "all_nodes = node_subjects.index\n",
        "all_gen = generator.flow(all_nodes)\n",
        "all_predictions = model.predict(all_gen)"
      ],
      "metadata": {
        "id": "QeHwr6LbOZsV"
      },
      "execution_count": 27,
      "outputs": []
    },
    {
      "cell_type": "code",
      "source": [
        "node_predictions = target_encoding.inverse_transform(all_predictions.squeeze())"
      ],
      "metadata": {
        "id": "yK5Cl2fIOdRe"
      },
      "execution_count": 28,
      "outputs": []
    },
    {
      "cell_type": "code",
      "source": [
        "df = pd.DataFrame({\"Predicted\": node_predictions, \"True\": node_subjects})\n",
        "df.head(20)"
      ],
      "metadata": {
        "colab": {
          "base_uri": "https://localhost:8080/",
          "height": 669
        },
        "id": "gPnhRDQNOep1",
        "outputId": "8c1d3fbb-f124-4dd1-85a5-4c37710fc6c2"
      },
      "execution_count": 29,
      "outputs": [
        {
          "output_type": "execute_result",
          "data": {
            "text/plain": [
              "                      Predicted                    True\n",
              "31336     Probabilistic_Methods         Neural_Networks\n",
              "1061127           Rule_Learning           Rule_Learning\n",
              "1106406  Reinforcement_Learning  Reinforcement_Learning\n",
              "13195    Reinforcement_Learning  Reinforcement_Learning\n",
              "37879     Probabilistic_Methods   Probabilistic_Methods\n",
              "1126012   Probabilistic_Methods   Probabilistic_Methods\n",
              "1107140         Neural_Networks                  Theory\n",
              "1102850   Probabilistic_Methods         Neural_Networks\n",
              "31349     Probabilistic_Methods         Neural_Networks\n",
              "1106418                  Theory                  Theory\n",
              "1123188   Probabilistic_Methods         Neural_Networks\n",
              "1128990         Neural_Networks      Genetic_Algorithms\n",
              "109323    Probabilistic_Methods   Probabilistic_Methods\n",
              "217139          Neural_Networks              Case_Based\n",
              "31353     Probabilistic_Methods         Neural_Networks\n",
              "32083           Neural_Networks         Neural_Networks\n",
              "1126029  Reinforcement_Learning  Reinforcement_Learning\n",
              "1118017         Neural_Networks         Neural_Networks\n",
              "49482           Neural_Networks         Neural_Networks\n",
              "753265                   Theory         Neural_Networks"
            ],
            "text/html": [
              "\n",
              "  <div id=\"df-5a22cbdd-f51a-4a8c-921a-79979b0fb2da\">\n",
              "    <div class=\"colab-df-container\">\n",
              "      <div>\n",
              "<style scoped>\n",
              "    .dataframe tbody tr th:only-of-type {\n",
              "        vertical-align: middle;\n",
              "    }\n",
              "\n",
              "    .dataframe tbody tr th {\n",
              "        vertical-align: top;\n",
              "    }\n",
              "\n",
              "    .dataframe thead th {\n",
              "        text-align: right;\n",
              "    }\n",
              "</style>\n",
              "<table border=\"1\" class=\"dataframe\">\n",
              "  <thead>\n",
              "    <tr style=\"text-align: right;\">\n",
              "      <th></th>\n",
              "      <th>Predicted</th>\n",
              "      <th>True</th>\n",
              "    </tr>\n",
              "  </thead>\n",
              "  <tbody>\n",
              "    <tr>\n",
              "      <th>31336</th>\n",
              "      <td>Probabilistic_Methods</td>\n",
              "      <td>Neural_Networks</td>\n",
              "    </tr>\n",
              "    <tr>\n",
              "      <th>1061127</th>\n",
              "      <td>Rule_Learning</td>\n",
              "      <td>Rule_Learning</td>\n",
              "    </tr>\n",
              "    <tr>\n",
              "      <th>1106406</th>\n",
              "      <td>Reinforcement_Learning</td>\n",
              "      <td>Reinforcement_Learning</td>\n",
              "    </tr>\n",
              "    <tr>\n",
              "      <th>13195</th>\n",
              "      <td>Reinforcement_Learning</td>\n",
              "      <td>Reinforcement_Learning</td>\n",
              "    </tr>\n",
              "    <tr>\n",
              "      <th>37879</th>\n",
              "      <td>Probabilistic_Methods</td>\n",
              "      <td>Probabilistic_Methods</td>\n",
              "    </tr>\n",
              "    <tr>\n",
              "      <th>1126012</th>\n",
              "      <td>Probabilistic_Methods</td>\n",
              "      <td>Probabilistic_Methods</td>\n",
              "    </tr>\n",
              "    <tr>\n",
              "      <th>1107140</th>\n",
              "      <td>Neural_Networks</td>\n",
              "      <td>Theory</td>\n",
              "    </tr>\n",
              "    <tr>\n",
              "      <th>1102850</th>\n",
              "      <td>Probabilistic_Methods</td>\n",
              "      <td>Neural_Networks</td>\n",
              "    </tr>\n",
              "    <tr>\n",
              "      <th>31349</th>\n",
              "      <td>Probabilistic_Methods</td>\n",
              "      <td>Neural_Networks</td>\n",
              "    </tr>\n",
              "    <tr>\n",
              "      <th>1106418</th>\n",
              "      <td>Theory</td>\n",
              "      <td>Theory</td>\n",
              "    </tr>\n",
              "    <tr>\n",
              "      <th>1123188</th>\n",
              "      <td>Probabilistic_Methods</td>\n",
              "      <td>Neural_Networks</td>\n",
              "    </tr>\n",
              "    <tr>\n",
              "      <th>1128990</th>\n",
              "      <td>Neural_Networks</td>\n",
              "      <td>Genetic_Algorithms</td>\n",
              "    </tr>\n",
              "    <tr>\n",
              "      <th>109323</th>\n",
              "      <td>Probabilistic_Methods</td>\n",
              "      <td>Probabilistic_Methods</td>\n",
              "    </tr>\n",
              "    <tr>\n",
              "      <th>217139</th>\n",
              "      <td>Neural_Networks</td>\n",
              "      <td>Case_Based</td>\n",
              "    </tr>\n",
              "    <tr>\n",
              "      <th>31353</th>\n",
              "      <td>Probabilistic_Methods</td>\n",
              "      <td>Neural_Networks</td>\n",
              "    </tr>\n",
              "    <tr>\n",
              "      <th>32083</th>\n",
              "      <td>Neural_Networks</td>\n",
              "      <td>Neural_Networks</td>\n",
              "    </tr>\n",
              "    <tr>\n",
              "      <th>1126029</th>\n",
              "      <td>Reinforcement_Learning</td>\n",
              "      <td>Reinforcement_Learning</td>\n",
              "    </tr>\n",
              "    <tr>\n",
              "      <th>1118017</th>\n",
              "      <td>Neural_Networks</td>\n",
              "      <td>Neural_Networks</td>\n",
              "    </tr>\n",
              "    <tr>\n",
              "      <th>49482</th>\n",
              "      <td>Neural_Networks</td>\n",
              "      <td>Neural_Networks</td>\n",
              "    </tr>\n",
              "    <tr>\n",
              "      <th>753265</th>\n",
              "      <td>Theory</td>\n",
              "      <td>Neural_Networks</td>\n",
              "    </tr>\n",
              "  </tbody>\n",
              "</table>\n",
              "</div>\n",
              "      <button class=\"colab-df-convert\" onclick=\"convertToInteractive('df-5a22cbdd-f51a-4a8c-921a-79979b0fb2da')\"\n",
              "              title=\"Convert this dataframe to an interactive table.\"\n",
              "              style=\"display:none;\">\n",
              "        \n",
              "  <svg xmlns=\"http://www.w3.org/2000/svg\" height=\"24px\"viewBox=\"0 0 24 24\"\n",
              "       width=\"24px\">\n",
              "    <path d=\"M0 0h24v24H0V0z\" fill=\"none\"/>\n",
              "    <path d=\"M18.56 5.44l.94 2.06.94-2.06 2.06-.94-2.06-.94-.94-2.06-.94 2.06-2.06.94zm-11 1L8.5 8.5l.94-2.06 2.06-.94-2.06-.94L8.5 2.5l-.94 2.06-2.06.94zm10 10l.94 2.06.94-2.06 2.06-.94-2.06-.94-.94-2.06-.94 2.06-2.06.94z\"/><path d=\"M17.41 7.96l-1.37-1.37c-.4-.4-.92-.59-1.43-.59-.52 0-1.04.2-1.43.59L10.3 9.45l-7.72 7.72c-.78.78-.78 2.05 0 2.83L4 21.41c.39.39.9.59 1.41.59.51 0 1.02-.2 1.41-.59l7.78-7.78 2.81-2.81c.8-.78.8-2.07 0-2.86zM5.41 20L4 18.59l7.72-7.72 1.47 1.35L5.41 20z\"/>\n",
              "  </svg>\n",
              "      </button>\n",
              "      \n",
              "  <style>\n",
              "    .colab-df-container {\n",
              "      display:flex;\n",
              "      flex-wrap:wrap;\n",
              "      gap: 12px;\n",
              "    }\n",
              "\n",
              "    .colab-df-convert {\n",
              "      background-color: #E8F0FE;\n",
              "      border: none;\n",
              "      border-radius: 50%;\n",
              "      cursor: pointer;\n",
              "      display: none;\n",
              "      fill: #1967D2;\n",
              "      height: 32px;\n",
              "      padding: 0 0 0 0;\n",
              "      width: 32px;\n",
              "    }\n",
              "\n",
              "    .colab-df-convert:hover {\n",
              "      background-color: #E2EBFA;\n",
              "      box-shadow: 0px 1px 2px rgba(60, 64, 67, 0.3), 0px 1px 3px 1px rgba(60, 64, 67, 0.15);\n",
              "      fill: #174EA6;\n",
              "    }\n",
              "\n",
              "    [theme=dark] .colab-df-convert {\n",
              "      background-color: #3B4455;\n",
              "      fill: #D2E3FC;\n",
              "    }\n",
              "\n",
              "    [theme=dark] .colab-df-convert:hover {\n",
              "      background-color: #434B5C;\n",
              "      box-shadow: 0px 1px 3px 1px rgba(0, 0, 0, 0.15);\n",
              "      filter: drop-shadow(0px 1px 2px rgba(0, 0, 0, 0.3));\n",
              "      fill: #FFFFFF;\n",
              "    }\n",
              "  </style>\n",
              "\n",
              "      <script>\n",
              "        const buttonEl =\n",
              "          document.querySelector('#df-5a22cbdd-f51a-4a8c-921a-79979b0fb2da button.colab-df-convert');\n",
              "        buttonEl.style.display =\n",
              "          google.colab.kernel.accessAllowed ? 'block' : 'none';\n",
              "\n",
              "        async function convertToInteractive(key) {\n",
              "          const element = document.querySelector('#df-5a22cbdd-f51a-4a8c-921a-79979b0fb2da');\n",
              "          const dataTable =\n",
              "            await google.colab.kernel.invokeFunction('convertToInteractive',\n",
              "                                                     [key], {});\n",
              "          if (!dataTable) return;\n",
              "\n",
              "          const docLinkHtml = 'Like what you see? Visit the ' +\n",
              "            '<a target=\"_blank\" href=https://colab.research.google.com/notebooks/data_table.ipynb>data table notebook</a>'\n",
              "            + ' to learn more about interactive tables.';\n",
              "          element.innerHTML = '';\n",
              "          dataTable['output_type'] = 'display_data';\n",
              "          await google.colab.output.renderOutput(dataTable, element);\n",
              "          const docLink = document.createElement('div');\n",
              "          docLink.innerHTML = docLinkHtml;\n",
              "          element.appendChild(docLink);\n",
              "        }\n",
              "      </script>\n",
              "    </div>\n",
              "  </div>\n",
              "  "
            ]
          },
          "metadata": {},
          "execution_count": 29
        }
      ]
    },
    {
      "cell_type": "markdown",
      "source": [
        "### Node embeddings"
      ],
      "metadata": {
        "id": "NGN3xwiIOq8B"
      }
    },
    {
      "cell_type": "code",
      "source": [
        "embedding_model = Model(inputs=x_inp, outputs=x_out)"
      ],
      "metadata": {
        "id": "0huM7yPlOf6V"
      },
      "execution_count": 30,
      "outputs": []
    },
    {
      "cell_type": "code",
      "source": [
        "emb = embedding_model.predict(all_gen)\n",
        "emb.shape"
      ],
      "metadata": {
        "colab": {
          "base_uri": "https://localhost:8080/"
        },
        "id": "j6E1G5stOvjN",
        "outputId": "ed0be650-621b-4a0b-b081-67a5db194012"
      },
      "execution_count": 31,
      "outputs": [
        {
          "output_type": "execute_result",
          "data": {
            "text/plain": [
              "(1, 2708, 16)"
            ]
          },
          "metadata": {},
          "execution_count": 31
        }
      ]
    },
    {
      "cell_type": "code",
      "source": [
        "from sklearn.decomposition import PCA\n",
        "from sklearn.manifold import TSNE\n",
        "\n",
        "transform = TSNE  # or PCA"
      ],
      "metadata": {
        "id": "t9VQfdGrOvwC"
      },
      "execution_count": 32,
      "outputs": []
    },
    {
      "cell_type": "code",
      "source": [
        "X = emb.squeeze(0)\n",
        "X.shape"
      ],
      "metadata": {
        "colab": {
          "base_uri": "https://localhost:8080/"
        },
        "id": "bEqWijkJOy1k",
        "outputId": "b72c7bb6-9a21-4658-a867-239f90a00382"
      },
      "execution_count": 33,
      "outputs": [
        {
          "output_type": "execute_result",
          "data": {
            "text/plain": [
              "(2708, 16)"
            ]
          },
          "metadata": {},
          "execution_count": 33
        }
      ]
    },
    {
      "cell_type": "code",
      "source": [
        "trans = transform(n_components=2)\n",
        "X_reduced = trans.fit_transform(X)\n",
        "X_reduced.shape"
      ],
      "metadata": {
        "colab": {
          "base_uri": "https://localhost:8080/"
        },
        "id": "4TwX0CNOO0Ue",
        "outputId": "b03d36e9-c158-474f-cb3c-caace3fca207"
      },
      "execution_count": 34,
      "outputs": [
        {
          "output_type": "stream",
          "name": "stderr",
          "text": [
            "/usr/local/lib/python3.7/dist-packages/sklearn/manifold/_t_sne.py:783: FutureWarning: The default initialization in TSNE will change from 'random' to 'pca' in 1.2.\n",
            "  FutureWarning,\n",
            "/usr/local/lib/python3.7/dist-packages/sklearn/manifold/_t_sne.py:793: FutureWarning: The default learning rate in TSNE will change from 200.0 to 'auto' in 1.2.\n",
            "  FutureWarning,\n"
          ]
        },
        {
          "output_type": "execute_result",
          "data": {
            "text/plain": [
              "(2708, 2)"
            ]
          },
          "metadata": {},
          "execution_count": 34
        }
      ]
    },
    {
      "cell_type": "code",
      "source": [
        "fig, ax = plt.subplots(figsize=(7, 7))\n",
        "ax.scatter(\n",
        "    X_reduced[:, 0],\n",
        "    X_reduced[:, 1],\n",
        "    c=node_subjects.astype(\"category\").cat.codes,\n",
        "    cmap=\"jet\",\n",
        "    alpha=0.7,\n",
        ")\n",
        "ax.set(\n",
        "    aspect=\"equal\",\n",
        "    xlabel=\"$X_1$\",\n",
        "    ylabel=\"$X_2$\",\n",
        "    title=f\"{transform.__name__} visualization of GCN embeddings for cora dataset\",\n",
        ")"
      ],
      "metadata": {
        "colab": {
          "base_uri": "https://localhost:8080/",
          "height": 511
        },
        "id": "hqpKRMCVO1gu",
        "outputId": "290fbb88-267b-45fd-f16b-d672950cf2d9"
      },
      "execution_count": 35,
      "outputs": [
        {
          "output_type": "execute_result",
          "data": {
            "text/plain": [
              "[Text(0, 0.5, '$X_2$'),\n",
              " Text(0.5, 0, '$X_1$'),\n",
              " Text(0.5, 1.0, 'TSNE visualization of GCN embeddings for cora dataset'),\n",
              " None]"
            ]
          },
          "metadata": {},
          "execution_count": 35
        },
        {
          "output_type": "display_data",
          "data": {
            "text/plain": [
              "<Figure size 504x504 with 1 Axes>"
            ],
            "image/png": "[encoded data removed]"
          },
          "metadata": {
            "needs_background": "light"
          }
        }
      ]
    },
    {
      "cell_type": "markdown",
      "source": [
        "# Node classification with GraphSAGE"
      ],
      "metadata": {
        "id": "k2Ee7M46UwkF"
      }
    },
    {
      "cell_type": "markdown",
      "source": [
        "## Creating the GraphSAGE model in Keras"
      ],
      "metadata": {
        "id": "UnFxwEzuQPoD"
      }
    },
    {
      "cell_type": "code",
      "source": [
        "batch_size = 50\n",
        "num_samples = [10, 5]"
      ],
      "metadata": {
        "id": "ZzJipMPIQlAl"
      },
      "execution_count": 36,
      "outputs": []
    },
    {
      "cell_type": "code",
      "source": [
        "from stellargraph.mapper import GraphSAGENodeGenerator\n",
        "from stellargraph.layer import GraphSAGE\n",
        "\n",
        "import networkx as nx\n",
        "\n",
        "generator = GraphSAGENodeGenerator(G, batch_size, num_samples)"
      ],
      "metadata": {
        "id": "oDDt9WpbQmWX"
      },
      "execution_count": 37,
      "outputs": []
    },
    {
      "cell_type": "code",
      "source": [
        "train_gen = generator.flow(train_subjects.index, train_targets, shuffle=True)"
      ],
      "metadata": {
        "id": "CBeAdr10Qp8s"
      },
      "execution_count": 38,
      "outputs": []
    },
    {
      "cell_type": "code",
      "source": [
        "graphsage_model = GraphSAGE(\n",
        "    layer_sizes=[32, 32], generator=generator, bias=True, dropout=0.5,\n",
        ")"
      ],
      "metadata": {
        "id": "TG3nqVttQ4vk"
      },
      "execution_count": 39,
      "outputs": []
    },
    {
      "cell_type": "code",
      "source": [
        "x_inp, x_out = graphsage_model.in_out_tensors()\n",
        "prediction = layers.Dense(units=train_targets.shape[1], activation=\"softmax\")(x_out)"
      ],
      "metadata": {
        "id": "EglQe9_zQ6D8"
      },
      "execution_count": 40,
      "outputs": []
    },
    {
      "cell_type": "markdown",
      "source": [
        "### Training the model"
      ],
      "metadata": {
        "id": "IMqz0hazQ9Px"
      }
    },
    {
      "cell_type": "code",
      "source": [
        "model = Model(inputs=x_inp, outputs=prediction)\n",
        "model.compile(\n",
        "    optimizer=optimizers.Adam(lr=0.005),\n",
        "    loss=losses.categorical_crossentropy,\n",
        "    metrics=[\"acc\"],\n",
        ")"
      ],
      "metadata": {
        "colab": {
          "base_uri": "https://localhost:8080/"
        },
        "id": "09QumZz6Q775",
        "outputId": "1a2c52c4-fb93-4210-fc58-3fbeb2fe6d17"
      },
      "execution_count": 41,
      "outputs": [
        {
          "output_type": "stream",
          "name": "stderr",
          "text": [
            "/usr/local/lib/python3.7/dist-packages/keras/optimizer_v2/adam.py:105: UserWarning: The `lr` argument is deprecated, use `learning_rate` instead.\n",
            "  super(Adam, self).__init__(name, **kwargs)\n"
          ]
        }
      ]
    },
    {
      "cell_type": "code",
      "source": [
        "test_gen = generator.flow(test_subjects.index, test_targets)"
      ],
      "metadata": {
        "id": "AGizSFIVQ_M9"
      },
      "execution_count": 42,
      "outputs": []
    },
    {
      "cell_type": "code",
      "source": [
        "history = model.fit(\n",
        "    train_gen, epochs=20, validation_data=test_gen, verbose=2, shuffle=False\n",
        ")"
      ],
      "metadata": {
        "colab": {
          "base_uri": "https://localhost:8080/"
        },
        "id": "d_qLlhItRA2O",
        "outputId": "abf87653-10bb-40ae-fc1f-29a83b5d5353"
      },
      "execution_count": 43,
      "outputs": [
        {
          "output_type": "stream",
          "name": "stdout",
          "text": [
            "Epoch 1/20\n",
            "3/3 - 4s - loss: 1.9115 - acc: 0.2071 - val_loss: 1.7921 - val_acc: 0.3694 - 4s/epoch - 1s/step\n",
            "Epoch 2/20\n",
            "3/3 - 2s - loss: 1.7174 - acc: 0.5000 - val_loss: 1.6990 - val_acc: 0.3926 - 2s/epoch - 658ms/step\n",
            "Epoch 3/20\n",
            "3/3 - 3s - loss: 1.5947 - acc: 0.5500 - val_loss: 1.6233 - val_acc: 0.4560 - 3s/epoch - 947ms/step\n",
            "Epoch 4/20\n",
            "3/3 - 2s - loss: 1.5092 - acc: 0.6429 - val_loss: 1.5536 - val_acc: 0.5247 - 2s/epoch - 688ms/step\n",
            "Epoch 5/20\n",
            "3/3 - 3s - loss: 1.3938 - acc: 0.8000 - val_loss: 1.4766 - val_acc: 0.6011 - 3s/epoch - 946ms/step\n",
            "Epoch 6/20\n",
            "3/3 - 3s - loss: 1.3057 - acc: 0.8500 - val_loss: 1.4114 - val_acc: 0.6528 - 3s/epoch - 951ms/step\n",
            "Epoch 7/20\n",
            "3/3 - 2s - loss: 1.2289 - acc: 0.8786 - val_loss: 1.3584 - val_acc: 0.6741 - 2s/epoch - 791ms/step\n",
            "Epoch 8/20\n",
            "3/3 - 3s - loss: 1.1522 - acc: 0.9143 - val_loss: 1.2975 - val_acc: 0.7036 - 3s/epoch - 1s/step\n",
            "Epoch 9/20\n",
            "3/3 - 3s - loss: 1.0834 - acc: 0.9071 - val_loss: 1.2504 - val_acc: 0.7162 - 3s/epoch - 945ms/step\n",
            "Epoch 10/20\n",
            "3/3 - 3s - loss: 1.0039 - acc: 0.9429 - val_loss: 1.2149 - val_acc: 0.7166 - 3s/epoch - 952ms/step\n",
            "Epoch 11/20\n",
            "3/3 - 2s - loss: 0.9383 - acc: 0.9500 - val_loss: 1.1746 - val_acc: 0.7249 - 2s/epoch - 699ms/step\n",
            "Epoch 12/20\n",
            "3/3 - 2s - loss: 0.8756 - acc: 0.9786 - val_loss: 1.1404 - val_acc: 0.7268 - 2s/epoch - 695ms/step\n",
            "Epoch 13/20\n",
            "3/3 - 2s - loss: 0.8425 - acc: 0.9500 - val_loss: 1.1113 - val_acc: 0.7345 - 2s/epoch - 717ms/step\n",
            "Epoch 14/20\n",
            "3/3 - 2s - loss: 0.7987 - acc: 0.9571 - val_loss: 1.0738 - val_acc: 0.7389 - 2s/epoch - 711ms/step\n",
            "Epoch 15/20\n",
            "3/3 - 2s - loss: 0.7575 - acc: 0.9500 - val_loss: 1.0439 - val_acc: 0.7432 - 2s/epoch - 664ms/step\n",
            "Epoch 16/20\n",
            "3/3 - 3s - loss: 0.7014 - acc: 0.9571 - val_loss: 1.0189 - val_acc: 0.7442 - 3s/epoch - 947ms/step\n",
            "Epoch 17/20\n",
            "3/3 - 3s - loss: 0.6675 - acc: 0.9714 - val_loss: 0.9976 - val_acc: 0.7500 - 3s/epoch - 946ms/step\n",
            "Epoch 18/20\n",
            "3/3 - 2s - loss: 0.6349 - acc: 0.9786 - val_loss: 0.9884 - val_acc: 0.7379 - 2s/epoch - 718ms/step\n",
            "Epoch 19/20\n",
            "3/3 - 2s - loss: 0.6030 - acc: 0.9714 - val_loss: 0.9687 - val_acc: 0.7490 - 2s/epoch - 702ms/step\n",
            "Epoch 20/20\n",
            "3/3 - 3s - loss: 0.5659 - acc: 0.9857 - val_loss: 0.9549 - val_acc: 0.7413 - 3s/epoch - 948ms/step\n"
          ]
        }
      ]
    },
    {
      "cell_type": "code",
      "source": [
        "sg.utils.plot_history(history)"
      ],
      "metadata": {
        "colab": {
          "base_uri": "https://localhost:8080/",
          "height": 585
        },
        "id": "XhQCA34qRB5b",
        "outputId": "8c833483-377d-42de-b423-c35242a75197"
      },
      "execution_count": 44,
      "outputs": [
        {
          "output_type": "display_data",
          "data": {
            "text/plain": [
              "<Figure size 504x576 with 2 Axes>"
            ],
            "image/png": "[encoded data removed]"
          },
          "metadata": {
            "needs_background": "light"
          }
        }
      ]
    },
    {
      "cell_type": "code",
      "source": [
        "test_metrics = model.evaluate(test_gen)\n",
        "print(\"\\nTest Set Metrics:\")\n",
        "for name, val in zip(model.metrics_names, test_metrics):\n",
        "    print(\"\\t{}: {:0.4f}\".format(name, val))"
      ],
      "metadata": {
        "colab": {
          "base_uri": "https://localhost:8080/"
        },
        "id": "gXvYzHmpRDPg",
        "outputId": "b6582e5e-e234-45e7-f12b-5190942537a8"
      },
      "execution_count": 45,
      "outputs": [
        {
          "output_type": "stream",
          "name": "stdout",
          "text": [
            "42/42 [==============================] - 2s 47ms/step - loss: 0.9519 - acc: 0.7495\n",
            "\n",
            "Test Set Metrics:\n",
            "\tloss: 0.9519\n",
            "\tacc: 0.7495\n"
          ]
        }
      ]
    },
    {
      "cell_type": "markdown",
      "source": [
        "### Making predictions with the model"
      ],
      "metadata": {
        "id": "_3oGc4zZRUEj"
      }
    },
    {
      "cell_type": "code",
      "source": [
        "all_nodes = node_subjects.index\n",
        "all_mapper = generator.flow(all_nodes)\n",
        "all_predictions = model.predict(all_mapper)"
      ],
      "metadata": {
        "id": "OIUrgwGzRFZl"
      },
      "execution_count": 46,
      "outputs": []
    },
    {
      "cell_type": "code",
      "source": [
        "node_predictions = target_encoding.inverse_transform(all_predictions)"
      ],
      "metadata": {
        "id": "i-ZGOgGKRVmn"
      },
      "execution_count": 47,
      "outputs": []
    },
    {
      "cell_type": "code",
      "source": [
        "df = pd.DataFrame({\"Predicted\": node_predictions, \"True\": node_subjects})\n",
        "df.head(10)"
      ],
      "metadata": {
        "colab": {
          "base_uri": "https://localhost:8080/",
          "height": 359
        },
        "id": "_f3jLx6oRWu6",
        "outputId": "8bc53098-8b4c-4233-9dae-2bc7be6d2ea0"
      },
      "execution_count": 48,
      "outputs": [
        {
          "output_type": "execute_result",
          "data": {
            "text/plain": [
              "                      Predicted                    True\n",
              "31336     Probabilistic_Methods         Neural_Networks\n",
              "1061127           Rule_Learning           Rule_Learning\n",
              "1106406  Reinforcement_Learning  Reinforcement_Learning\n",
              "13195    Reinforcement_Learning  Reinforcement_Learning\n",
              "37879     Probabilistic_Methods   Probabilistic_Methods\n",
              "1126012   Probabilistic_Methods   Probabilistic_Methods\n",
              "1107140                  Theory                  Theory\n",
              "1102850   Probabilistic_Methods         Neural_Networks\n",
              "31349     Probabilistic_Methods         Neural_Networks\n",
              "1106418                  Theory                  Theory"
            ],
            "text/html": [
              "\n",
              "  <div id=\"df-99777da7-4a99-47b0-a6f6-b67aea61a969\">\n",
              "    <div class=\"colab-df-container\">\n",
              "      <div>\n",
              "<style scoped>\n",
              "    .dataframe tbody tr th:only-of-type {\n",
              "        vertical-align: middle;\n",
              "    }\n",
              "\n",
              "    .dataframe tbody tr th {\n",
              "        vertical-align: top;\n",
              "    }\n",
              "\n",
              "    .dataframe thead th {\n",
              "        text-align: right;\n",
              "    }\n",
              "</style>\n",
              "<table border=\"1\" class=\"dataframe\">\n",
              "  <thead>\n",
              "    <tr style=\"text-align: right;\">\n",
              "      <th></th>\n",
              "      <th>Predicted</th>\n",
              "      <th>True</th>\n",
              "    </tr>\n",
              "  </thead>\n",
              "  <tbody>\n",
              "    <tr>\n",
              "      <th>31336</th>\n",
              "      <td>Probabilistic_Methods</td>\n",
              "      <td>Neural_Networks</td>\n",
              "    </tr>\n",
              "    <tr>\n",
              "      <th>1061127</th>\n",
              "      <td>Rule_Learning</td>\n",
              "      <td>Rule_Learning</td>\n",
              "    </tr>\n",
              "    <tr>\n",
              "      <th>1106406</th>\n",
              "      <td>Reinforcement_Learning</td>\n",
              "      <td>Reinforcement_Learning</td>\n",
              "    </tr>\n",
              "    <tr>\n",
              "      <th>13195</th>\n",
              "      <td>Reinforcement_Learning</td>\n",
              "      <td>Reinforcement_Learning</td>\n",
              "    </tr>\n",
              "    <tr>\n",
              "      <th>37879</th>\n",
              "      <td>Probabilistic_Methods</td>\n",
              "      <td>Probabilistic_Methods</td>\n",
              "    </tr>\n",
              "    <tr>\n",
              "      <th>1126012</th>\n",
              "      <td>Probabilistic_Methods</td>\n",
              "      <td>Probabilistic_Methods</td>\n",
              "    </tr>\n",
              "    <tr>\n",
              "      <th>1107140</th>\n",
              "      <td>Theory</td>\n",
              "      <td>Theory</td>\n",
              "    </tr>\n",
              "    <tr>\n",
              "      <th>1102850</th>\n",
              "      <td>Probabilistic_Methods</td>\n",
              "      <td>Neural_Networks</td>\n",
              "    </tr>\n",
              "    <tr>\n",
              "      <th>31349</th>\n",
              "      <td>Probabilistic_Methods</td>\n",
              "      <td>Neural_Networks</td>\n",
              "    </tr>\n",
              "    <tr>\n",
              "      <th>1106418</th>\n",
              "      <td>Theory</td>\n",
              "      <td>Theory</td>\n",
              "    </tr>\n",
              "  </tbody>\n",
              "</table>\n",
              "</div>\n",
              "      <button class=\"colab-df-convert\" onclick=\"convertToInteractive('df-99777da7-4a99-47b0-a6f6-b67aea61a969')\"\n",
              "              title=\"Convert this dataframe to an interactive table.\"\n",
              "              style=\"display:none;\">\n",
              "        \n",
              "  <svg xmlns=\"http://www.w3.org/2000/svg\" height=\"24px\"viewBox=\"0 0 24 24\"\n",
              "       width=\"24px\">\n",
              "    <path d=\"M0 0h24v24H0V0z\" fill=\"none\"/>\n",
              "    <path d=\"M18.56 5.44l.94 2.06.94-2.06 2.06-.94-2.06-.94-.94-2.06-.94 2.06-2.06.94zm-11 1L8.5 8.5l.94-2.06 2.06-.94-2.06-.94L8.5 2.5l-.94 2.06-2.06.94zm10 10l.94 2.06.94-2.06 2.06-.94-2.06-.94-.94-2.06-.94 2.06-2.06.94z\"/><path d=\"M17.41 7.96l-1.37-1.37c-.4-.4-.92-.59-1.43-.59-.52 0-1.04.2-1.43.59L10.3 9.45l-7.72 7.72c-.78.78-.78 2.05 0 2.83L4 21.41c.39.39.9.59 1.41.59.51 0 1.02-.2 1.41-.59l7.78-7.78 2.81-2.81c.8-.78.8-2.07 0-2.86zM5.41 20L4 18.59l7.72-7.72 1.47 1.35L5.41 20z\"/>\n",
              "  </svg>\n",
              "      </button>\n",
              "      \n",
              "  <style>\n",
              "    .colab-df-container {\n",
              "      display:flex;\n",
              "      flex-wrap:wrap;\n",
              "      gap: 12px;\n",
              "    }\n",
              "\n",
              "    .colab-df-convert {\n",
              "      background-color: #E8F0FE;\n",
              "      border: none;\n",
              "      border-radius: 50%;\n",
              "      cursor: pointer;\n",
              "      display: none;\n",
              "      fill: #1967D2;\n",
              "      height: 32px;\n",
              "      padding: 0 0 0 0;\n",
              "      width: 32px;\n",
              "    }\n",
              "\n",
              "    .colab-df-convert:hover {\n",
              "      background-color: #E2EBFA;\n",
              "      box-shadow: 0px 1px 2px rgba(60, 64, 67, 0.3), 0px 1px 3px 1px rgba(60, 64, 67, 0.15);\n",
              "      fill: #174EA6;\n",
              "    }\n",
              "\n",
              "    [theme=dark] .colab-df-convert {\n",
              "      background-color: #3B4455;\n",
              "      fill: #D2E3FC;\n",
              "    }\n",
              "\n",
              "    [theme=dark] .colab-df-convert:hover {\n",
              "      background-color: #434B5C;\n",
              "      box-shadow: 0px 1px 3px 1px rgba(0, 0, 0, 0.15);\n",
              "      filter: drop-shadow(0px 1px 2px rgba(0, 0, 0, 0.3));\n",
              "      fill: #FFFFFF;\n",
              "    }\n",
              "  </style>\n",
              "\n",
              "      <script>\n",
              "        const buttonEl =\n",
              "          document.querySelector('#df-99777da7-4a99-47b0-a6f6-b67aea61a969 button.colab-df-convert');\n",
              "        buttonEl.style.display =\n",
              "          google.colab.kernel.accessAllowed ? 'block' : 'none';\n",
              "\n",
              "        async function convertToInteractive(key) {\n",
              "          const element = document.querySelector('#df-99777da7-4a99-47b0-a6f6-b67aea61a969');\n",
              "          const dataTable =\n",
              "            await google.colab.kernel.invokeFunction('convertToInteractive',\n",
              "                                                     [key], {});\n",
              "          if (!dataTable) return;\n",
              "\n",
              "          const docLinkHtml = 'Like what you see? Visit the ' +\n",
              "            '<a target=\"_blank\" href=https://colab.research.google.com/notebooks/data_table.ipynb>data table notebook</a>'\n",
              "            + ' to learn more about interactive tables.';\n",
              "          element.innerHTML = '';\n",
              "          dataTable['output_type'] = 'display_data';\n",
              "          await google.colab.output.renderOutput(dataTable, element);\n",
              "          const docLink = document.createElement('div');\n",
              "          docLink.innerHTML = docLinkHtml;\n",
              "          element.appendChild(docLink);\n",
              "        }\n",
              "      </script>\n",
              "    </div>\n",
              "  </div>\n",
              "  "
            ]
          },
          "metadata": {},
          "execution_count": 48
        }
      ]
    },
    {
      "cell_type": "code",
      "source": [
        "Gnx = G.to_networkx(feature_attr=None)"
      ],
      "metadata": {
        "id": "Zs04_1oERYYY"
      },
      "execution_count": 49,
      "outputs": []
    },
    {
      "cell_type": "code",
      "source": [
        "for nid, pred, true in zip(df.index, df[\"Predicted\"], df[\"True\"]):\n",
        "    Gnx.nodes[nid][\"subject\"] = true\n",
        "    Gnx.nodes[nid][\"PREDICTED_subject\"] = pred.split(\"=\")[-1]"
      ],
      "metadata": {
        "id": "H_GQaTRcRZo0"
      },
      "execution_count": 50,
      "outputs": []
    },
    {
      "cell_type": "code",
      "source": [
        "for nid in train_subjects.index:\n",
        "    Gnx.nodes[nid][\"isTrain\"] = True\n",
        "\n",
        "for nid in test_subjects.index:\n",
        "    Gnx.nodes[nid][\"isTrain\"] = False"
      ],
      "metadata": {
        "id": "FuAQ53I5RgMs"
      },
      "execution_count": 51,
      "outputs": []
    },
    {
      "cell_type": "code",
      "source": [
        "for nid in Gnx.nodes():\n",
        "    Gnx.nodes[nid][\"isCorrect\"] = (\n",
        "        Gnx.nodes[nid][\"subject\"] == Gnx.nodes[nid][\"PREDICTED_subject\"]\n",
        "    )"
      ],
      "metadata": {
        "id": "bb5XDs6kRhnc"
      },
      "execution_count": 52,
      "outputs": []
    },
    {
      "cell_type": "code",
      "source": [
        "pred_fname = \"pred_n={}.graphml\".format(num_samples)\n",
        "nx.write_graphml(Gnx, os.path.join(dataset.data_directory, pred_fname))"
      ],
      "metadata": {
        "id": "tPatWVC1Rjq9"
      },
      "execution_count": 53,
      "outputs": []
    },
    {
      "cell_type": "markdown",
      "source": [
        "### Node embeddings"
      ],
      "metadata": {
        "id": "Us6PPvMtRm9v"
      }
    },
    {
      "cell_type": "code",
      "source": [
        "embedding_model = Model(inputs=x_inp, outputs=x_out)\n",
        "emb = embedding_model.predict(all_mapper)\n",
        "emb.shape"
      ],
      "metadata": {
        "colab": {
          "base_uri": "https://localhost:8080/"
        },
        "id": "11HGY3XwRllp",
        "outputId": "6dc665fe-c1a9-47c1-cfd0-6b9e79b8e73a"
      },
      "execution_count": 54,
      "outputs": [
        {
          "output_type": "execute_result",
          "data": {
            "text/plain": [
              "(2708, 32)"
            ]
          },
          "metadata": {},
          "execution_count": 54
        }
      ]
    },
    {
      "cell_type": "code",
      "source": [
        "from sklearn.decomposition import PCA\n",
        "from sklearn.manifold import TSNE\n",
        "import pandas as pd\n",
        "import numpy as np"
      ],
      "metadata": {
        "id": "msCQDQkqRykz"
      },
      "execution_count": 55,
      "outputs": []
    },
    {
      "cell_type": "code",
      "source": [
        "X = emb\n",
        "y = np.argmax(target_encoding.transform(node_subjects), axis=1)"
      ],
      "metadata": {
        "id": "cLRTpyp3R34T"
      },
      "execution_count": 56,
      "outputs": []
    },
    {
      "cell_type": "code",
      "source": [
        "if X.shape[1] > 2:\n",
        "    transform = TSNE  # PCA\n",
        "\n",
        "    trans = transform(n_components=2)\n",
        "    emb_transformed = pd.DataFrame(trans.fit_transform(X), index=node_subjects.index)\n",
        "    emb_transformed[\"label\"] = y\n",
        "else:\n",
        "    emb_transformed = pd.DataFrame(X, index=node_subjects.index)\n",
        "    emb_transformed = emb_transformed.rename(columns={\"0\": 0, \"1\": 1})\n",
        "    emb_transformed[\"label\"] = y"
      ],
      "metadata": {
        "colab": {
          "base_uri": "https://localhost:8080/"
        },
        "id": "rR8adlTvR4AN",
        "outputId": "880649a0-61c8-46e0-94f2-79644665ce1b"
      },
      "execution_count": 57,
      "outputs": [
        {
          "output_type": "stream",
          "name": "stderr",
          "text": [
            "/usr/local/lib/python3.7/dist-packages/sklearn/manifold/_t_sne.py:783: FutureWarning: The default initialization in TSNE will change from 'random' to 'pca' in 1.2.\n",
            "  FutureWarning,\n",
            "/usr/local/lib/python3.7/dist-packages/sklearn/manifold/_t_sne.py:793: FutureWarning: The default learning rate in TSNE will change from 200.0 to 'auto' in 1.2.\n",
            "  FutureWarning,\n"
          ]
        }
      ]
    },
    {
      "cell_type": "code",
      "source": [
        "alpha = 0.7\n",
        "\n",
        "fig, ax = plt.subplots(figsize=(7, 7))\n",
        "ax.scatter(\n",
        "    emb_transformed[0],\n",
        "    emb_transformed[1],\n",
        "    c=emb_transformed[\"label\"].astype(\"category\"),\n",
        "    cmap=\"jet\",\n",
        "    alpha=alpha,\n",
        ")\n",
        "ax.set(aspect=\"equal\", xlabel=\"$X_1$\", ylabel=\"$X_2$\")\n",
        "plt.title(\n",
        "    \"{} visualization of GraphSAGE embeddings for cora dataset\".format(transform.__name__)\n",
        ")\n",
        "plt.show()"
      ],
      "metadata": {
        "colab": {
          "base_uri": "https://localhost:8080/",
          "height": 452
        },
        "id": "HTAwmdfoR5Si",
        "outputId": "0b53e991-75dc-470b-d1f9-73aa625b4617"
      },
      "execution_count": 58,
      "outputs": [
        {
          "output_type": "display_data",
          "data": {
            "text/plain": [
              "<Figure size 504x504 with 1 Axes>"
            ],
            "image/png": "[encoded data removed]"
          },
          "metadata": {
            "needs_background": "light"
          }
        }
      ]
    },
    {
      "cell_type": "markdown",
      "source": [
        "# Node classification with Graph ATtention Network (GAT)\n",
        "\n"
      ],
      "metadata": {
        "id": "3A1cWjFSUjLk"
      }
    },
    {
      "cell_type": "markdown",
      "source": [
        "## Creating the GraphSAGE model in Keras"
      ],
      "metadata": {
        "id": "v5MN3SbFUz_Q"
      }
    },
    {
      "cell_type": "code",
      "source": [
        "batch_size = 50\n",
        "num_samples = [10, 5]"
      ],
      "metadata": {
        "id": "4PbsqqF_R62z"
      },
      "execution_count": 59,
      "outputs": []
    },
    {
      "cell_type": "code",
      "source": [
        "generator = GraphSAGENodeGenerator(G, batch_size, num_samples)"
      ],
      "metadata": {
        "id": "lY7Ujv1VU1jI"
      },
      "execution_count": 60,
      "outputs": []
    },
    {
      "cell_type": "code",
      "source": [
        "train_gen = generator.flow(train_subjects.index, train_targets, shuffle=True)"
      ],
      "metadata": {
        "id": "QhKUAMZuU3wm"
      },
      "execution_count": 61,
      "outputs": []
    },
    {
      "cell_type": "code",
      "source": [
        "graphsage_model = GraphSAGE(\n",
        "    layer_sizes=[32, 32], generator=generator, bias=True, dropout=0.5,\n",
        ")"
      ],
      "metadata": {
        "id": "yVgTwEjvU5AK"
      },
      "execution_count": 62,
      "outputs": []
    },
    {
      "cell_type": "code",
      "source": [
        "x_inp, x_out = graphsage_model.in_out_tensors()\n",
        "prediction = layers.Dense(units=train_targets.shape[1], activation=\"softmax\")(x_out)"
      ],
      "metadata": {
        "id": "kBdi3MiUU65y"
      },
      "execution_count": 63,
      "outputs": []
    },
    {
      "cell_type": "markdown",
      "source": [
        "## Training the model"
      ],
      "metadata": {
        "id": "_gtvnbfzU98o"
      }
    },
    {
      "cell_type": "code",
      "source": [
        "model = Model(inputs=x_inp, outputs=prediction)\n",
        "model.compile(\n",
        "    optimizer=optimizers.Adam(lr=0.005),\n",
        "    loss=losses.categorical_crossentropy,\n",
        "    metrics=[\"acc\"],\n",
        ")"
      ],
      "metadata": {
        "colab": {
          "base_uri": "https://localhost:8080/"
        },
        "id": "yQJNBrTsU8OQ",
        "outputId": "89ed9812-7048-42f9-9acd-43383d21d4bb"
      },
      "execution_count": 64,
      "outputs": [
        {
          "output_type": "stream",
          "name": "stderr",
          "text": [
            "/usr/local/lib/python3.7/dist-packages/keras/optimizer_v2/adam.py:105: UserWarning: The `lr` argument is deprecated, use `learning_rate` instead.\n",
            "  super(Adam, self).__init__(name, **kwargs)\n"
          ]
        }
      ]
    },
    {
      "cell_type": "code",
      "source": [
        "test_gen = generator.flow(test_subjects.index, test_targets)"
      ],
      "metadata": {
        "id": "nppx3d-eU_k8"
      },
      "execution_count": 65,
      "outputs": []
    },
    {
      "cell_type": "code",
      "source": [
        "history = model.fit(\n",
        "    train_gen, epochs=20, validation_data=test_gen, verbose=2, shuffle=False\n",
        ")"
      ],
      "metadata": {
        "colab": {
          "base_uri": "https://localhost:8080/"
        },
        "id": "So0TOWQwVEgm",
        "outputId": "481671ea-2077-4a9a-9101-320a672cdd09"
      },
      "execution_count": 66,
      "outputs": [
        {
          "output_type": "stream",
          "name": "stdout",
          "text": [
            "Epoch 1/20\n",
            "3/3 - 4s - loss: 1.9344 - acc: 0.2000 - val_loss: 1.7805 - val_acc: 0.3225 - 4s/epoch - 1s/step\n",
            "Epoch 2/20\n",
            "3/3 - 2s - loss: 1.7316 - acc: 0.4286 - val_loss: 1.7172 - val_acc: 0.3075 - 2s/epoch - 737ms/step\n",
            "Epoch 3/20\n",
            "3/3 - 3s - loss: 1.6148 - acc: 0.4714 - val_loss: 1.6478 - val_acc: 0.3448 - 3s/epoch - 947ms/step\n",
            "Epoch 4/20\n",
            "3/3 - 3s - loss: 1.5196 - acc: 0.5929 - val_loss: 1.5743 - val_acc: 0.4652 - 3s/epoch - 957ms/step\n",
            "Epoch 5/20\n",
            "3/3 - 2s - loss: 1.4490 - acc: 0.6643 - val_loss: 1.5049 - val_acc: 0.5788 - 2s/epoch - 718ms/step\n",
            "Epoch 6/20\n",
            "3/3 - 3s - loss: 1.3445 - acc: 0.7929 - val_loss: 1.4337 - val_acc: 0.6451 - 3s/epoch - 944ms/step\n",
            "Epoch 7/20\n",
            "3/3 - 3s - loss: 1.2664 - acc: 0.8429 - val_loss: 1.3696 - val_acc: 0.6654 - 3s/epoch - 943ms/step\n",
            "Epoch 8/20\n",
            "3/3 - 2s - loss: 1.1840 - acc: 0.8857 - val_loss: 1.3072 - val_acc: 0.6799 - 2s/epoch - 712ms/step\n",
            "Epoch 9/20\n",
            "3/3 - 2s - loss: 1.1138 - acc: 0.9143 - val_loss: 1.2516 - val_acc: 0.6992 - 2s/epoch - 686ms/step\n",
            "Epoch 10/20\n",
            "3/3 - 2s - loss: 1.0432 - acc: 0.9071 - val_loss: 1.2144 - val_acc: 0.6973 - 2s/epoch - 723ms/step\n",
            "Epoch 11/20\n",
            "3/3 - 3s - loss: 0.9795 - acc: 0.9000 - val_loss: 1.1788 - val_acc: 0.6968 - 3s/epoch - 952ms/step\n",
            "Epoch 12/20\n",
            "3/3 - 2s - loss: 0.9457 - acc: 0.9214 - val_loss: 1.1395 - val_acc: 0.7103 - 2s/epoch - 723ms/step\n",
            "Epoch 13/20\n",
            "3/3 - 2s - loss: 0.8732 - acc: 0.9571 - val_loss: 1.1058 - val_acc: 0.7253 - 2s/epoch - 732ms/step\n",
            "Epoch 14/20\n",
            "3/3 - 2s - loss: 0.8338 - acc: 0.9286 - val_loss: 1.0670 - val_acc: 0.7413 - 2s/epoch - 751ms/step\n",
            "Epoch 15/20\n",
            "3/3 - 2s - loss: 0.7740 - acc: 0.9714 - val_loss: 1.0341 - val_acc: 0.7500 - 2s/epoch - 721ms/step\n",
            "Epoch 16/20\n",
            "3/3 - 2s - loss: 0.7462 - acc: 0.9429 - val_loss: 1.0176 - val_acc: 0.7437 - 2s/epoch - 734ms/step\n",
            "Epoch 17/20\n",
            "3/3 - 3s - loss: 0.6818 - acc: 0.9643 - val_loss: 0.9944 - val_acc: 0.7500 - 3s/epoch - 947ms/step\n",
            "Epoch 18/20\n",
            "3/3 - 3s - loss: 0.6633 - acc: 0.9643 - val_loss: 0.9786 - val_acc: 0.7427 - 3s/epoch - 947ms/step\n",
            "Epoch 19/20\n",
            "3/3 - 3s - loss: 0.6253 - acc: 0.9786 - val_loss: 0.9634 - val_acc: 0.7394 - 3s/epoch - 946ms/step\n",
            "Epoch 20/20\n",
            "3/3 - 3s - loss: 0.5818 - acc: 0.9571 - val_loss: 0.9347 - val_acc: 0.7519 - 3s/epoch - 948ms/step\n"
          ]
        }
      ]
    },
    {
      "cell_type": "code",
      "source": [
        "sg.utils.plot_history(history)"
      ],
      "metadata": {
        "colab": {
          "base_uri": "https://localhost:8080/",
          "height": 585
        },
        "id": "9WtZWjkZVF5P",
        "outputId": "2d7736ab-9d06-4407-fa1f-d54efc698315"
      },
      "execution_count": 67,
      "outputs": [
        {
          "output_type": "display_data",
          "data": {
            "text/plain": [
              "<Figure size 504x576 with 2 Axes>"
            ],
            "image/png": "[encoded data removed]"
          },
          "metadata": {
            "needs_background": "light"
          }
        }
      ]
    },
    {
      "cell_type": "code",
      "source": [
        "test_metrics = model.evaluate(test_gen)\n",
        "print(\"\\nTest Set Metrics:\")\n",
        "for name, val in zip(model.metrics_names, test_metrics):\n",
        "    print(\"\\t{}: {:0.4f}\".format(name, val))"
      ],
      "metadata": {
        "colab": {
          "base_uri": "https://localhost:8080/"
        },
        "id": "ilS0-YBbVHgQ",
        "outputId": "9b56584d-43b1-457f-8dcf-d92397b24893"
      },
      "execution_count": 68,
      "outputs": [
        {
          "output_type": "stream",
          "name": "stdout",
          "text": [
            "42/42 [==============================] - 2s 50ms/step - loss: 0.9370 - acc: 0.7548\n",
            "\n",
            "Test Set Metrics:\n",
            "\tloss: 0.9370\n",
            "\tacc: 0.7548\n"
          ]
        }
      ]
    },
    {
      "cell_type": "markdown",
      "source": [
        "## Making predictions with the model"
      ],
      "metadata": {
        "id": "AzxyPZ7gVLQm"
      }
    },
    {
      "cell_type": "code",
      "source": [
        "all_nodes = node_subjects.index\n",
        "all_mapper = generator.flow(all_nodes)\n",
        "all_predictions = model.predict(all_mapper)"
      ],
      "metadata": {
        "id": "RLDHTPXGVJVR"
      },
      "execution_count": 69,
      "outputs": []
    },
    {
      "cell_type": "code",
      "source": [
        "node_predictions = target_encoding.inverse_transform(all_predictions)"
      ],
      "metadata": {
        "id": "q3uuS7siVNXk"
      },
      "execution_count": 70,
      "outputs": []
    },
    {
      "cell_type": "code",
      "source": [
        "df = pd.DataFrame({\"Predicted\": node_predictions, \"True\": node_subjects})\n",
        "df.head(10)"
      ],
      "metadata": {
        "colab": {
          "base_uri": "https://localhost:8080/",
          "height": 359
        },
        "id": "WkPpyOM4VOks",
        "outputId": "74a860bf-e22a-4024-84db-174374642600"
      },
      "execution_count": 71,
      "outputs": [
        {
          "output_type": "execute_result",
          "data": {
            "text/plain": [
              "                      Predicted                    True\n",
              "31336     Probabilistic_Methods         Neural_Networks\n",
              "1061127           Rule_Learning           Rule_Learning\n",
              "1106406  Reinforcement_Learning  Reinforcement_Learning\n",
              "13195           Neural_Networks  Reinforcement_Learning\n",
              "37879     Probabilistic_Methods   Probabilistic_Methods\n",
              "1126012   Probabilistic_Methods   Probabilistic_Methods\n",
              "1107140                  Theory                  Theory\n",
              "1102850   Probabilistic_Methods         Neural_Networks\n",
              "31349     Probabilistic_Methods         Neural_Networks\n",
              "1106418                  Theory                  Theory"
            ],
            "text/html": [
              "\n",
              "  <div id=\"df-2c25c45e-b611-4c51-90c0-3f66d7f47085\">\n",
              "    <div class=\"colab-df-container\">\n",
              "      <div>\n",
              "<style scoped>\n",
              "    .dataframe tbody tr th:only-of-type {\n",
              "        vertical-align: middle;\n",
              "    }\n",
              "\n",
              "    .dataframe tbody tr th {\n",
              "        vertical-align: top;\n",
              "    }\n",
              "\n",
              "    .dataframe thead th {\n",
              "        text-align: right;\n",
              "    }\n",
              "</style>\n",
              "<table border=\"1\" class=\"dataframe\">\n",
              "  <thead>\n",
              "    <tr style=\"text-align: right;\">\n",
              "      <th></th>\n",
              "      <th>Predicted</th>\n",
              "      <th>True</th>\n",
              "    </tr>\n",
              "  </thead>\n",
              "  <tbody>\n",
              "    <tr>\n",
              "      <th>31336</th>\n",
              "      <td>Probabilistic_Methods</td>\n",
              "      <td>Neural_Networks</td>\n",
              "    </tr>\n",
              "    <tr>\n",
              "      <th>1061127</th>\n",
              "      <td>Rule_Learning</td>\n",
              "      <td>Rule_Learning</td>\n",
              "    </tr>\n",
              "    <tr>\n",
              "      <th>1106406</th>\n",
              "      <td>Reinforcement_Learning</td>\n",
              "      <td>Reinforcement_Learning</td>\n",
              "    </tr>\n",
              "    <tr>\n",
              "      <th>13195</th>\n",
              "      <td>Neural_Networks</td>\n",
              "      <td>Reinforcement_Learning</td>\n",
              "    </tr>\n",
              "    <tr>\n",
              "      <th>37879</th>\n",
              "      <td>Probabilistic_Methods</td>\n",
              "      <td>Probabilistic_Methods</td>\n",
              "    </tr>\n",
              "    <tr>\n",
              "      <th>1126012</th>\n",
              "      <td>Probabilistic_Methods</td>\n",
              "      <td>Probabilistic_Methods</td>\n",
              "    </tr>\n",
              "    <tr>\n",
              "      <th>1107140</th>\n",
              "      <td>Theory</td>\n",
              "      <td>Theory</td>\n",
              "    </tr>\n",
              "    <tr>\n",
              "      <th>1102850</th>\n",
              "      <td>Probabilistic_Methods</td>\n",
              "      <td>Neural_Networks</td>\n",
              "    </tr>\n",
              "    <tr>\n",
              "      <th>31349</th>\n",
              "      <td>Probabilistic_Methods</td>\n",
              "      <td>Neural_Networks</td>\n",
              "    </tr>\n",
              "    <tr>\n",
              "      <th>1106418</th>\n",
              "      <td>Theory</td>\n",
              "      <td>Theory</td>\n",
              "    </tr>\n",
              "  </tbody>\n",
              "</table>\n",
              "</div>\n",
              "      <button class=\"colab-df-convert\" onclick=\"convertToInteractive('df-2c25c45e-b611-4c51-90c0-3f66d7f47085')\"\n",
              "              title=\"Convert this dataframe to an interactive table.\"\n",
              "              style=\"display:none;\">\n",
              "        \n",
              "  <svg xmlns=\"http://www.w3.org/2000/svg\" height=\"24px\"viewBox=\"0 0 24 24\"\n",
              "       width=\"24px\">\n",
              "    <path d=\"M0 0h24v24H0V0z\" fill=\"none\"/>\n",
              "    <path d=\"M18.56 5.44l.94 2.06.94-2.06 2.06-.94-2.06-.94-.94-2.06-.94 2.06-2.06.94zm-11 1L8.5 8.5l.94-2.06 2.06-.94-2.06-.94L8.5 2.5l-.94 2.06-2.06.94zm10 10l.94 2.06.94-2.06 2.06-.94-2.06-.94-.94-2.06-.94 2.06-2.06.94z\"/><path d=\"M17.41 7.96l-1.37-1.37c-.4-.4-.92-.59-1.43-.59-.52 0-1.04.2-1.43.59L10.3 9.45l-7.72 7.72c-.78.78-.78 2.05 0 2.83L4 21.41c.39.39.9.59 1.41.59.51 0 1.02-.2 1.41-.59l7.78-7.78 2.81-2.81c.8-.78.8-2.07 0-2.86zM5.41 20L4 18.59l7.72-7.72 1.47 1.35L5.41 20z\"/>\n",
              "  </svg>\n",
              "      </button>\n",
              "      \n",
              "  <style>\n",
              "    .colab-df-container {\n",
              "      display:flex;\n",
              "      flex-wrap:wrap;\n",
              "      gap: 12px;\n",
              "    }\n",
              "\n",
              "    .colab-df-convert {\n",
              "      background-color: #E8F0FE;\n",
              "      border: none;\n",
              "      border-radius: 50%;\n",
              "      cursor: pointer;\n",
              "      display: none;\n",
              "      fill: #1967D2;\n",
              "      height: 32px;\n",
              "      padding: 0 0 0 0;\n",
              "      width: 32px;\n",
              "    }\n",
              "\n",
              "    .colab-df-convert:hover {\n",
              "      background-color: #E2EBFA;\n",
              "      box-shadow: 0px 1px 2px rgba(60, 64, 67, 0.3), 0px 1px 3px 1px rgba(60, 64, 67, 0.15);\n",
              "      fill: #174EA6;\n",
              "    }\n",
              "\n",
              "    [theme=dark] .colab-df-convert {\n",
              "      background-color: #3B4455;\n",
              "      fill: #D2E3FC;\n",
              "    }\n",
              "\n",
              "    [theme=dark] .colab-df-convert:hover {\n",
              "      background-color: #434B5C;\n",
              "      box-shadow: 0px 1px 3px 1px rgba(0, 0, 0, 0.15);\n",
              "      filter: drop-shadow(0px 1px 2px rgba(0, 0, 0, 0.3));\n",
              "      fill: #FFFFFF;\n",
              "    }\n",
              "  </style>\n",
              "\n",
              "      <script>\n",
              "        const buttonEl =\n",
              "          document.querySelector('#df-2c25c45e-b611-4c51-90c0-3f66d7f47085 button.colab-df-convert');\n",
              "        buttonEl.style.display =\n",
              "          google.colab.kernel.accessAllowed ? 'block' : 'none';\n",
              "\n",
              "        async function convertToInteractive(key) {\n",
              "          const element = document.querySelector('#df-2c25c45e-b611-4c51-90c0-3f66d7f47085');\n",
              "          const dataTable =\n",
              "            await google.colab.kernel.invokeFunction('convertToInteractive',\n",
              "                                                     [key], {});\n",
              "          if (!dataTable) return;\n",
              "\n",
              "          const docLinkHtml = 'Like what you see? Visit the ' +\n",
              "            '<a target=\"_blank\" href=https://colab.research.google.com/notebooks/data_table.ipynb>data table notebook</a>'\n",
              "            + ' to learn more about interactive tables.';\n",
              "          element.innerHTML = '';\n",
              "          dataTable['output_type'] = 'display_data';\n",
              "          await google.colab.output.renderOutput(dataTable, element);\n",
              "          const docLink = document.createElement('div');\n",
              "          docLink.innerHTML = docLinkHtml;\n",
              "          element.appendChild(docLink);\n",
              "        }\n",
              "      </script>\n",
              "    </div>\n",
              "  </div>\n",
              "  "
            ]
          },
          "metadata": {},
          "execution_count": 71
        }
      ]
    },
    {
      "cell_type": "code",
      "source": [
        "Gnx = G.to_networkx(feature_attr=None)"
      ],
      "metadata": {
        "id": "HzRGE0dEVPu_"
      },
      "execution_count": 72,
      "outputs": []
    },
    {
      "cell_type": "code",
      "source": [
        "for nid, pred, true in zip(df.index, df[\"Predicted\"], df[\"True\"]):\n",
        "    Gnx.nodes[nid][\"subject\"] = true\n",
        "    Gnx.nodes[nid][\"PREDICTED_subject\"] = pred.split(\"=\")[-1]"
      ],
      "metadata": {
        "id": "xDW9yq2xVQ-w"
      },
      "execution_count": 73,
      "outputs": []
    },
    {
      "cell_type": "code",
      "source": [
        "for nid in train_subjects.index:\n",
        "    Gnx.nodes[nid][\"isTrain\"] = True\n",
        "\n",
        "for nid in test_subjects.index:\n",
        "    Gnx.nodes[nid][\"isTrain\"] = False"
      ],
      "metadata": {
        "id": "K1V4bNnjVSL7"
      },
      "execution_count": 74,
      "outputs": []
    },
    {
      "cell_type": "code",
      "source": [
        "for nid in Gnx.nodes():\n",
        "    Gnx.nodes[nid][\"isCorrect\"] = (\n",
        "        Gnx.nodes[nid][\"subject\"] == Gnx.nodes[nid][\"PREDICTED_subject\"]\n",
        "    )"
      ],
      "metadata": {
        "id": "kp-wRC0gVTcI"
      },
      "execution_count": 75,
      "outputs": []
    },
    {
      "cell_type": "code",
      "source": [
        "pred_fname = \"pred_n={}.graphml\".format(num_samples)\n",
        "nx.write_graphml(Gnx, os.path.join(dataset.data_directory, pred_fname))"
      ],
      "metadata": {
        "id": "eRSxS1NiVVXN"
      },
      "execution_count": 76,
      "outputs": []
    },
    {
      "cell_type": "markdown",
      "source": [
        "## Node embeddings"
      ],
      "metadata": {
        "id": "sJ63MvX7VYBD"
      }
    },
    {
      "cell_type": "code",
      "source": [
        "embedding_model = Model(inputs=x_inp, outputs=x_out)\n",
        "emb = embedding_model.predict(all_mapper)\n",
        "emb.shape"
      ],
      "metadata": {
        "colab": {
          "base_uri": "https://localhost:8080/"
        },
        "id": "8CiGx07XVWkv",
        "outputId": "0722d316-db06-466e-b093-3bf25b961327"
      },
      "execution_count": 77,
      "outputs": [
        {
          "output_type": "execute_result",
          "data": {
            "text/plain": [
              "(2708, 32)"
            ]
          },
          "metadata": {},
          "execution_count": 77
        }
      ]
    },
    {
      "cell_type": "code",
      "source": [
        "from sklearn.decomposition import PCA\n",
        "from sklearn.manifold import TSNE\n",
        "import pandas as pd\n",
        "import numpy as np"
      ],
      "metadata": {
        "id": "U8XIp_a6VbNd"
      },
      "execution_count": 78,
      "outputs": []
    },
    {
      "cell_type": "code",
      "source": [
        "X = emb\n",
        "y = np.argmax(target_encoding.transform(node_subjects), axis=1)"
      ],
      "metadata": {
        "id": "xm3q-yaxVcy_"
      },
      "execution_count": 79,
      "outputs": []
    },
    {
      "cell_type": "code",
      "source": [
        "if X.shape[1] > 2:\n",
        "    transform = TSNE  # PCA\n",
        "\n",
        "    trans = transform(n_components=2)\n",
        "    emb_transformed = pd.DataFrame(trans.fit_transform(X), index=node_subjects.index)\n",
        "    emb_transformed[\"label\"] = y\n",
        "else:\n",
        "    emb_transformed = pd.DataFrame(X, index=node_subjects.index)\n",
        "    emb_transformed = emb_transformed.rename(columns={\"0\": 0, \"1\": 1})\n",
        "    emb_transformed[\"label\"] = y"
      ],
      "metadata": {
        "colab": {
          "base_uri": "https://localhost:8080/"
        },
        "id": "uW8EZlDjVePx",
        "outputId": "899f6062-ea7f-4e81-a5a5-b7ac5e8c6a71"
      },
      "execution_count": 80,
      "outputs": [
        {
          "output_type": "stream",
          "name": "stderr",
          "text": [
            "/usr/local/lib/python3.7/dist-packages/sklearn/manifold/_t_sne.py:783: FutureWarning: The default initialization in TSNE will change from 'random' to 'pca' in 1.2.\n",
            "  FutureWarning,\n",
            "/usr/local/lib/python3.7/dist-packages/sklearn/manifold/_t_sne.py:793: FutureWarning: The default learning rate in TSNE will change from 200.0 to 'auto' in 1.2.\n",
            "  FutureWarning,\n"
          ]
        }
      ]
    },
    {
      "cell_type": "code",
      "source": [
        "alpha = 0.7\n",
        "\n",
        "fig, ax = plt.subplots(figsize=(7, 7))\n",
        "ax.scatter(\n",
        "    emb_transformed[0],\n",
        "    emb_transformed[1],\n",
        "    c=emb_transformed[\"label\"].astype(\"category\"),\n",
        "    cmap=\"jet\",\n",
        "    alpha=alpha,\n",
        ")\n",
        "ax.set(aspect=\"equal\", xlabel=\"$X_1$\", ylabel=\"$X_2$\")\n",
        "plt.title(\n",
        "    \"{} visualization of GraphSAGE embeddings for cora dataset\".format(transform.__name__)\n",
        ")\n",
        "plt.show()"
      ],
      "metadata": {
        "colab": {
          "base_uri": "https://localhost:8080/",
          "height": 462
        },
        "id": "Z58dZTc4Vic2",
        "outputId": "347c52ab-38b3-40bb-c3d3-f7a44763ce7a"
      },
      "execution_count": 81,
      "outputs": [
        {
          "output_type": "display_data",
          "data": {
            "text/plain": [
              "<Figure size 504x504 with 1 Axes>"
            ],
            "image/png": "[encoded data removed]"
          },
          "metadata": {
            "needs_background": "light"
          }
        }
      ]
    },
    {
      "cell_type": "markdown",
      "source": [
        "# Supervised graph classification with GCN"
      ],
      "metadata": {
        "id": "_Piw7bbVX1MZ"
      }
    },
    {
      "cell_type": "code",
      "source": [
        "import pandas as pd\n",
        "import numpy as np\n",
        "\n",
        "import stellargraph as sg\n",
        "from stellargraph.mapper import PaddedGraphGenerator\n",
        "from stellargraph.layer import GCNSupervisedGraphClassification\n",
        "from stellargraph import StellarGraph\n",
        "\n",
        "from stellargraph import datasets\n",
        "\n",
        "from sklearn import model_selection\n",
        "from IPython.display import display, HTML\n",
        "\n",
        "from tensorflow.keras import Model\n",
        "from tensorflow.keras.optimizers import Adam\n",
        "from tensorflow.keras.layers import Dense\n",
        "from tensorflow.keras.losses import binary_crossentropy\n",
        "from tensorflow.keras.callbacks import EarlyStopping\n",
        "import tensorflow as tf\n",
        "import matplotlib.pyplot as plt"
      ],
      "metadata": {
        "id": "WfTZQE__X1sW"
      },
      "execution_count": 82,
      "outputs": []
    },
    {
      "cell_type": "markdown",
      "source": [
        "## Import the data"
      ],
      "metadata": {
        "id": "bnNKKrAfX45m"
      }
    },
    {
      "cell_type": "code",
      "source": [
        "dataset = datasets.MUTAG()\n",
        "display(HTML(dataset.description))\n",
        "graphs, graph_labels = dataset.load()"
      ],
      "metadata": {
        "colab": {
          "base_uri": "https://localhost:8080/",
          "height": 51
        },
        "id": "4dakWbd7X3YX",
        "outputId": "499cb3dd-e98c-4f6f-beed-8117b01c504e"
      },
      "execution_count": 83,
      "outputs": [
        {
          "output_type": "display_data",
          "data": {
            "text/plain": [
              "<IPython.core.display.HTML object>"
            ],
            "text/html": [
              "Each graph represents a chemical compound and graph labels represent 'their mutagenic effect on a specific gram negative bacterium.'The dataset includes 188 graphs with 18 nodes and 20 edges on average for each graph. Graph nodes have 7 labels and each graph is labelled as belonging to 1 of 2 classes."
            ]
          },
          "metadata": {}
        }
      ]
    },
    {
      "cell_type": "code",
      "source": [
        "print(graphs[0].info())"
      ],
      "metadata": {
        "colab": {
          "base_uri": "https://localhost:8080/"
        },
        "id": "ATkrLj27X7Ft",
        "outputId": "b338381e-b24a-4555-b8aa-87276a455e12"
      },
      "execution_count": 84,
      "outputs": [
        {
          "output_type": "stream",
          "name": "stdout",
          "text": [
            "StellarGraph: Undirected multigraph\n",
            " Nodes: 17, Edges: 38\n",
            "\n",
            " Node types:\n",
            "  default: [17]\n",
            "    Features: float32 vector, length 7\n",
            "    Edge types: default-default->default\n",
            "\n",
            " Edge types:\n",
            "    default-default->default: [38]\n",
            "        Weights: all 1 (default)\n",
            "        Features: none\n"
          ]
        }
      ]
    },
    {
      "cell_type": "code",
      "source": [
        "print(graphs[1].info())"
      ],
      "metadata": {
        "colab": {
          "base_uri": "https://localhost:8080/"
        },
        "id": "PFlblkzyX8JK",
        "outputId": "c55f35b1-5380-4456-d92c-0f13dc583aeb"
      },
      "execution_count": 85,
      "outputs": [
        {
          "output_type": "stream",
          "name": "stdout",
          "text": [
            "StellarGraph: Undirected multigraph\n",
            " Nodes: 13, Edges: 28\n",
            "\n",
            " Node types:\n",
            "  default: [13]\n",
            "    Features: float32 vector, length 7\n",
            "    Edge types: default-default->default\n",
            "\n",
            " Edge types:\n",
            "    default-default->default: [28]\n",
            "        Weights: all 1 (default)\n",
            "        Features: none\n"
          ]
        }
      ]
    },
    {
      "cell_type": "code",
      "source": [
        "summary = pd.DataFrame(\n",
        "    [(g.number_of_nodes(), g.number_of_edges()) for g in graphs],\n",
        "    columns=[\"nodes\", \"edges\"],\n",
        ")\n",
        "summary.describe().round(1)"
      ],
      "metadata": {
        "colab": {
          "base_uri": "https://localhost:8080/",
          "height": 297
        },
        "id": "kI6Ezb4iX9Ty",
        "outputId": "bf0ef088-bbe5-4da2-f4bc-6a21df1e7662"
      },
      "execution_count": 86,
      "outputs": [
        {
          "output_type": "execute_result",
          "data": {
            "text/plain": [
              "       nodes  edges\n",
              "count  188.0  188.0\n",
              "mean    17.9   39.6\n",
              "std      4.6   11.4\n",
              "min     10.0   20.0\n",
              "25%     14.0   28.0\n",
              "50%     17.5   38.0\n",
              "75%     22.0   50.0\n",
              "max     28.0   66.0"
            ],
            "text/html": [
              "\n",
              "  <div id=\"df-ddf82da7-f03f-46ea-b5fe-2f2e87b5c0b5\">\n",
              "    <div class=\"colab-df-container\">\n",
              "      <div>\n",
              "<style scoped>\n",
              "    .dataframe tbody tr th:only-of-type {\n",
              "        vertical-align: middle;\n",
              "    }\n",
              "\n",
              "    .dataframe tbody tr th {\n",
              "        vertical-align: top;\n",
              "    }\n",
              "\n",
              "    .dataframe thead th {\n",
              "        text-align: right;\n",
              "    }\n",
              "</style>\n",
              "<table border=\"1\" class=\"dataframe\">\n",
              "  <thead>\n",
              "    <tr style=\"text-align: right;\">\n",
              "      <th></th>\n",
              "      <th>nodes</th>\n",
              "      <th>edges</th>\n",
              "    </tr>\n",
              "  </thead>\n",
              "  <tbody>\n",
              "    <tr>\n",
              "      <th>count</th>\n",
              "      <td>188.0</td>\n",
              "      <td>188.0</td>\n",
              "    </tr>\n",
              "    <tr>\n",
              "      <th>mean</th>\n",
              "      <td>17.9</td>\n",
              "      <td>39.6</td>\n",
              "    </tr>\n",
              "    <tr>\n",
              "      <th>std</th>\n",
              "      <td>4.6</td>\n",
              "      <td>11.4</td>\n",
              "    </tr>\n",
              "    <tr>\n",
              "      <th>min</th>\n",
              "      <td>10.0</td>\n",
              "      <td>20.0</td>\n",
              "    </tr>\n",
              "    <tr>\n",
              "      <th>25%</th>\n",
              "      <td>14.0</td>\n",
              "      <td>28.0</td>\n",
              "    </tr>\n",
              "    <tr>\n",
              "      <th>50%</th>\n",
              "      <td>17.5</td>\n",
              "      <td>38.0</td>\n",
              "    </tr>\n",
              "    <tr>\n",
              "      <th>75%</th>\n",
              "      <td>22.0</td>\n",
              "      <td>50.0</td>\n",
              "    </tr>\n",
              "    <tr>\n",
              "      <th>max</th>\n",
              "      <td>28.0</td>\n",
              "      <td>66.0</td>\n",
              "    </tr>\n",
              "  </tbody>\n",
              "</table>\n",
              "</div>\n",
              "      <button class=\"colab-df-convert\" onclick=\"convertToInteractive('df-ddf82da7-f03f-46ea-b5fe-2f2e87b5c0b5')\"\n",
              "              title=\"Convert this dataframe to an interactive table.\"\n",
              "              style=\"display:none;\">\n",
              "        \n",
              "  <svg xmlns=\"http://www.w3.org/2000/svg\" height=\"24px\"viewBox=\"0 0 24 24\"\n",
              "       width=\"24px\">\n",
              "    <path d=\"M0 0h24v24H0V0z\" fill=\"none\"/>\n",
              "    <path d=\"M18.56 5.44l.94 2.06.94-2.06 2.06-.94-2.06-.94-.94-2.06-.94 2.06-2.06.94zm-11 1L8.5 8.5l.94-2.06 2.06-.94-2.06-.94L8.5 2.5l-.94 2.06-2.06.94zm10 10l.94 2.06.94-2.06 2.06-.94-2.06-.94-.94-2.06-.94 2.06-2.06.94z\"/><path d=\"M17.41 7.96l-1.37-1.37c-.4-.4-.92-.59-1.43-.59-.52 0-1.04.2-1.43.59L10.3 9.45l-7.72 7.72c-.78.78-.78 2.05 0 2.83L4 21.41c.39.39.9.59 1.41.59.51 0 1.02-.2 1.41-.59l7.78-7.78 2.81-2.81c.8-.78.8-2.07 0-2.86zM5.41 20L4 18.59l7.72-7.72 1.47 1.35L5.41 20z\"/>\n",
              "  </svg>\n",
              "      </button>\n",
              "      \n",
              "  <style>\n",
              "    .colab-df-container {\n",
              "      display:flex;\n",
              "      flex-wrap:wrap;\n",
              "      gap: 12px;\n",
              "    }\n",
              "\n",
              "    .colab-df-convert {\n",
              "      background-color: #E8F0FE;\n",
              "      border: none;\n",
              "      border-radius: 50%;\n",
              "      cursor: pointer;\n",
              "      display: none;\n",
              "      fill: #1967D2;\n",
              "      height: 32px;\n",
              "      padding: 0 0 0 0;\n",
              "      width: 32px;\n",
              "    }\n",
              "\n",
              "    .colab-df-convert:hover {\n",
              "      background-color: #E2EBFA;\n",
              "      box-shadow: 0px 1px 2px rgba(60, 64, 67, 0.3), 0px 1px 3px 1px rgba(60, 64, 67, 0.15);\n",
              "      fill: #174EA6;\n",
              "    }\n",
              "\n",
              "    [theme=dark] .colab-df-convert {\n",
              "      background-color: #3B4455;\n",
              "      fill: #D2E3FC;\n",
              "    }\n",
              "\n",
              "    [theme=dark] .colab-df-convert:hover {\n",
              "      background-color: #434B5C;\n",
              "      box-shadow: 0px 1px 3px 1px rgba(0, 0, 0, 0.15);\n",
              "      filter: drop-shadow(0px 1px 2px rgba(0, 0, 0, 0.3));\n",
              "      fill: #FFFFFF;\n",
              "    }\n",
              "  </style>\n",
              "\n",
              "      <script>\n",
              "        const buttonEl =\n",
              "          document.querySelector('#df-ddf82da7-f03f-46ea-b5fe-2f2e87b5c0b5 button.colab-df-convert');\n",
              "        buttonEl.style.display =\n",
              "          google.colab.kernel.accessAllowed ? 'block' : 'none';\n",
              "\n",
              "        async function convertToInteractive(key) {\n",
              "          const element = document.querySelector('#df-ddf82da7-f03f-46ea-b5fe-2f2e87b5c0b5');\n",
              "          const dataTable =\n",
              "            await google.colab.kernel.invokeFunction('convertToInteractive',\n",
              "                                                     [key], {});\n",
              "          if (!dataTable) return;\n",
              "\n",
              "          const docLinkHtml = 'Like what you see? Visit the ' +\n",
              "            '<a target=\"_blank\" href=https://colab.research.google.com/notebooks/data_table.ipynb>data table notebook</a>'\n",
              "            + ' to learn more about interactive tables.';\n",
              "          element.innerHTML = '';\n",
              "          dataTable['output_type'] = 'display_data';\n",
              "          await google.colab.output.renderOutput(dataTable, element);\n",
              "          const docLink = document.createElement('div');\n",
              "          docLink.innerHTML = docLinkHtml;\n",
              "          element.appendChild(docLink);\n",
              "        }\n",
              "      </script>\n",
              "    </div>\n",
              "  </div>\n",
              "  "
            ]
          },
          "metadata": {},
          "execution_count": 86
        }
      ]
    },
    {
      "cell_type": "code",
      "source": [
        "graph_labels.value_counts().to_frame()"
      ],
      "metadata": {
        "colab": {
          "base_uri": "https://localhost:8080/",
          "height": 111
        },
        "id": "h2NeHnJ-X_L4",
        "outputId": "c7fc8041-b7a5-4ede-b3a7-abbae1a380c0"
      },
      "execution_count": 87,
      "outputs": [
        {
          "output_type": "execute_result",
          "data": {
            "text/plain": [
              "    label\n",
              "1     125\n",
              "-1     63"
            ],
            "text/html": [
              "\n",
              "  <div id=\"df-243902f1-93d3-488e-8459-0565b5ea96fb\">\n",
              "    <div class=\"colab-df-container\">\n",
              "      <div>\n",
              "<style scoped>\n",
              "    .dataframe tbody tr th:only-of-type {\n",
              "        vertical-align: middle;\n",
              "    }\n",
              "\n",
              "    .dataframe tbody tr th {\n",
              "        vertical-align: top;\n",
              "    }\n",
              "\n",
              "    .dataframe thead th {\n",
              "        text-align: right;\n",
              "    }\n",
              "</style>\n",
              "<table border=\"1\" class=\"dataframe\">\n",
              "  <thead>\n",
              "    <tr style=\"text-align: right;\">\n",
              "      <th></th>\n",
              "      <th>label</th>\n",
              "    </tr>\n",
              "  </thead>\n",
              "  <tbody>\n",
              "    <tr>\n",
              "      <th>1</th>\n",
              "      <td>125</td>\n",
              "    </tr>\n",
              "    <tr>\n",
              "      <th>-1</th>\n",
              "      <td>63</td>\n",
              "    </tr>\n",
              "  </tbody>\n",
              "</table>\n",
              "</div>\n",
              "      <button class=\"colab-df-convert\" onclick=\"convertToInteractive('df-243902f1-93d3-488e-8459-0565b5ea96fb')\"\n",
              "              title=\"Convert this dataframe to an interactive table.\"\n",
              "              style=\"display:none;\">\n",
              "        \n",
              "  <svg xmlns=\"http://www.w3.org/2000/svg\" height=\"24px\"viewBox=\"0 0 24 24\"\n",
              "       width=\"24px\">\n",
              "    <path d=\"M0 0h24v24H0V0z\" fill=\"none\"/>\n",
              "    <path d=\"M18.56 5.44l.94 2.06.94-2.06 2.06-.94-2.06-.94-.94-2.06-.94 2.06-2.06.94zm-11 1L8.5 8.5l.94-2.06 2.06-.94-2.06-.94L8.5 2.5l-.94 2.06-2.06.94zm10 10l.94 2.06.94-2.06 2.06-.94-2.06-.94-.94-2.06-.94 2.06-2.06.94z\"/><path d=\"M17.41 7.96l-1.37-1.37c-.4-.4-.92-.59-1.43-.59-.52 0-1.04.2-1.43.59L10.3 9.45l-7.72 7.72c-.78.78-.78 2.05 0 2.83L4 21.41c.39.39.9.59 1.41.59.51 0 1.02-.2 1.41-.59l7.78-7.78 2.81-2.81c.8-.78.8-2.07 0-2.86zM5.41 20L4 18.59l7.72-7.72 1.47 1.35L5.41 20z\"/>\n",
              "  </svg>\n",
              "      </button>\n",
              "      \n",
              "  <style>\n",
              "    .colab-df-container {\n",
              "      display:flex;\n",
              "      flex-wrap:wrap;\n",
              "      gap: 12px;\n",
              "    }\n",
              "\n",
              "    .colab-df-convert {\n",
              "      background-color: #E8F0FE;\n",
              "      border: none;\n",
              "      border-radius: 50%;\n",
              "      cursor: pointer;\n",
              "      display: none;\n",
              "      fill: #1967D2;\n",
              "      height: 32px;\n",
              "      padding: 0 0 0 0;\n",
              "      width: 32px;\n",
              "    }\n",
              "\n",
              "    .colab-df-convert:hover {\n",
              "      background-color: #E2EBFA;\n",
              "      box-shadow: 0px 1px 2px rgba(60, 64, 67, 0.3), 0px 1px 3px 1px rgba(60, 64, 67, 0.15);\n",
              "      fill: #174EA6;\n",
              "    }\n",
              "\n",
              "    [theme=dark] .colab-df-convert {\n",
              "      background-color: #3B4455;\n",
              "      fill: #D2E3FC;\n",
              "    }\n",
              "\n",
              "    [theme=dark] .colab-df-convert:hover {\n",
              "      background-color: #434B5C;\n",
              "      box-shadow: 0px 1px 3px 1px rgba(0, 0, 0, 0.15);\n",
              "      filter: drop-shadow(0px 1px 2px rgba(0, 0, 0, 0.3));\n",
              "      fill: #FFFFFF;\n",
              "    }\n",
              "  </style>\n",
              "\n",
              "      <script>\n",
              "        const buttonEl =\n",
              "          document.querySelector('#df-243902f1-93d3-488e-8459-0565b5ea96fb button.colab-df-convert');\n",
              "        buttonEl.style.display =\n",
              "          google.colab.kernel.accessAllowed ? 'block' : 'none';\n",
              "\n",
              "        async function convertToInteractive(key) {\n",
              "          const element = document.querySelector('#df-243902f1-93d3-488e-8459-0565b5ea96fb');\n",
              "          const dataTable =\n",
              "            await google.colab.kernel.invokeFunction('convertToInteractive',\n",
              "                                                     [key], {});\n",
              "          if (!dataTable) return;\n",
              "\n",
              "          const docLinkHtml = 'Like what you see? Visit the ' +\n",
              "            '<a target=\"_blank\" href=https://colab.research.google.com/notebooks/data_table.ipynb>data table notebook</a>'\n",
              "            + ' to learn more about interactive tables.';\n",
              "          element.innerHTML = '';\n",
              "          dataTable['output_type'] = 'display_data';\n",
              "          await google.colab.output.renderOutput(dataTable, element);\n",
              "          const docLink = document.createElement('div');\n",
              "          docLink.innerHTML = docLinkHtml;\n",
              "          element.appendChild(docLink);\n",
              "        }\n",
              "      </script>\n",
              "    </div>\n",
              "  </div>\n",
              "  "
            ]
          },
          "metadata": {},
          "execution_count": 87
        }
      ]
    },
    {
      "cell_type": "code",
      "source": [
        "graph_labels = pd.get_dummies(graph_labels, drop_first=True)"
      ],
      "metadata": {
        "id": "Wgks-WJsYCMb"
      },
      "execution_count": 88,
      "outputs": []
    },
    {
      "cell_type": "markdown",
      "source": [
        "## Prepare graph generator"
      ],
      "metadata": {
        "id": "8Nje-a7FYEvY"
      }
    },
    {
      "cell_type": "code",
      "source": [
        "generator = PaddedGraphGenerator(graphs=graphs)"
      ],
      "metadata": {
        "id": "V2RgCPIAYDZl"
      },
      "execution_count": 89,
      "outputs": []
    },
    {
      "cell_type": "markdown",
      "source": [
        "## Create the Keras graph classification model"
      ],
      "metadata": {
        "id": "Y7Ot7hRZYI1S"
      }
    },
    {
      "cell_type": "markdown",
      "source": [
        "![gcn](https://stellargraph.readthedocs.io/en/stable/_images/graph_classification_architecture.png)"
      ],
      "metadata": {
        "id": "ZSgPZKSOYL_d"
      }
    },
    {
      "cell_type": "code",
      "source": [
        "def create_graph_classification_model(generator):\n",
        "    gc_model = GCNSupervisedGraphClassification(\n",
        "        layer_sizes=[64, 64],\n",
        "        activations=[\"relu\", \"relu\"],\n",
        "        generator=generator,\n",
        "        dropout=0.5,\n",
        "    )\n",
        "    x_inp, x_out = gc_model.in_out_tensors()\n",
        "    predictions = Dense(units=32, activation=\"relu\")(x_out)\n",
        "    predictions = Dense(units=16, activation=\"relu\")(predictions)\n",
        "    predictions = Dense(units=1, activation=\"sigmoid\")(predictions)\n",
        "\n",
        "    # Let's create the Keras model and prepare it for training\n",
        "    model = Model(inputs=x_inp, outputs=predictions)\n",
        "    model.compile(optimizer=Adam(0.005), loss=binary_crossentropy, metrics=[\"acc\"])\n",
        "\n",
        "    return model"
      ],
      "metadata": {
        "id": "oxRgWo_cYHVX"
      },
      "execution_count": 90,
      "outputs": []
    },
    {
      "cell_type": "markdown",
      "source": [
        "## Train the model"
      ],
      "metadata": {
        "id": "Uru540vKlb7_"
      }
    },
    {
      "cell_type": "code",
      "source": [
        "epochs = 200  # maximum number of training epochs\n",
        "folds = 10  # the number of folds for k-fold cross validation\n",
        "n_repeats = 5  # the number of repeats for repeated k-fold cross validation"
      ],
      "metadata": {
        "id": "175-wzH4YP5q"
      },
      "execution_count": 91,
      "outputs": []
    },
    {
      "cell_type": "code",
      "source": [
        "es = EarlyStopping(\n",
        "    monitor=\"val_loss\", min_delta=0, patience=25, restore_best_weights=True\n",
        ")"
      ],
      "metadata": {
        "id": "nAJl-hd2ldW-"
      },
      "execution_count": 92,
      "outputs": []
    },
    {
      "cell_type": "code",
      "source": [
        "def train_fold(model, train_gen, test_gen, es, epochs):\n",
        "    history = model.fit(\n",
        "        train_gen, epochs=epochs, validation_data=test_gen, verbose=0, callbacks=[es],\n",
        "    )\n",
        "    # calculate performance on the test data and return along with history\n",
        "    test_metrics = model.evaluate(test_gen, verbose=0)\n",
        "    test_acc = test_metrics[model.metrics_names.index(\"acc\")]\n",
        "\n",
        "    return history, test_acc"
      ],
      "metadata": {
        "id": "ZtWBvQ2-lebJ"
      },
      "execution_count": 93,
      "outputs": []
    },
    {
      "cell_type": "code",
      "source": [
        "def get_generators(train_index, test_index, graph_labels, batch_size):\n",
        "    train_gen = generator.flow(\n",
        "        train_index, targets=graph_labels.iloc[train_index].values, batch_size=batch_size\n",
        "    )\n",
        "    test_gen = generator.flow(\n",
        "        test_index, targets=graph_labels.iloc[test_index].values, batch_size=batch_size\n",
        "    )\n",
        "\n",
        "    return train_gen, test_gen"
      ],
      "metadata": {
        "id": "_uDAMTODlg_N"
      },
      "execution_count": 94,
      "outputs": []
    },
    {
      "cell_type": "code",
      "source": [
        "test_accs = []\n",
        "\n",
        "stratified_folds = model_selection.RepeatedStratifiedKFold(\n",
        "    n_splits=folds, n_repeats=n_repeats\n",
        ").split(graph_labels, graph_labels)\n",
        "\n",
        "for i, (train_index, test_index) in enumerate(stratified_folds):\n",
        "    print(f\"Training and evaluating on fold {i+1} out of {folds * n_repeats}...\")\n",
        "    train_gen, test_gen = get_generators(\n",
        "        train_index, test_index, graph_labels, batch_size=30\n",
        "    )\n",
        "\n",
        "    model = create_graph_classification_model(generator)\n",
        "\n",
        "    history, acc = train_fold(model, train_gen, test_gen, es, epochs)\n",
        "\n",
        "    test_accs.append(acc)"
      ],
      "metadata": {
        "colab": {
          "base_uri": "https://localhost:8080/"
        },
        "id": "IArIisq7liJc",
        "outputId": "85d742fd-4f50-4845-9978-11aa5940d41d"
      },
      "execution_count": 95,
      "outputs": [
        {
          "output_type": "stream",
          "name": "stdout",
          "text": [
            "Training and evaluating on fold 1 out of 50...\n",
            "Training and evaluating on fold 2 out of 50...\n",
            "Training and evaluating on fold 3 out of 50...\n",
            "Training and evaluating on fold 4 out of 50...\n",
            "Training and evaluating on fold 5 out of 50...\n",
            "Training and evaluating on fold 6 out of 50...\n",
            "Training and evaluating on fold 7 out of 50...\n",
            "Training and evaluating on fold 8 out of 50...\n",
            "Training and evaluating on fold 9 out of 50...\n",
            "Training and evaluating on fold 10 out of 50...\n",
            "Training and evaluating on fold 11 out of 50...\n",
            "Training and evaluating on fold 12 out of 50...\n",
            "Training and evaluating on fold 13 out of 50...\n",
            "Training and evaluating on fold 14 out of 50...\n",
            "Training and evaluating on fold 15 out of 50...\n",
            "Training and evaluating on fold 16 out of 50...\n",
            "Training and evaluating on fold 17 out of 50...\n",
            "Training and evaluating on fold 18 out of 50...\n",
            "Training and evaluating on fold 19 out of 50...\n",
            "Training and evaluating on fold 20 out of 50...\n",
            "Training and evaluating on fold 21 out of 50...\n",
            "Training and evaluating on fold 22 out of 50...\n",
            "Training and evaluating on fold 23 out of 50...\n",
            "Training and evaluating on fold 24 out of 50...\n",
            "Training and evaluating on fold 25 out of 50...\n",
            "Training and evaluating on fold 26 out of 50...\n",
            "Training and evaluating on fold 27 out of 50...\n",
            "Training and evaluating on fold 28 out of 50...\n",
            "Training and evaluating on fold 29 out of 50...\n",
            "Training and evaluating on fold 30 out of 50...\n",
            "Training and evaluating on fold 31 out of 50...\n",
            "Training and evaluating on fold 32 out of 50...\n",
            "Training and evaluating on fold 33 out of 50...\n",
            "Training and evaluating on fold 34 out of 50...\n",
            "Training and evaluating on fold 35 out of 50...\n",
            "Training and evaluating on fold 36 out of 50...\n",
            "Training and evaluating on fold 37 out of 50...\n",
            "Training and evaluating on fold 38 out of 50...\n",
            "Training and evaluating on fold 39 out of 50...\n",
            "Training and evaluating on fold 40 out of 50...\n",
            "Training and evaluating on fold 41 out of 50...\n",
            "Training and evaluating on fold 42 out of 50...\n",
            "Training and evaluating on fold 43 out of 50...\n",
            "Training and evaluating on fold 44 out of 50...\n",
            "Training and evaluating on fold 45 out of 50...\n",
            "Training and evaluating on fold 46 out of 50...\n",
            "Training and evaluating on fold 47 out of 50...\n",
            "Training and evaluating on fold 48 out of 50...\n",
            "Training and evaluating on fold 49 out of 50...\n",
            "Training and evaluating on fold 50 out of 50...\n"
          ]
        }
      ]
    },
    {
      "cell_type": "code",
      "source": [
        "print(\n",
        "    f\"Accuracy over all folds mean: {np.mean(test_accs)*100:.3}% and std: {np.std(test_accs)*100:.2}%\"\n",
        ")"
      ],
      "metadata": {
        "colab": {
          "base_uri": "https://localhost:8080/"
        },
        "id": "VB_BGI1hllKS",
        "outputId": "82357b61-39ad-455e-9fa4-f0c1a782e79a"
      },
      "execution_count": 96,
      "outputs": [
        {
          "output_type": "stream",
          "name": "stdout",
          "text": [
            "Accuracy over all folds mean: 75.8% and std: 6.6%\n"
          ]
        }
      ]
    },
    {
      "cell_type": "code",
      "source": [
        "plt.figure(figsize=(8, 6))\n",
        "plt.hist(test_accs)\n",
        "plt.xlabel(\"Accuracy\")\n",
        "plt.ylabel(\"Count\")"
      ],
      "metadata": {
        "colab": {
          "base_uri": "https://localhost:8080/",
          "height": 405
        },
        "id": "z7CXdjmilnJ5",
        "outputId": "79b80457-0f7d-440a-daaa-469edfe39bdf"
      },
      "execution_count": 97,
      "outputs": [
        {
          "output_type": "execute_result",
          "data": {
            "text/plain": [
              "Text(0, 0.5, 'Count')"
            ]
          },
          "metadata": {},
          "execution_count": 97
        },
        {
          "output_type": "display_data",
          "data": {
            "text/plain": [
              "<Figure size 576x432 with 1 Axes>"
            ],
            "image/png": "[encoded data removed]"
          },
          "metadata": {
            "needs_background": "light"
          }
        }
      ]
    },
    {
      "cell_type": "code",
      "source": [
        "print(generator)"
      ],
      "metadata": {
        "colab": {
          "base_uri": "https://localhost:8080/"
        },
        "id": "1VQ9DTMPlorU",
        "outputId": "69ebae6f-b5c5-4b53-8731-fdbbfd16b6e4"
      },
      "execution_count": 98,
      "outputs": [
        {
          "output_type": "stream",
          "name": "stdout",
          "text": [
            "<stellargraph.mapper.padded_graph_generator.PaddedGraphGenerator object at 0x7f3d932d14d0>\n"
          ]
        }
      ]
    },
    {
      "cell_type": "code",
      "source": [
        "print(graphs)"
      ],
      "metadata": {
        "colab": {
          "base_uri": "https://localhost:8080/"
        },
        "id": "UHVRulVfp4pL",
        "outputId": "eef615c7-6b25-4d87-d09b-542030559f65"
      },
      "execution_count": 99,
      "outputs": [
        {
          "output_type": "stream",
          "name": "stdout",
          "text": [
            "[<stellargraph.core.graph.StellarGraph object at 0x7f3d9314aa10>, <stellargraph.core.graph.StellarGraph object at 0x7f3d9334b7d0>, <stellargraph.core.graph.StellarGraph object at 0x7f3d922c5790>, <stellargraph.core.graph.StellarGraph object at 0x7f3d922c5d50>, <stellargraph.core.graph.StellarGraph object at 0x7f3d9334b8d0>, <stellargraph.core.graph.StellarGraph object at 0x7f3d9314ae90>, <stellargraph.core.graph.StellarGraph object at 0x7f3d922c5410>, <stellargraph.core.graph.StellarGraph object at 0x7f3d922d5e50>, <stellargraph.core.graph.StellarGraph object at 0x7f3d922d5490>, <stellargraph.core.graph.StellarGraph object at 0x7f3d922d5a50>, <stellargraph.core.graph.StellarGraph object at 0x7f3d9317aad0>, <stellargraph.core.graph.StellarGraph object at 0x7f3d931a7c10>, <stellargraph.core.graph.StellarGraph object at 0x7f3d93158cd0>, <stellargraph.core.graph.StellarGraph object at 0x7f3d93158e10>, <stellargraph.core.graph.StellarGraph object at 0x7f3d93341450>, <stellargraph.core.graph.StellarGraph object at 0x7f3d93158290>, <stellargraph.core.graph.StellarGraph object at 0x7f3d93452c90>, <stellargraph.core.graph.StellarGraph object at 0x7f3d93452f90>, <stellargraph.core.graph.StellarGraph object at 0x7f3d93158890>, <stellargraph.core.graph.StellarGraph object at 0x7f3d9344ce90>, <stellargraph.core.graph.StellarGraph object at 0x7f3d9344cfd0>, <stellargraph.core.graph.StellarGraph object at 0x7f3d93452ad0>, <stellargraph.core.graph.StellarGraph object at 0x7f3d93442d10>, <stellargraph.core.graph.StellarGraph object at 0x7f3d93442e50>, <stellargraph.core.graph.StellarGraph object at 0x7f3d9344ca50>, <stellargraph.core.graph.StellarGraph object at 0x7f3d93442290>, <stellargraph.core.graph.StellarGraph object at 0x7f3d93461cd0>, <stellargraph.core.graph.StellarGraph object at 0x7f3d93461fd0>, <stellargraph.core.graph.StellarGraph object at 0x7f3d934428d0>, <stellargraph.core.graph.StellarGraph object at 0x7f3d93466ed0>, <stellargraph.core.graph.StellarGraph object at 0x7f3d93466e50>, <stellargraph.core.graph.StellarGraph object at 0x7f3d93461b10>, <stellargraph.core.graph.StellarGraph object at 0x7f3d9346ad50>, <stellargraph.core.graph.StellarGraph object at 0x7f3d9346ae90>, <stellargraph.core.graph.StellarGraph object at 0x7f3d93466a90>, <stellargraph.core.graph.StellarGraph object at 0x7f3d93470bd0>, <stellargraph.core.graph.StellarGraph object at 0x7f3d93470d10>, <stellargraph.core.graph.StellarGraph object at 0x7f3d93470f90>, <stellargraph.core.graph.StellarGraph object at 0x7f3d9346a910>, <stellargraph.core.graph.StellarGraph object at 0x7f3d93475f10>, <stellargraph.core.graph.StellarGraph object at 0x7f3d93475e90>, <stellargraph.core.graph.StellarGraph object at 0x7f3d93470b50>, <stellargraph.core.graph.StellarGraph object at 0x7f3d9347bd90>, <stellargraph.core.graph.StellarGraph object at 0x7f3d9347bed0>, <stellargraph.core.graph.StellarGraph object at 0x7f3d93475ad0>, <stellargraph.core.graph.StellarGraph object at 0x7f3d93400c10>, <stellargraph.core.graph.StellarGraph object at 0x7f3d93400d50>, <stellargraph.core.graph.StellarGraph object at 0x7f3d9347b950>, <stellargraph.core.graph.StellarGraph object at 0x7f3d93400190>, <stellargraph.core.graph.StellarGraph object at 0x7f3d93404f50>, <stellargraph.core.graph.StellarGraph object at 0x7f3d93404f10>, <stellargraph.core.graph.StellarGraph object at 0x7f3d934007d0>, <stellargraph.core.graph.StellarGraph object at 0x7f3d9340add0>, <stellargraph.core.graph.StellarGraph object at 0x7f3d9340af10>, <stellargraph.core.graph.StellarGraph object at 0x7f3d93404bd0>, <stellargraph.core.graph.StellarGraph object at 0x7f3d9340ec50>, <stellargraph.core.graph.StellarGraph object at 0x7f3d9340ed90>, <stellargraph.core.graph.StellarGraph object at 0x7f3d9340a990>, <stellargraph.core.graph.StellarGraph object at 0x7f3d9340e190>, <stellargraph.core.graph.StellarGraph object at 0x7f3d93414c10>, <stellargraph.core.graph.StellarGraph object at 0x7f3d93414f90>, <stellargraph.core.graph.StellarGraph object at 0x7f3d9340e810>, <stellargraph.core.graph.StellarGraph object at 0x7f3d93419e10>, <stellargraph.core.graph.StellarGraph object at 0x7f3d93419f50>, <stellargraph.core.graph.StellarGraph object at 0x7f3d93414a50>, <stellargraph.core.graph.StellarGraph object at 0x7f3d9341ec90>, <stellargraph.core.graph.StellarGraph object at 0x7f3d9341edd0>, <stellargraph.core.graph.StellarGraph object at 0x7f3d934199d0>, <stellargraph.core.graph.StellarGraph object at 0x7f3d9341e210>, <stellargraph.core.graph.StellarGraph object at 0x7f3d93426c50>, <stellargraph.core.graph.StellarGraph object at 0x7f3d93426fd0>, <stellargraph.core.graph.StellarGraph object at 0x7f3d9341e850>, <stellargraph.core.graph.StellarGraph object at 0x7f3d9342be50>, <stellargraph.core.graph.StellarGraph object at 0x7f3d9342bf90>, <stellargraph.core.graph.StellarGraph object at 0x7f3d93426a90>, <stellargraph.core.graph.StellarGraph object at 0x7f3d93430cd0>, <stellargraph.core.graph.StellarGraph object at 0x7f3d93430e10>, <stellargraph.core.graph.StellarGraph object at 0x7f3d9342ba10>, <stellargraph.core.graph.StellarGraph object at 0x7f3d93430250>, <stellargraph.core.graph.StellarGraph object at 0x7f3d9343ac90>, <stellargraph.core.graph.StellarGraph object at 0x7f3d9343af90>, <stellargraph.core.graph.StellarGraph object at 0x7f3d93430890>, <stellargraph.core.graph.StellarGraph object at 0x7f3d933c0e90>, <stellargraph.core.graph.StellarGraph object at 0x7f3d933c0fd0>, <stellargraph.core.graph.StellarGraph object at 0x7f3d9343aad0>, <stellargraph.core.graph.StellarGraph object at 0x7f3d933c7d10>, <stellargraph.core.graph.StellarGraph object at 0x7f3d933c7e50>, <stellargraph.core.graph.StellarGraph object at 0x7f3d933c0a50>, <stellargraph.core.graph.StellarGraph object at 0x7f3d933c7290>, <stellargraph.core.graph.StellarGraph object at 0x7f3d933cccd0>, <stellargraph.core.graph.StellarGraph object at 0x7f3d933ccfd0>, <stellargraph.core.graph.StellarGraph object at 0x7f3d933c78d0>, <stellargraph.core.graph.StellarGraph object at 0x7f3d933d4ed0>, <stellargraph.core.graph.StellarGraph object at 0x7f3d933d4e50>, <stellargraph.core.graph.StellarGraph object at 0x7f3d933ccb10>, <stellargraph.core.graph.StellarGraph object at 0x7f3d933d8d50>, <stellargraph.core.graph.StellarGraph object at 0x7f3d933d8e90>, <stellargraph.core.graph.StellarGraph object at 0x7f3d933d4a90>, <stellargraph.core.graph.StellarGraph object at 0x7f3d933e0bd0>, <stellargraph.core.graph.StellarGraph object at 0x7f3d933e0d10>, <stellargraph.core.graph.StellarGraph object at 0x7f3d933e0f90>, <stellargraph.core.graph.StellarGraph object at 0x7f3d933d8910>, <stellargraph.core.graph.StellarGraph object at 0x7f3d933e7f10>, <stellargraph.core.graph.StellarGraph object at 0x7f3d933e7e90>, <stellargraph.core.graph.StellarGraph object at 0x7f3d933e0b50>, <stellargraph.core.graph.StellarGraph object at 0x7f3d933edd90>, <stellargraph.core.graph.StellarGraph object at 0x7f3d933eded0>, <stellargraph.core.graph.StellarGraph object at 0x7f3d933e7ad0>, <stellargraph.core.graph.StellarGraph object at 0x7f3d933f5c10>, <stellargraph.core.graph.StellarGraph object at 0x7f3d933f5d50>, <stellargraph.core.graph.StellarGraph object at 0x7f3d933ed950>, <stellargraph.core.graph.StellarGraph object at 0x7f3d933f5190>, <stellargraph.core.graph.StellarGraph object at 0x7f3d933faf50>, <stellargraph.core.graph.StellarGraph object at 0x7f3d933faf10>, <stellargraph.core.graph.StellarGraph object at 0x7f3d933f57d0>, <stellargraph.core.graph.StellarGraph object at 0x7f3d93381dd0>, <stellargraph.core.graph.StellarGraph object at 0x7f3d93381f10>, <stellargraph.core.graph.StellarGraph object at 0x7f3d933fabd0>, <stellargraph.core.graph.StellarGraph object at 0x7f3d93389c50>, <stellargraph.core.graph.StellarGraph object at 0x7f3d93389d90>, <stellargraph.core.graph.StellarGraph object at 0x7f3d93381990>, <stellargraph.core.graph.StellarGraph object at 0x7f3d93389190>, <stellargraph.core.graph.StellarGraph object at 0x7f3d9338ec10>, <stellargraph.core.graph.StellarGraph object at 0x7f3d9338ef90>, <stellargraph.core.graph.StellarGraph object at 0x7f3d93389810>, <stellargraph.core.graph.StellarGraph object at 0x7f3d93395e10>, <stellargraph.core.graph.StellarGraph object at 0x7f3d93395f50>, <stellargraph.core.graph.StellarGraph object at 0x7f3d9338ea50>, <stellargraph.core.graph.StellarGraph object at 0x7f3d9339bc90>, <stellargraph.core.graph.StellarGraph object at 0x7f3d9339bdd0>, <stellargraph.core.graph.StellarGraph object at 0x7f3d933959d0>, <stellargraph.core.graph.StellarGraph object at 0x7f3d9339b210>, <stellargraph.core.graph.StellarGraph object at 0x7f3d933a2c50>, <stellargraph.core.graph.StellarGraph object at 0x7f3d933a2fd0>, <stellargraph.core.graph.StellarGraph object at 0x7f3d9339b850>, <stellargraph.core.graph.StellarGraph object at 0x7f3d933a8e50>, <stellargraph.core.graph.StellarGraph object at 0x7f3d933a8f90>, <stellargraph.core.graph.StellarGraph object at 0x7f3d933a2a90>, <stellargraph.core.graph.StellarGraph object at 0x7f3d933adcd0>, <stellargraph.core.graph.StellarGraph object at 0x7f3d933ade10>, <stellargraph.core.graph.StellarGraph object at 0x7f3d933a8a10>, <stellargraph.core.graph.StellarGraph object at 0x7f3d933ad250>, <stellargraph.core.graph.StellarGraph object at 0x7f3d933b7c90>, <stellargraph.core.graph.StellarGraph object at 0x7f3d933b7f90>, <stellargraph.core.graph.StellarGraph object at 0x7f3d933ad890>, <stellargraph.core.graph.StellarGraph object at 0x7f3d932fde90>, <stellargraph.core.graph.StellarGraph object at 0x7f3d932fdfd0>, <stellargraph.core.graph.StellarGraph object at 0x7f3d933b7ad0>, <stellargraph.core.graph.StellarGraph object at 0x7f3d93303d10>, <stellargraph.core.graph.StellarGraph object at 0x7f3d93303e50>, <stellargraph.core.graph.StellarGraph object at 0x7f3d932fda50>, <stellargraph.core.graph.StellarGraph object at 0x7f3d93303290>, <stellargraph.core.graph.StellarGraph object at 0x7f3d93309cd0>, <stellargraph.core.graph.StellarGraph object at 0x7f3d93309fd0>, <stellargraph.core.graph.StellarGraph object at 0x7f3d933038d0>, <stellargraph.core.graph.StellarGraph object at 0x7f3d9330fed0>, <stellargraph.core.graph.StellarGraph object at 0x7f3d9330fe50>, <stellargraph.core.graph.StellarGraph object at 0x7f3d93309b10>, <stellargraph.core.graph.StellarGraph object at 0x7f3d93315d50>, <stellargraph.core.graph.StellarGraph object at 0x7f3d93315e90>, <stellargraph.core.graph.StellarGraph object at 0x7f3d9330fa90>, <stellargraph.core.graph.StellarGraph object at 0x7f3d9331cbd0>, <stellargraph.core.graph.StellarGraph object at 0x7f3d9331cd10>, <stellargraph.core.graph.StellarGraph object at 0x7f3d9331cf90>, <stellargraph.core.graph.StellarGraph object at 0x7f3d93315910>, <stellargraph.core.graph.StellarGraph object at 0x7f3d93323f10>, <stellargraph.core.graph.StellarGraph object at 0x7f3d93323e90>, <stellargraph.core.graph.StellarGraph object at 0x7f3d9331cb50>, <stellargraph.core.graph.StellarGraph object at 0x7f3d9332ad90>, <stellargraph.core.graph.StellarGraph object at 0x7f3d9332aed0>, <stellargraph.core.graph.StellarGraph object at 0x7f3d93323ad0>, <stellargraph.core.graph.StellarGraph object at 0x7f3d93331c10>, <stellargraph.core.graph.StellarGraph object at 0x7f3d93331d50>, <stellargraph.core.graph.StellarGraph object at 0x7f3d9332a950>, <stellargraph.core.graph.StellarGraph object at 0x7f3d93331190>, <stellargraph.core.graph.StellarGraph object at 0x7f3d93337f50>, <stellargraph.core.graph.StellarGraph object at 0x7f3d93337f10>, <stellargraph.core.graph.StellarGraph object at 0x7f3d933317d0>, <stellargraph.core.graph.StellarGraph object at 0x7f3d932bddd0>, <stellargraph.core.graph.StellarGraph object at 0x7f3d932bdf10>, <stellargraph.core.graph.StellarGraph object at 0x7f3d93337bd0>, <stellargraph.core.graph.StellarGraph object at 0x7f3d932c4c50>, <stellargraph.core.graph.StellarGraph object at 0x7f3d932c4d90>, <stellargraph.core.graph.StellarGraph object at 0x7f3d932bd990>, <stellargraph.core.graph.StellarGraph object at 0x7f3d932c4190>, <stellargraph.core.graph.StellarGraph object at 0x7f3d932cac10>, <stellargraph.core.graph.StellarGraph object at 0x7f3d932caf90>, <stellargraph.core.graph.StellarGraph object at 0x7f3d932c4810>]\n"
          ]
        }
      ]
    }
  ]
}